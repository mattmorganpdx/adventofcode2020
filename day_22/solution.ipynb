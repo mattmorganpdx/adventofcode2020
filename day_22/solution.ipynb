{
  "nbformat": 4,
  "nbformat_minor": 0,
  "metadata": {
    "kernelspec": {
      "display_name": "Python 3",
      "language": "python",
      "name": "python3"
    },
    "language_info": {
      "codemirror_mode": {
        "name": "ipython",
        "version": 3
      },
      "file_extension": ".py",
      "mimetype": "text/x-python",
      "name": "python",
      "nbconvert_exporter": "python",
      "pygments_lexer": "ipython3",
      "version": "3.8.5"
    },
    "colab": {
      "name": "solution.ipynb",
      "provenance": [],
      "include_colab_link": true
    }
  },
  "cells": [
    {
      "cell_type": "markdown",
      "metadata": {
        "id": "view-in-github",
        "colab_type": "text"
      },
      "source": [
        "<a href=\"https://colab.research.google.com/github/mattmorganpdx/adventofcode2020/blob/main/day_22/solution.ipynb\" target=\"_parent\"><img src=\"https://colab.research.google.com/assets/colab-badge.svg\" alt=\"Open In Colab\"/></a>"
      ]
    },
    {
      "cell_type": "code",
      "metadata": {
        "id": "RqjGLK1NMF7G"
      },
      "source": [
        "from urllib import request\n",
        "\n",
        "day = \"22\"\n",
        "\n",
        "def load_input():\n",
        "  input_url = f\"https://raw.githubusercontent.com/mattmorganpdx/adventofcode2020/main/day_{day}/input.txt\"\n",
        "  response = request.urlopen(input_url)\n",
        "  return [line.decode('utf-8') for line in response.read().splitlines()]\n"
      ],
      "execution_count": 86,
      "outputs": []
    },
    {
      "cell_type": "code",
      "metadata": {
        "id": "au8IVN5LMsHf"
      },
      "source": [
        "input = load_input()"
      ],
      "execution_count": 87,
      "outputs": []
    },
    {
      "cell_type": "code",
      "metadata": {
        "id": "yQ4_kmTZNabN"
      },
      "source": [
        "test_input = '''Player 1:\r\n",
        "9\r\n",
        "2\r\n",
        "6\r\n",
        "3\r\n",
        "1\r\n",
        "\r\n",
        "Player 2:\r\n",
        "5\r\n",
        "8\r\n",
        "4\r\n",
        "7\r\n",
        "10'''.splitlines()"
      ],
      "execution_count": 88,
      "outputs": []
    },
    {
      "cell_type": "code",
      "metadata": {
        "colab": {
          "base_uri": "https://localhost:8080/"
        },
        "id": "aiNayGNA2AG1",
        "outputId": "e42052ed-0ea3-4310-fe8e-54f585e87207"
      },
      "source": [
        "# Part 1\r\n",
        "p1 = [int(x) for x in input[1:input.index('')]]\r\n",
        "p2 = [int(x) for x in input[input.index('') + 2:]]\r\n",
        "\r\n",
        "round = 0\r\n",
        "while p1 and p2:\r\n",
        "  n1, n2 = p1.pop(0), p2.pop(0)\r\n",
        "  if n1 > n2:\r\n",
        "    p1.append(n1)\r\n",
        "    p1.append(n2)\r\n",
        "  else:\r\n",
        "    p2.append(n2)\r\n",
        "    p2.append(n1)\r\n",
        "  round += 1\r\n",
        "\r\n",
        "\r\n",
        "print(round)\r\n",
        "print(sum([x * (idx + 1) for idx, x in enumerate(p1[::-1])]))\r\n",
        "print(sum([x * (idx + 1) for idx, x in enumerate(p2[::-1])]))"
      ],
      "execution_count": 89,
      "outputs": [
        {
          "output_type": "stream",
          "text": [
            "271\n",
            "32199\n",
            "0\n"
          ],
          "name": "stdout"
        }
      ]
    },
    {
      "cell_type": "code",
      "metadata": {
        "id": "mqnH6FDlCLWc"
      },
      "source": [
        "test_input = '''Player 1:\r\n",
        "43\r\n",
        "19\r\n",
        "\r\n",
        "Player 2:\r\n",
        "2\r\n",
        "29\r\n",
        "14'''.splitlines()"
      ],
      "execution_count": 56,
      "outputs": []
    },
    {
      "cell_type": "code",
      "metadata": {
        "colab": {
          "base_uri": "https://localhost:8080/"
        },
        "id": "rKw8orCL2IcN",
        "outputId": "93027537-9b90-45b1-e0d6-9c9d5afcb008"
      },
      "source": [
        "# Part 2\r\n",
        "\r\n",
        "p1 = tuple([int(x) for x in input[1:input.index('')]])\r\n",
        "p2 = tuple([int(x) for x in input[input.index('') + 2:]])\r\n",
        "\r\n",
        "def play(p1, p2):\r\n",
        "  round = 0\r\n",
        "  p1_memory = set()\r\n",
        "  p2_memory = set()\r\n",
        "  while p1 and p2:\r\n",
        "    if p1 not in p1_memory and p2 not in p2_memory:\r\n",
        "      p1_memory.add(p1)\r\n",
        "      p2_memory.add(p2)\r\n",
        "    else:\r\n",
        "      return p1, ()\r\n",
        "    \r\n",
        "    n1, n2 = p1[0], p2[0]\r\n",
        "    p1, p2 = p1[1:], p2[1:]\r\n",
        "\r\n",
        "    s1, s2 = [], []\r\n",
        "    if len(p1) >= n1 and len(p2) >= n2:\r\n",
        "      s1, s2 = play(p1[:n1], p2[:n2])\r\n",
        "    if len(s1) > 0 or len(s2) > 0:\r\n",
        "      if not s2 or len(s1) > len(s2):\r\n",
        "        np1 = p1 + (n1, n2)\r\n",
        "        p1 = np1\r\n",
        "      else:\r\n",
        "        np2 = p2 + (n2, n1)\r\n",
        "        p2 = np2\r\n",
        "    else:\r\n",
        "      if n1 > n2:\r\n",
        "        np1 = p1 + (n1, n2)\r\n",
        "        p1 = np1\r\n",
        "      else:\r\n",
        "        np2 = p2 + (n2, n1)\r\n",
        "        p2 = np2\r\n",
        "  return p1, p2\r\n",
        "\r\n",
        "\r\n",
        "p1, p2 = play(p1, p2)\r\n",
        "print(sum([x * (idx + 1) for idx, x in enumerate(p1[::-1])]))\r\n",
        "print(sum([x * (idx + 1) for idx, x in enumerate(p2[::-1])]))"
      ],
      "execution_count": 101,
      "outputs": [
        {
          "output_type": "stream",
          "text": [
            "33780\n",
            "0\n"
          ],
          "name": "stdout"
        }
      ]
    }
  ]
}