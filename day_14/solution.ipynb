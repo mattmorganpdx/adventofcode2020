{
  "nbformat": 4,
  "nbformat_minor": 0,
  "metadata": {
    "kernelspec": {
      "display_name": "Python 3",
      "language": "python",
      "name": "python3"
    },
    "language_info": {
      "codemirror_mode": {
        "name": "ipython",
        "version": 3
      },
      "file_extension": ".py",
      "mimetype": "text/x-python",
      "name": "python",
      "nbconvert_exporter": "python",
      "pygments_lexer": "ipython3",
      "version": "3.8.5"
    },
    "colab": {
      "name": "solution.ipynb",
      "provenance": [],
      "include_colab_link": true
    }
  },
  "cells": [
    {
      "cell_type": "markdown",
      "metadata": {
        "id": "view-in-github",
        "colab_type": "text"
      },
      "source": [
        "<a href=\"https://colab.research.google.com/github/mattmorganpdx/adventofcode2020/blob/main/day_14/solution.ipynb\" target=\"_parent\"><img src=\"https://colab.research.google.com/assets/colab-badge.svg\" alt=\"Open In Colab\"/></a>"
      ]
    },
    {
      "cell_type": "code",
      "metadata": {
        "id": "RqjGLK1NMF7G"
      },
      "source": [
        "from urllib import request\n",
        "\n",
        "day = \"14\"\n",
        "\n",
        "def load_input():\n",
        "  input_url = f\"https://raw.githubusercontent.com/mattmorganpdx/adventofcode2020/main/day_{day}/input.txt\"\n",
        "  response = request.urlopen(input_url)\n",
        "  return [line.decode('utf-8') for line in response.read().splitlines()]\n"
      ],
      "execution_count": 20,
      "outputs": []
    },
    {
      "cell_type": "code",
      "metadata": {
        "id": "au8IVN5LMsHf"
      },
      "source": [
        "input = load_input()"
      ],
      "execution_count": 21,
      "outputs": []
    },
    {
      "cell_type": "code",
      "metadata": {
        "colab": {
          "base_uri": "https://localhost:8080/"
        },
        "id": "chnX6tT8qw-P",
        "outputId": "f073d53c-2d38-4165-97bc-32859bcd1e4b"
      },
      "source": [
        "# Part 1\r\n",
        "\r\n",
        "import re\r\n",
        "\r\n",
        "mask = ''\r\n",
        "memory = {}\r\n",
        "\r\n",
        "for i in input:\r\n",
        "  c,v = i.split(' = ')[0], i.split(' = ')[1]\r\n",
        "  if c == 'mask':\r\n",
        "    mask = v\r\n",
        "  else:\r\n",
        "    location = int(re.search(r'(?<=mem\\[)[0-9]+', c).group(0))\r\n",
        "    bin_l = f'{int(v):#038b}'[2:]\r\n",
        "    new_value = int(''.join([y if x == 'X' else x for x,y in zip(mask, bin_l)]), 2)\r\n",
        "    memory[location] = new_value\r\n",
        "\r\n",
        "print(sum(memory.values()))"
      ],
      "execution_count": 22,
      "outputs": [
        {
          "output_type": "stream",
          "text": [
            "7611244640053\n"
          ],
          "name": "stdout"
        }
      ]
    },
    {
      "cell_type": "code",
      "metadata": {
        "colab": {
          "base_uri": "https://localhost:8080/"
        },
        "id": "7biqcV0hspxk",
        "outputId": "31310e14-bd72-4fa2-9d94-e6a1a4fef21a"
      },
      "source": [
        "# Part 2\r\n",
        "\r\n",
        "import re\r\n",
        "\r\n",
        "mask = ''\r\n",
        "memory = {}\r\n",
        "\r\n",
        "def branch(mask, location, value, new_location=''):\r\n",
        "  \r\n",
        "  if len(location) == 0:\r\n",
        "    memory[new_location] = value\r\n",
        "  elif mask[0] == 'X':\r\n",
        "    branch(mask[1:], location[1:], value, new_location + '0')\r\n",
        "    branch(mask[1:], location[1:], value, new_location + '1')\r\n",
        "  elif mask[0] == '1':\r\n",
        "    branch(mask[1:], location[1:], value, new_location + '1')\r\n",
        "  else:\r\n",
        "    branch(mask[1:], location[1:], value, new_location + location[0])\r\n",
        "\r\n",
        "for i in input:\r\n",
        "  c,v = i.split(' = ')[0], i.split(' = ')[1]\r\n",
        "  if c == 'mask':\r\n",
        "    mask = v\r\n",
        "  else:\r\n",
        "    location = int(re.search(r'(?<=mem\\[)[0-9]+', c).group(0))\r\n",
        "    location = f'{location:#038b}'[2:]\r\n",
        "    value = int(v)\r\n",
        "    branch(mask, location, value)\r\n",
        "\r\n",
        "print(sum(memory.values()))"
      ],
      "execution_count": 23,
      "outputs": [
        {
          "output_type": "stream",
          "text": [
            "3705162613854\n"
          ],
          "name": "stdout"
        }
      ]
    },
    {
      "cell_type": "code",
      "metadata": {
        "id": "gyZTlft1fAkG"
      },
      "source": [
        ""
      ],
      "execution_count": null,
      "outputs": []
    }
  ]
}