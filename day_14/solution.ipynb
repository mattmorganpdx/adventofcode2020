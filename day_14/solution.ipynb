{
  "nbformat": 4,
  "nbformat_minor": 0,
  "metadata": {
    "kernelspec": {
      "display_name": "Python 3",
      "language": "python",
      "name": "python3"
    },
    "language_info": {
      "codemirror_mode": {
        "name": "ipython",
        "version": 3
      },
      "file_extension": ".py",
      "mimetype": "text/x-python",
      "name": "python",
      "nbconvert_exporter": "python",
      "pygments_lexer": "ipython3",
      "version": "3.8.5"
    },
    "colab": {
      "name": "solution.ipynb",
      "provenance": [],
      "include_colab_link": true
    }
  },
  "cells": [
    {
      "cell_type": "markdown",
      "metadata": {
        "id": "view-in-github",
        "colab_type": "text"
      },
      "source": [
        "<a href=\"https://colab.research.google.com/github/mattmorganpdx/adventofcode2020/blob/main/day_14/solution.ipynb\" target=\"_parent\"><img src=\"https://colab.research.google.com/assets/colab-badge.svg\" alt=\"Open In Colab\"/></a>"
      ]
    },
    {
      "cell_type": "code",
      "metadata": {
        "id": "RqjGLK1NMF7G"
      },
      "source": [
        "from urllib import request\n",
        "\n",
        "day = \"14\"\n",
        "\n",
        "def load_input():\n",
        "  input_url = f\"https://raw.githubusercontent.com/mattmorganpdx/adventofcode2020/main/day_{day}/input.txt\"\n",
        "  response = request.urlopen(input_url)\n",
        "  return [line.decode('utf-8') for line in response.read().splitlines()]\n"
      ],
      "execution_count": 1,
      "outputs": []
    },
    {
      "cell_type": "code",
      "metadata": {
        "id": "au8IVN5LMsHf"
      },
      "source": [
        "input = load_input()"
      ],
      "execution_count": 2,
      "outputs": []
    },
    {
      "cell_type": "code",
      "metadata": {
        "id": "sB1pZ77Wqv45"
      },
      "source": [
        "test_input ='''mask = XXXXXXXXXXXXXXXXXXXXXXXXXXXXX1XXXX0X\r\n",
        "mem[8] = 11\r\n",
        "mem[7] = 101\r\n",
        "mem[8] = 0'''.splitlines()"
      ],
      "execution_count": 50,
      "outputs": []
    },
    {
      "cell_type": "code",
      "metadata": {
        "colab": {
          "base_uri": "https://localhost:8080/"
        },
        "id": "chnX6tT8qw-P",
        "outputId": "c989b0e6-c0ba-4a7d-a88e-09ddbdbdaa40"
      },
      "source": [
        "# Part 1\r\n",
        "\r\n",
        "import re\r\n",
        "\r\n",
        "mask = ''\r\n",
        "memory = {}\r\n",
        "\r\n",
        "for i in input:\r\n",
        "  c,v = i.split(' = ')[0], i.split(' = ')[1]\r\n",
        "  if c == 'mask':\r\n",
        "    mask = v\r\n",
        "  else:\r\n",
        "    location = int(re.search(r'(?<=mem\\[)[0-9]+', c).group(0))\r\n",
        "    bin_l = f'{int(v):#038b}'[2:]\r\n",
        "    new_value = int(''.join([y if x == 'X' else x for x,y in zip(mask, bin_l)]), 2)\r\n",
        "    memory[location] = new_value\r\n",
        "\r\n",
        "print(sum(memory.values()))"
      ],
      "execution_count": 48,
      "outputs": [
        {
          "output_type": "stream",
          "text": [
            "7611244640053\n"
          ],
          "name": "stdout"
        }
      ]
    },
    {
      "cell_type": "code",
      "metadata": {
        "id": "w40ZHsoJrSTi"
      },
      "source": [
        "test_input = '''mask = 000000000000000000000000000000X1001X\r\n",
        "mem[42] = 100\r\n",
        "mask = 00000000000000000000000000000000X0XX\r\n",
        "mem[26] = 1'''.splitlines()"
      ],
      "execution_count": 49,
      "outputs": []
    },
    {
      "cell_type": "code",
      "metadata": {
        "id": "7biqcV0hspxk"
      },
      "source": [
        "# Part 2\r\n",
        "\r\n",
        "import re\r\n",
        "\r\n",
        "mask = ''\r\n",
        "memory = {}\r\n",
        "\r\n",
        "for i in input:\r\n",
        "  c,v = i.split(' = ')[0], i.split(' = ')[1]\r\n",
        "  if c == 'mask':\r\n",
        "    mask = v\r\n",
        "  else:\r\n",
        "    location = int(re.search(r'(?<=mem\\[)[0-9]+', c).group(0))\r\n",
        "    bin_l = f'{int(v):#038b}'[2:]\r\n",
        "    new_value = int(''.join([y if x == 'X' else x for x,y in zip(mask, bin_l)]), 2)\r\n",
        "    memory[location] = new_value\r\n",
        "\r\n",
        "print(sum(memory.values()))"
      ],
      "execution_count": null,
      "outputs": []
    },
    {
      "cell_type": "code",
      "metadata": {
        "id": "jtGgK3Zn1vP5",
        "outputId": "b874c868-971d-4479-c952-beccf6c8abc6",
        "colab": {
          "base_uri": "https://localhost:8080/"
        }
      },
      "source": [
        "r = []\r\n",
        "\r\n",
        "def branch(l, p=''):\r\n",
        "  \r\n",
        "  if len(l) == 0:\r\n",
        "    r.append(p)\r\n",
        "    return\r\n",
        "  if l[0] == 'X':\r\n",
        "    branch(l[1:], p + '0')\r\n",
        "    branch(l[1:], p + '1')\r\n",
        "  else:\r\n",
        "    branch(l[1:], p + l[0])\r\n",
        "\r\n",
        "branch('XXX1')\r\n",
        "\r\n",
        "print(r)"
      ],
      "execution_count": 73,
      "outputs": [
        {
          "output_type": "stream",
          "text": [
            "['0001', '0011', '0101', '0111', '1001', '1011', '1101', '1111']\n"
          ],
          "name": "stdout"
        }
      ]
    },
    {
      "cell_type": "code",
      "metadata": {
        "id": "eiFQ_eny3z7q",
        "outputId": "9d6639ae-5d69-401e-9d05-dc5a58e144b6",
        "colab": {
          "base_uri": "https://localhost:8080/",
          "height": 35
        }
      },
      "source": [
        "'XXX1'[1:]"
      ],
      "execution_count": 72,
      "outputs": [
        {
          "output_type": "execute_result",
          "data": {
            "application/vnd.google.colaboratory.intrinsic+json": {
              "type": "string"
            },
            "text/plain": [
              "'XX1'"
            ]
          },
          "metadata": {
            "tags": []
          },
          "execution_count": 72
        }
      ]
    },
    {
      "cell_type": "code",
      "metadata": {
        "id": "qBJtKbEt5ZbJ"
      },
      "source": [
        ""
      ],
      "execution_count": null,
      "outputs": []
    }
  ]
}