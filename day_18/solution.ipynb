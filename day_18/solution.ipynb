{
  "nbformat": 4,
  "nbformat_minor": 0,
  "metadata": {
    "kernelspec": {
      "display_name": "Python 3",
      "language": "python",
      "name": "python3"
    },
    "language_info": {
      "codemirror_mode": {
        "name": "ipython",
        "version": 3
      },
      "file_extension": ".py",
      "mimetype": "text/x-python",
      "name": "python",
      "nbconvert_exporter": "python",
      "pygments_lexer": "ipython3",
      "version": "3.8.5"
    },
    "colab": {
      "name": "solution.ipynb",
      "provenance": [],
      "include_colab_link": true
    }
  },
  "cells": [
    {
      "cell_type": "markdown",
      "metadata": {
        "id": "view-in-github",
        "colab_type": "text"
      },
      "source": [
        "<a href=\"https://colab.research.google.com/github/mattmorganpdx/adventofcode2020/blob/main/day_18/solution.ipynb\" target=\"_parent\"><img src=\"https://colab.research.google.com/assets/colab-badge.svg\" alt=\"Open In Colab\"/></a>"
      ]
    },
    {
      "cell_type": "code",
      "metadata": {
        "id": "RqjGLK1NMF7G"
      },
      "source": [
        "from urllib import request\n",
        "\n",
        "day = \"18\"\n",
        "\n",
        "def load_input():\n",
        "  input_url = f\"https://raw.githubusercontent.com/mattmorganpdx/adventofcode2020/main/day_{day}/input.txt\"\n",
        "  response = request.urlopen(input_url)\n",
        "  return [line.decode('utf-8') for line in response.read().splitlines()]\n"
      ],
      "execution_count": 1,
      "outputs": []
    },
    {
      "cell_type": "code",
      "metadata": {
        "id": "au8IVN5LMsHf"
      },
      "source": [
        "input = load_input()"
      ],
      "execution_count": 2,
      "outputs": []
    },
    {
      "cell_type": "code",
      "metadata": {
        "colab": {
          "base_uri": "https://localhost:8080/"
        },
        "id": "B5W3E9BoZ4Fd",
        "outputId": "08cef227-9f5f-42a9-dde0-c4906eeb3e65"
      },
      "source": [
        "# Part 1\r\n",
        "import re\r\n",
        "from operator import add, mul\r\n",
        "\r\n",
        "ops = r'([0-9]+ [\\+\\*] [0-9]+)'\r\n",
        "pars= r'(?:\\()([0-9]+)(?:\\))'\r\n",
        "\r\n",
        "def compute(e):\r\n",
        "  o = {'+': add, '*': mul}\r\n",
        "  e = e.group(0).replace('(', '').replace(')', '').split(' ')\r\n",
        "  return str(o[e[1]](int(e[0]),int(e[2])))\r\n",
        "\r\n",
        "# 13632\r\n",
        "#test = \"((2 + 4 * 9) * (6 + 9 * 8 + 6) + 6) + 2 + 4 * 2\"\r\n",
        "test = '((2 + 4 * 9) * (6 + 9 * 8 + 6) + 6) + 2 + 4 * 2'\r\n",
        "#test= \"1 + (2 * 3) + (4 * (5 + 6))\"\r\n",
        "\r\n",
        "def reduce(test):\r\n",
        "  count = -1\r\n",
        "  while count != 0:\r\n",
        "    test, count = re.subn(ops, compute, test, count=1)\r\n",
        "    test = re.sub(pars, lambda x: x.group(0).replace('(', '').replace(')', ''), test)\r\n",
        "  return int(test)\r\n",
        "\r\n",
        "sum((reduce(line) for line in input))"
      ],
      "execution_count": 3,
      "outputs": [
        {
          "output_type": "execute_result",
          "data": {
            "text/plain": [
              "25190263477788"
            ]
          },
          "metadata": {
            "tags": []
          },
          "execution_count": 3
        }
      ]
    },
    {
      "cell_type": "code",
      "metadata": {
        "colab": {
          "base_uri": "https://localhost:8080/"
        },
        "id": "n2EPo2d2t0ft",
        "outputId": "e5ba59e8-6dbe-4db9-f528-11f0d309c946"
      },
      "source": [
        "# Part 2\r\n",
        "import re\r\n",
        "from operator import add, mul\r\n",
        "\r\n",
        "adder = r'([0-9]+ [\\+] [0-9]+)'\r\n",
        "padder = r'(?:\\()?([0-9]+ [\\+] [0-9]+)(?:\\))?'\r\n",
        "multer = r'([0-9]+ [\\*] [0-9]+)'\r\n",
        "pmulter = r'(?:\\()([0-9]+ [\\*] [0-9]+)(?:\\))'\r\n",
        "pars= r'(?:\\()([0-9]+)(?:\\))'\r\n",
        "\r\n",
        "def compute(e):\r\n",
        "  o = {'+': add, '*': mul}\r\n",
        "  e = e.group(0).replace('(', '').replace(')', '').split(' ')\r\n",
        "  return str(o[e[1]](int(e[0]),int(e[2])))\r\n",
        "\r\n",
        "# 13632\r\n",
        "#test = \"((2 + 4 * 9) * (6 + 9 * 8 + 6) + 6) + 2 + 4 * 2\"\r\n",
        "test = '((2 + 4 * 9) * (6 + 9 * 8 + 6) + 6) + 2 + 4 * 2'\r\n",
        "#test= \"1 + (2 * 3) + (4 * (5 + 6))\"\r\n",
        "\r\n",
        "\r\n",
        "def reduce(test):\r\n",
        "  loop = 0\r\n",
        "  emcount = -1\r\n",
        "  while not re.match(r'^[0-9]+$', test) and loop < 30:\r\n",
        "    #print(test)\r\n",
        "    loop += 1\r\n",
        "    mcount = -1\r\n",
        "    while mcount != 0 and loop < 50:\r\n",
        "      count = -1\r\n",
        "      loop += 1\r\n",
        "      while count != 0:\r\n",
        "        \r\n",
        "        test, count = re.subn(adder, compute, test, count=1)\r\n",
        "        test = re.sub(pars, lambda x: x.group(0).replace('(', '').replace(')', ''), test)\r\n",
        "        #print(test)\r\n",
        "        \r\n",
        "        test = re.sub(pars, lambda x: x.group(0).replace('(', '').replace(')', ''), test)\r\n",
        "        # print(test)\r\n",
        "      test, mcount = re.subn(pmulter, compute, test)\r\n",
        "      test = re.sub(pars, lambda x: x.group(0).replace('(', '').replace(')', ''), test)\r\n",
        "      #print(test)\r\n",
        "    #print(test)\r\n",
        "    #test, _ = re.subn(multer, compute, test)\r\n",
        "    #while '*' in test:\r\n",
        "      #print(test)\r\n",
        "    test = re.sub(pars, lambda x: x.group(0).replace('(', '').replace(')', ''), test)\r\n",
        "    test, emcount = re.subn(multer, compute, test)\r\n",
        "\r\n",
        "  return int(test)\r\n",
        "\r\n",
        "# 276503164434316 too low\r\n",
        "# 276712390092959 too low\r\n",
        "# 276982854697473 too low\r\n",
        "# 277156511018993 not right\r\n",
        "print(sum((reduce(line) for line in input)))\r\n",
        "\r\n",
        "print(reduce('1 + (2 * 3) + (4 * (5 + 6))')) #still becomes 51.\r\n",
        "print(reduce('2 * 3 + (4 * 5)')) #becomes 46.\r\n",
        "print(reduce('5 + (8 * 3 + 9 + 3 * 4 * 3)')) #becomes 1445.\r\n",
        "print(reduce('5 * 9 * (7 * 3 * 3 + 9 * 3 + (8 + 6 * 4))')) #becomes 669060.\r\n",
        "print(reduce('((2 + 4 * 9) * (6 + 9 * 8 + 6) + 6) + 2 + 4 * 2')) #becomes 23340.\r\n",
        "\r\n",
        "#reduce('2 * 3 + (4 * 5)')"
      ],
      "execution_count": 30,
      "outputs": [
        {
          "output_type": "stream",
          "text": [
            "277156511018993\n",
            "51\n",
            "46\n",
            "1445\n",
            "669060\n",
            "23340\n"
          ],
          "name": "stdout"
        }
      ]
    },
    {
      "cell_type": "code",
      "metadata": {
        "colab": {
          "base_uri": "https://localhost:8080/",
          "height": 299
        },
        "id": "0mp9fedEwX2n",
        "outputId": "a79cb008-945d-4721-de2c-4fc76d52a453"
      },
      "source": [
        "import ply.lex as lex"
      ],
      "execution_count": 31,
      "outputs": [
        {
          "output_type": "error",
          "ename": "ModuleNotFoundError",
          "evalue": "ignored",
          "traceback": [
            "\u001b[0;31m---------------------------------------------------------------------------\u001b[0m",
            "\u001b[0;31mModuleNotFoundError\u001b[0m                       Traceback (most recent call last)",
            "\u001b[0;32m<ipython-input-31-3d7599ff72cc>\u001b[0m in \u001b[0;36m<module>\u001b[0;34m()\u001b[0m\n\u001b[0;32m----> 1\u001b[0;31m \u001b[0;32mimport\u001b[0m \u001b[0mply\u001b[0m\u001b[0;34m.\u001b[0m\u001b[0mlex\u001b[0m \u001b[0;32mas\u001b[0m \u001b[0mlex\u001b[0m\u001b[0;34m\u001b[0m\u001b[0;34m\u001b[0m\u001b[0m\n\u001b[0m",
            "\u001b[0;31mModuleNotFoundError\u001b[0m: No module named 'ply'",
            "",
            "\u001b[0;31m---------------------------------------------------------------------------\u001b[0;32m\nNOTE: If your import is failing due to a missing package, you can\nmanually install dependencies using either !pip or !apt.\n\nTo view examples of installing some common dependencies, click the\n\"Open Examples\" button below.\n\u001b[0;31m---------------------------------------------------------------------------\u001b[0m\n"
          ]
        }
      ]
    },
    {
      "cell_type": "code",
      "metadata": {
        "id": "_JBLvzy4ofKw"
      },
      "source": [
        ""
      ],
      "execution_count": null,
      "outputs": []
    }
  ]
}