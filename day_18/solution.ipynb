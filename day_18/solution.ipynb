{
  "nbformat": 4,
  "nbformat_minor": 0,
  "metadata": {
    "kernelspec": {
      "display_name": "Python 3",
      "language": "python",
      "name": "python3"
    },
    "language_info": {
      "codemirror_mode": {
        "name": "ipython",
        "version": 3
      },
      "file_extension": ".py",
      "mimetype": "text/x-python",
      "name": "python",
      "nbconvert_exporter": "python",
      "pygments_lexer": "ipython3",
      "version": "3.8.5"
    },
    "colab": {
      "name": "solution.ipynb",
      "provenance": [],
      "include_colab_link": true
    }
  },
  "cells": [
    {
      "cell_type": "markdown",
      "metadata": {
        "id": "view-in-github",
        "colab_type": "text"
      },
      "source": [
        "<a href=\"https://colab.research.google.com/github/mattmorganpdx/adventofcode2020/blob/main/day_18/solution.ipynb\" target=\"_parent\"><img src=\"https://colab.research.google.com/assets/colab-badge.svg\" alt=\"Open In Colab\"/></a>"
      ]
    },
    {
      "cell_type": "code",
      "metadata": {
        "id": "RqjGLK1NMF7G"
      },
      "source": [
        "from urllib import request\n",
        "\n",
        "day = \"18\"\n",
        "\n",
        "def load_input():\n",
        "  input_url = f\"https://raw.githubusercontent.com/mattmorganpdx/adventofcode2020/main/day_{day}/input.txt\"\n",
        "  response = request.urlopen(input_url)\n",
        "  return [line.decode('utf-8') for line in response.read().splitlines()]\n"
      ],
      "execution_count": 1,
      "outputs": []
    },
    {
      "cell_type": "code",
      "metadata": {
        "id": "au8IVN5LMsHf"
      },
      "source": [
        "input = load_input()"
      ],
      "execution_count": 36,
      "outputs": []
    },
    {
      "cell_type": "code",
      "metadata": {
        "colab": {
          "base_uri": "https://localhost:8080/"
        },
        "id": "B5W3E9BoZ4Fd",
        "outputId": "ee2334cd-4f7a-4e3b-b896-3967a91e86b2"
      },
      "source": [
        "# Part 1\r\n",
        "import re\r\n",
        "from operator import add, mul\r\n",
        "\r\n",
        "ops = r'([0-9]+ [\\+\\*] [0-9]+)'\r\n",
        "pars= r'(?:\\()([0-9]+)(?:\\))'\r\n",
        "\r\n",
        "def compute(e):\r\n",
        "  o = {'+': add, '*': mul}\r\n",
        "  e = e.group(0).replace('(', '').replace(')', '').split(' ')\r\n",
        "  return str(o[e[1]](int(e[0]),int(e[2])))\r\n",
        "\r\n",
        "# 13632\r\n",
        "#test = \"((2 + 4 * 9) * (6 + 9 * 8 + 6) + 6) + 2 + 4 * 2\"\r\n",
        "test = '((2 + 4 * 9) * (6 + 9 * 8 + 6) + 6) + 2 + 4 * 2'\r\n",
        "#test= \"1 + (2 * 3) + (4 * (5 + 6))\"\r\n",
        "\r\n",
        "def reduce(test):\r\n",
        "  count = -1\r\n",
        "  while count != 0:\r\n",
        "    test, count = re.subn(ops, compute, test, count=1)\r\n",
        "    test = re.sub(pars, lambda x: x.group(0).replace('(', '').replace(')', ''), test)\r\n",
        "  return int(test)\r\n",
        "\r\n",
        "sum((reduce(line) for line in input))"
      ],
      "execution_count": 38,
      "outputs": [
        {
          "output_type": "execute_result",
          "data": {
            "text/plain": [
              "25190263477788"
            ]
          },
          "metadata": {
            "tags": []
          },
          "execution_count": 38
        }
      ]
    },
    {
      "cell_type": "code",
      "metadata": {
        "colab": {
          "base_uri": "https://localhost:8080/",
          "height": 435
        },
        "id": "n2EPo2d2t0ft",
        "outputId": "c4e341dd-bf47-452e-e487-c1fcf9a65107"
      },
      "source": [
        "# Part 2\r\n",
        "import re\r\n",
        "from operator import add, mul\r\n",
        "\r\n",
        "adder = r'([0-9]+ [\\+] [0-9]+)'\r\n",
        "padder = r'(?:\\()?([0-9]+ [\\+] [0-9]+)(?:\\))?'\r\n",
        "multer = r'([0-9]+ [\\*] [0-9]+)'\r\n",
        "pmulter = r'(?:\\()([0-9]+ [\\*] [0-9]+)(?:\\))'\r\n",
        "pars= r'(?:\\()([0-9]+)(?:\\))'\r\n",
        "\r\n",
        "def compute(e):\r\n",
        "  o = {'+': add, '*': mul}\r\n",
        "  e = e.group(0).replace('(', '').replace(')', '').split(' ')\r\n",
        "  return str(o[e[1]](int(e[0]),int(e[2])))\r\n",
        "\r\n",
        "# 13632\r\n",
        "#test = \"((2 + 4 * 9) * (6 + 9 * 8 + 6) + 6) + 2 + 4 * 2\"\r\n",
        "test = '((2 + 4 * 9) * (6 + 9 * 8 + 6) + 6) + 2 + 4 * 2'\r\n",
        "#test= \"1 + (2 * 3) + (4 * (5 + 6))\"\r\n",
        "\r\n",
        "\r\n",
        "def reduce(test):\r\n",
        "  loop = 0\r\n",
        "  while '+' in test and loop < 20:\r\n",
        "    count = -1\r\n",
        "    while count != 0:\r\n",
        "      loop += 1\r\n",
        "      test, count = re.subn(adder, compute, test, count=1)\r\n",
        "      test = re.sub(pars, lambda x: x.group(0).replace('(', '').replace(')', ''), test)\r\n",
        "      # print(test)\r\n",
        "      \r\n",
        "      test = re.sub(pars, lambda x: x.group(0).replace('(', '').replace(')', ''), test)\r\n",
        "      # print(test)\r\n",
        "    test, _ = re.subn(pmulter, compute, test)\r\n",
        "    test = re.sub(pars, lambda x: x.group(0).replace('(', '').replace(')', ''), test)\r\n",
        "    #test, _ = re.subn(multer, compute, test)\r\n",
        "  while '*' in test:\r\n",
        "    print(test)\r\n",
        "    test = re.sub(pars, lambda x: x.group(0).replace('(', '').replace(')', ''), test)\r\n",
        "    test, _ = re.subn(multer, compute, test)\r\n",
        "\r\n",
        "  return int(test)\r\n",
        "\r\n",
        "# 276503164434316 too low\r\n",
        "# 276712390092959 too low\r\n",
        "# 276982854697473 too low\r\n",
        "#sum((reduce(line) for line in input))\r\n",
        "\r\n",
        "print(reduce('1 + (2 * 3) + (4 * (5 + 6))')) #still becomes 51.\r\n",
        "print(reduce('2 * 3 + (4 * 5)')) #becomes 46.\r\n",
        "print(reduce('5 + (8 * 3 + 9 + 3 * 4 * 3)')) #becomes 1445.\r\n",
        "print(reduce('5 * 9 * (7 * 3 * 3 + 9 * 3 + (8 + 6 * 4))')) #becomes 669060.\r\n",
        "print(reduce('((2 + 4 * 9) * (6 + 9 * 8 + 6) + 6) + 2 + 4 * 2')) #becomes 23340.\r\n",
        "\r\n",
        "#reduce('2 * 3 + (4 * 5)')"
      ],
      "execution_count": 114,
      "outputs": [
        {
          "output_type": "stream",
          "text": [
            "51\n",
            "2 * 23\n",
            "46\n",
            "5 + (8 * 15 * 4 * 3)\n",
            "5 + (120 * 12)\n"
          ],
          "name": "stdout"
        },
        {
          "output_type": "error",
          "ename": "ValueError",
          "evalue": "ignored",
          "traceback": [
            "\u001b[0;31m---------------------------------------------------------------------------\u001b[0m",
            "\u001b[0;31mValueError\u001b[0m                                Traceback (most recent call last)",
            "\u001b[0;32m<ipython-input-114-423cf584fe0c>\u001b[0m in \u001b[0;36m<module>\u001b[0;34m()\u001b[0m\n\u001b[1;32m     49\u001b[0m \u001b[0mprint\u001b[0m\u001b[0;34m(\u001b[0m\u001b[0mreduce\u001b[0m\u001b[0;34m(\u001b[0m\u001b[0;34m'1 + (2 * 3) + (4 * (5 + 6))'\u001b[0m\u001b[0;34m)\u001b[0m\u001b[0;34m)\u001b[0m \u001b[0;31m#still becomes 51.\u001b[0m\u001b[0;34m\u001b[0m\u001b[0;34m\u001b[0m\u001b[0m\n\u001b[1;32m     50\u001b[0m \u001b[0mprint\u001b[0m\u001b[0;34m(\u001b[0m\u001b[0mreduce\u001b[0m\u001b[0;34m(\u001b[0m\u001b[0;34m'2 * 3 + (4 * 5)'\u001b[0m\u001b[0;34m)\u001b[0m\u001b[0;34m)\u001b[0m \u001b[0;31m#becomes 46.\u001b[0m\u001b[0;34m\u001b[0m\u001b[0;34m\u001b[0m\u001b[0m\n\u001b[0;32m---> 51\u001b[0;31m \u001b[0mprint\u001b[0m\u001b[0;34m(\u001b[0m\u001b[0mreduce\u001b[0m\u001b[0;34m(\u001b[0m\u001b[0;34m'5 + (8 * 3 + 9 + 3 * 4 * 3)'\u001b[0m\u001b[0;34m)\u001b[0m\u001b[0;34m)\u001b[0m \u001b[0;31m#becomes 1445.\u001b[0m\u001b[0;34m\u001b[0m\u001b[0;34m\u001b[0m\u001b[0m\n\u001b[0m\u001b[1;32m     52\u001b[0m \u001b[0mprint\u001b[0m\u001b[0;34m(\u001b[0m\u001b[0mreduce\u001b[0m\u001b[0;34m(\u001b[0m\u001b[0;34m'5 * 9 * (7 * 3 * 3 + 9 * 3 + (8 + 6 * 4))'\u001b[0m\u001b[0;34m)\u001b[0m\u001b[0;34m)\u001b[0m \u001b[0;31m#becomes 669060.\u001b[0m\u001b[0;34m\u001b[0m\u001b[0;34m\u001b[0m\u001b[0m\n\u001b[1;32m     53\u001b[0m \u001b[0mprint\u001b[0m\u001b[0;34m(\u001b[0m\u001b[0mreduce\u001b[0m\u001b[0;34m(\u001b[0m\u001b[0;34m'((2 + 4 * 9) * (6 + 9 * 8 + 6) + 6) + 2 + 4 * 2'\u001b[0m\u001b[0;34m)\u001b[0m\u001b[0;34m)\u001b[0m \u001b[0;31m#becomes 23340.\u001b[0m\u001b[0;34m\u001b[0m\u001b[0;34m\u001b[0m\u001b[0m\n",
            "\u001b[0;32m<ipython-input-114-423cf584fe0c>\u001b[0m in \u001b[0;36mreduce\u001b[0;34m(test)\u001b[0m\n\u001b[1;32m     40\u001b[0m     \u001b[0mtest\u001b[0m\u001b[0;34m,\u001b[0m \u001b[0m_\u001b[0m \u001b[0;34m=\u001b[0m \u001b[0mre\u001b[0m\u001b[0;34m.\u001b[0m\u001b[0msubn\u001b[0m\u001b[0;34m(\u001b[0m\u001b[0mmulter\u001b[0m\u001b[0;34m,\u001b[0m \u001b[0mcompute\u001b[0m\u001b[0;34m,\u001b[0m \u001b[0mtest\u001b[0m\u001b[0;34m)\u001b[0m\u001b[0;34m\u001b[0m\u001b[0;34m\u001b[0m\u001b[0m\n\u001b[1;32m     41\u001b[0m \u001b[0;34m\u001b[0m\u001b[0m\n\u001b[0;32m---> 42\u001b[0;31m   \u001b[0;32mreturn\u001b[0m \u001b[0mint\u001b[0m\u001b[0;34m(\u001b[0m\u001b[0mtest\u001b[0m\u001b[0;34m)\u001b[0m\u001b[0;34m\u001b[0m\u001b[0;34m\u001b[0m\u001b[0m\n\u001b[0m\u001b[1;32m     43\u001b[0m \u001b[0;34m\u001b[0m\u001b[0m\n\u001b[1;32m     44\u001b[0m \u001b[0;31m# 276503164434316 too low\u001b[0m\u001b[0;34m\u001b[0m\u001b[0;34m\u001b[0m\u001b[0;34m\u001b[0m\u001b[0m\n",
            "\u001b[0;31mValueError\u001b[0m: invalid literal for int() with base 10: '5 + (1440)'"
          ]
        }
      ]
    },
    {
      "cell_type": "code",
      "metadata": {
        "id": "0mp9fedEwX2n"
      },
      "source": [
        ""
      ],
      "execution_count": 39,
      "outputs": []
    }
  ]
}