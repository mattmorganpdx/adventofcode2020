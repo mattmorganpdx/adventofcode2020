{
  "nbformat": 4,
  "nbformat_minor": 0,
  "metadata": {
    "kernelspec": {
      "display_name": "Python 3",
      "language": "python",
      "name": "python3"
    },
    "language_info": {
      "codemirror_mode": {
        "name": "ipython",
        "version": 3
      },
      "file_extension": ".py",
      "mimetype": "text/x-python",
      "name": "python",
      "nbconvert_exporter": "python",
      "pygments_lexer": "ipython3",
      "version": "3.8.5"
    },
    "colab": {
      "name": "solution.ipynb",
      "provenance": [],
      "include_colab_link": true
    }
  },
  "cells": [
    {
      "cell_type": "markdown",
      "metadata": {
        "id": "view-in-github",
        "colab_type": "text"
      },
      "source": [
        "<a href=\"https://colab.research.google.com/github/mattmorganpdx/adventofcode2020/blob/main/day_19/solution.ipynb\" target=\"_parent\"><img src=\"https://colab.research.google.com/assets/colab-badge.svg\" alt=\"Open In Colab\"/></a>"
      ]
    },
    {
      "cell_type": "code",
      "metadata": {
        "id": "RqjGLK1NMF7G"
      },
      "source": [
        "from urllib import request\n",
        "\n",
        "day = \"19\"\n",
        "\n",
        "def load_input():\n",
        "  input_url = f\"https://raw.githubusercontent.com/mattmorganpdx/adventofcode2020/main/day_{day}/input.txt\"\n",
        "  response = request.urlopen(input_url)\n",
        "  return [line.decode('utf-8') for line in response.read().splitlines()]\n"
      ],
      "execution_count": 1,
      "outputs": []
    },
    {
      "cell_type": "code",
      "metadata": {
        "id": "au8IVN5LMsHf"
      },
      "source": [
        "input = load_input()"
      ],
      "execution_count": 2,
      "outputs": []
    },
    {
      "cell_type": "code",
      "metadata": {
        "id": "b0Q-cGzNv9_X",
        "colab": {
          "base_uri": "https://localhost:8080/"
        },
        "outputId": "96dbab76-669a-401f-b2ed-d244b49adf6e"
      },
      "source": [
        "# Part 1\r\n",
        "\r\n",
        "rule_map = {k.split(': ')[0]: k.split(': ')[1] for k in input[:134]}\r\n",
        "patterns = input[135:]\r\n",
        "\r\n",
        "import re\r\n",
        "\r\n",
        "def get_rule(r, part=[]):\r\n",
        "  rule = rule_map.get(r,'')\r\n",
        "\r\n",
        "  def and_spliter(rule):\r\n",
        "    and_split = rule.split()\r\n",
        "    return ''.join([get_rule(x) for x in and_split])\r\n",
        "\r\n",
        "  if '\"' in rule:\r\n",
        "    return rule.strip('\\\"')\r\n",
        "  elif ' ' not in rule:\r\n",
        "    return get_rule(rule)\r\n",
        "  else:\r\n",
        "    if ' | ' in rule:\r\n",
        "      or_split = rule.split(' | ')\r\n",
        "      return f'({and_spliter(or_split[0])}|{and_spliter(or_split[1])})'\r\n",
        "    else:\r\n",
        "      return and_spliter(rule)\r\n",
        "\r\n",
        "m = re.compile(get_rule('0'))\r\n",
        "\r\n",
        "\r\n",
        "count = 0\r\n",
        "for p in patterns:\r\n",
        "  if m.fullmatch(p):\r\n",
        "    count += 1\r\n",
        "print(count)"
      ],
      "execution_count": 3,
      "outputs": [
        {
          "output_type": "stream",
          "text": [
            "122\n"
          ],
          "name": "stdout"
        }
      ]
    },
    {
      "cell_type": "code",
      "metadata": {
        "id": "fbZIJfdSqPVC"
      },
      "source": [
        "test_rules = '''42: 9 14 | 10 1\r\n",
        "9: 14 27 | 1 26\r\n",
        "10: 23 14 | 28 1\r\n",
        "1: \"a\"\r\n",
        "11: 42 31\r\n",
        "5: 1 14 | 15 1\r\n",
        "19: 14 1 | 14 14\r\n",
        "12: 24 14 | 19 1\r\n",
        "16: 15 1 | 14 14\r\n",
        "31: 14 17 | 1 13\r\n",
        "6: 14 14 | 1 14\r\n",
        "2: 1 24 | 14 4\r\n",
        "0: 8 11\r\n",
        "13: 14 3 | 1 12\r\n",
        "15: 1 | 14\r\n",
        "17: 14 2 | 1 7\r\n",
        "23: 25 1 | 22 14\r\n",
        "28: 16 1\r\n",
        "4: 1 1\r\n",
        "20: 14 14 | 1 15\r\n",
        "3: 5 14 | 16 1\r\n",
        "27: 1 6 | 14 18\r\n",
        "14: \"b\"\r\n",
        "21: 14 1 | 1 14\r\n",
        "25: 1 1 | 1 14\r\n",
        "22: 14 14\r\n",
        "8: 42\r\n",
        "26: 14 22 | 1 20\r\n",
        "18: 15 15\r\n",
        "7: 14 5 | 1 21\r\n",
        "24: 14 1'''.splitlines()\r\n",
        "\r\n",
        "test_strings = '''abbbbbabbbaaaababbaabbbbabababbbabbbbbbabaaaa\r\n",
        "bbabbbbaabaabba\r\n",
        "babbbbaabbbbbabbbbbbaabaaabaaa\r\n",
        "aaabbbbbbaaaabaababaabababbabaaabbababababaaa\r\n",
        "bbbbbbbaaaabbbbaaabbabaaa\r\n",
        "bbbababbbbaaaaaaaabbababaaababaabab\r\n",
        "ababaaaaaabaaab\r\n",
        "ababaaaaabbbaba\r\n",
        "baabbaaaabbaaaababbaababb\r\n",
        "abbbbabbbbaaaababbbbbbaaaababb\r\n",
        "aaaaabbaabaaaaababaa\r\n",
        "aaaabbaaaabbaaa\r\n",
        "aaaabbaabbaaaaaaabbbabbbaaabbaabaaa\r\n",
        "babaaabbbaaabaababbaabababaaab\r\n",
        "aabbbbbaabbbaaaaaabbbbbababaaaaabbaaabba'''.splitlines()"
      ],
      "execution_count": 4,
      "outputs": []
    },
    {
      "cell_type": "code",
      "metadata": {
        "id": "lxwIFgnn0CU3",
        "colab": {
          "base_uri": "https://localhost:8080/"
        },
        "outputId": "08462635-bd91-4698-9906-f08f8b8398aa"
      },
      "source": [
        "\r\n",
        "# Part 2\r\n",
        "\r\n",
        "# Patch rules 8 and 11\r\n",
        "# rule_map['8'] = '42 | 42 8'\r\n",
        "# rule_map['11'] = '42 31 | 42 11 31'\r\n",
        "\r\n",
        "\r\n",
        "rule_map = {k.split(': ')[0]: k.split(': ')[1] for k in input[:134]}\r\n",
        "patterns = input[135:]\r\n",
        "\r\n",
        "# rule_map = {k.split(': ')[0]: k.split(': ')[1] for k in test_rules}\r\n",
        "# patterns = test_strings\r\n",
        "\r\n",
        "import re\r\n",
        "\r\n",
        "def get_rule(r, part=[]):\r\n",
        "  rule = rule_map.get(r,'')\r\n",
        "\r\n",
        "  def and_spliter(rule):\r\n",
        "    and_split = rule.split()\r\n",
        "    return ''.join([get_rule(x) for x in and_split])\r\n",
        "\r\n",
        "  if r == '8':\r\n",
        "    # '42 | 42 8'\r\n",
        "    return f'({get_rule(\"42\")})+'\r\n",
        "  if r == '11':\r\n",
        "    # '42 31 | 42 11 31'\r\n",
        "    #return f'{get_rule(\"42\")}?({get_rule(\"42\")}{get_rule(\"31\")}){get_rule(\"31\")}?'\r\n",
        "    return f'(?P<elv>({get_rule(\"42\")})({get_rule(\"31\")})+)'\r\n",
        "\r\n",
        "  if r == '0':\r\n",
        "    return f'(({get_rule(\"42\")})+)(({get_rule(\"42\")})+({get_rule(\"31\")})+)'\r\n",
        "\r\n",
        "  \r\n",
        "  if '\"' in rule:\r\n",
        "    return rule.strip('\\\"')\r\n",
        "  elif ' ' not in rule:\r\n",
        "    return get_rule(rule)\r\n",
        "  else:\r\n",
        "    if ' | ' in rule:\r\n",
        "      or_split = rule.split(' | ')\r\n",
        "      return f'({and_spliter(or_split[0])}|{and_spliter(or_split[1])})'\r\n",
        "    else:\r\n",
        "      return and_spliter(rule)\r\n",
        "\r\n",
        "m = re.compile(get_rule('0'))\r\n",
        "s = re.compile(f'({get_rule(\"42\")}?({get_rule(\"42\")}{get_rule(\"31\")}){get_rule(\"31\")}?)')\r\n",
        "fourty_two = re.compile(get_rule('8'))\r\n",
        "thirty_one = re.compile(get_rule('31'))\r\n",
        "b = re.compile(f'{get_rule(\"42\")}{get_rule(\"31\")}{1}')\r\n",
        "# print(get_rule('42'))\r\n",
        "\r\n",
        "# 293 too high\r\n",
        "# 277 not right\r\n",
        "# 271 not right\r\n",
        "# 270 not right\r\n",
        "# 155 not right\r\n",
        "# 276 not right\r\n",
        "# 182 not right\r\n",
        "# 279 not right\r\n",
        "\r\n",
        "\r\n",
        "\r\n",
        "count = 0\r\n",
        "sc = 0\r\n",
        "for p in patterns:\r\n",
        "  if m.fullmatch(p):    \r\n",
        "    count += 1\r\n",
        "    # ns = thirty_one.sub(lambda _: '31', fourty_two.sub(lambda _: '8', p, count=1))\r\n",
        "    # print(m.sub(lambda _: 'MATCH', p))\r\n",
        "    # if ns:\r\n",
        "    #   #print(ns)\r\n",
        "    #   count -= 1\r\n",
        "    # s42, s31 = -1, -1\r\n",
        "    # ns = str()\r\n",
        "    # # while s42 != 0 and s31 !=0\r\n",
        "    # if b.fullmatch(m.fullmatch(p).group(\"elv\")):\r\n",
        "    #   continue\r\n",
        "    # else:\r\n",
        "    #   sc += 1\r\n",
        "    #   ns = thirty_one.sub(lambda _: '-31-',fourty_two.sub(lambda _: '-42-', b.sub(lambda _: \"-4231-\", p)))\r\n",
        "    #   if (ns.count('42') -1 ) <= ns.count('31'):\r\n",
        "    #     count -= 1\r\n",
        "\r\n",
        "      \r\n",
        "print(len(patterns))\r\n",
        "print(count, sc)\r\n",
        "\r\n",
        "\r\n",
        "# ft = re.compile('^' + get_rule('42'))\r\n",
        "# to = re.compile('^' + get_rule('31'))\r\n",
        "# count = 0\r\n",
        "# for p in patterns:\r\n",
        "\r\n",
        "#   c = -1\r\n",
        "#   d = -1\r\n",
        "#   tc = 0\r\n",
        "#   rc = 0\r\n",
        "#   while c != 0:\r\n",
        "#     p, c = ft.subn(lambda _ : '', p, count=1)\r\n",
        "#     tc += c\r\n",
        "#   while d != 0:\r\n",
        "#     p, d = to.subn(lambda _ : '', p, count=1)\r\n",
        "#     rc += d\r\n",
        "#   if not p:\r\n",
        "#     if tc > rc:\r\n",
        "#       count += 1\r\n",
        "#       print(tc, rc)\r\n",
        "\r\n",
        "# print(count)"
      ],
      "execution_count": 88,
      "outputs": [
        {
          "output_type": "stream",
          "text": [
            "406\n",
            "304 0\n"
          ],
          "name": "stdout"
        }
      ]
    },
    {
      "cell_type": "code",
      "metadata": {
        "id": "csrcZJnT0Edj",
        "colab": {
          "base_uri": "https://localhost:8080/",
          "height": 140
        },
        "outputId": "6dff70bc-8628-42af-a121-a874235b0c08"
      },
      "source": [
        "print('===== 42')\r\n",
        "print(get_rule('42'))\r\n",
        "print('===== 31')\r\n",
        "get_rule('31')"
      ],
      "execution_count": 17,
      "outputs": [
        {
          "output_type": "stream",
          "text": [
            "===== 42\n",
            "(a(((b(a(a(ba|bb)|b(ba|aa))|b((b(b|a)|aa)a|bbb))|a(a(bba|a(ba|bb))|b(b(ba|ab)|abb)))a|(((b(b(b|a)|aa)|a(aa|ab))b|(aab|(b|a)(b|a)a)a)b|((b|a)(b|a)ba|((b|a)(b|a)b|(b(b|a)|aa)a)b)a)b)a|(a(((aaa|bab)a|(bba|a(bb|aa))b)b|(b(b(ba|aa)|a(b(b|a)|aa))|a(aba|(ba|aa)b))a)|b(b(b(b(ba|aa)|a(ba|ab))|a(abb|b(ba|aa)))|a(b(b(ba|aa)|a(ba|ab))|a(baa|a(ba|aa)))))b)|b(a(b(((a(ba|ab)|b(bb|aa))a|(a(b(b|a)|aa)|b(aa|ab))b)a|(b(b(ba|(b|a)b)|aab)|a(a(b(b|a)|aa)|bbb))b)|a((a(b(b|a)(b|a)|aab)|b(aba|b(ba|bb)))a|((a(ba|bb)|b(ba|ab))b|(b(ba|aa)|a(ba|(b|a)b))a)b))|b(a(a((a(bb|ab)|b(b(b|a)|aa))a|(b(ba|ab)|a(aa|ab))b)|b(b((bb|aa)b|(ba|(b|a)b)a)|a(a(b(b|a)|aa)|bbb)))|b(a(b((aa|ab)a|(ba|aa)b)|a((b|a)(b|a)b|baa))|b(((ba|bb)a|bbb)b|(baa|aba)a)))))\n",
            "===== 31\n"
          ],
          "name": "stdout"
        },
        {
          "output_type": "execute_result",
          "data": {
            "application/vnd.google.colaboratory.intrinsic+json": {
              "type": "string"
            },
            "text/plain": [
              "'(a((a(b((b(bb|ab)|a(b(b|a)|aa))b|((ba|a(b|a))a|(bb|aa)b)a)|a(((b(b|a)|aa)b|(ba|aa)a)a|aaab))|b(a(b(bb|ab)(b|a)|a((aa|ab)a|aab))|b((bab|a(ba|(b|a)b))a|(aaa|bab)b)))a|(((b(a(b|a)(b|a)|b(ba|(b|a)b))|a((b(b|a)|aa)b|(ba|ab)a))b|((b(ba|aa)|a(ba|(b|a)b))a|((b|a)(b|a)b|(b(b|a)|aa)a)b)a)b|((a((aa|ab)a|abb)|b(aba|b(ba|aa)))a|(b(aab|baa)|a(a(bb|ab)|b(b(b|a)|aa)))b)a)b)|b((b((b((bb|ab)b|(ba|aa)a)|a(b(ba|ab)|a(aa|ab)))a|(a(aba|bab)|b((b|a)(b|a)b|(b(b|a)|aa)a))b)|a(b(a(bba|a(bb|aa))|b((ba|ab)a|(ba|bb)b))|a(a((aa|ab)a|abb)|b((ba|a(b|a))b|(ba|aa)a))))a|(b((a((b(b|a)|aa)b|(ba|ab)a)|b(bab|baa))a|((abb|b(ba|(b|a)b))a|(b(ba|ab)|a(aa|ab))b)b)|a(b(((ba|(b|a)b)a|(ba|ab)b)a|((aa|ab)a|bab)b)|a(((ba|aa)a|(bb|aa)b)b|(aaa|b(bb|ab))a)))b))'"
            ]
          },
          "metadata": {
            "tags": []
          },
          "execution_count": 17
        }
      ]
    },
    {
      "cell_type": "code",
      "metadata": {
        "id": "Uxro0Mdr3eFD",
        "colab": {
          "base_uri": "https://localhost:8080/",
          "height": 35
        },
        "outputId": "2960c3db-6a2e-45a8-f67d-1af83f508eb0"
      },
      "source": [
        "rule_map['0']"
      ],
      "execution_count": 44,
      "outputs": [
        {
          "output_type": "execute_result",
          "data": {
            "application/vnd.google.colaboratory.intrinsic+json": {
              "type": "string"
            },
            "text/plain": [
              "'8 11'"
            ]
          },
          "metadata": {
            "tags": []
          },
          "execution_count": 44
        }
      ]
    },
    {
      "cell_type": "code",
      "metadata": {
        "id": "pjB2Q0S3WzVp",
        "outputId": "7217fcaf-91be-4271-e087-ebb54882bd28",
        "colab": {
          "base_uri": "https://localhost:8080/",
          "height": 137
        }
      },
      "source": [
        "get_rule('0')"
      ],
      "execution_count": 64,
      "outputs": [
        {
          "output_type": "execute_result",
          "data": {
            "application/vnd.google.colaboratory.intrinsic+json": {
              "type": "string"
            },
            "text/plain": [
              "'((a(((b(a(a(ba|bb)|b(ba|aa))|b((b(b|a)|aa)a|bbb))|a(a(bba|a(ba|bb))|b(b(ba|ab)|abb)))a|(((b(b(b|a)|aa)|a(aa|ab))b|(aab|(b|a)(b|a)a)a)b|((b|a)(b|a)ba|((b|a)(b|a)b|(b(b|a)|aa)a)b)a)b)a|(a(((aaa|bab)a|(bba|a(bb|aa))b)b|(b(b(ba|aa)|a(b(b|a)|aa))|a(aba|(ba|aa)b))a)|b(b(b(b(ba|aa)|a(ba|ab))|a(abb|b(ba|aa)))|a(b(b(ba|aa)|a(ba|ab))|a(baa|a(ba|aa)))))b)|b(a(b(((a(ba|ab)|b(bb|aa))a|(a(b(b|a)|aa)|b(aa|ab))b)a|(b(b(ba|(b|a)b)|aab)|a(a(b(b|a)|aa)|bbb))b)|a((a(b(b|a)(b|a)|aab)|b(aba|b(ba|bb)))a|((a(ba|bb)|b(ba|ab))b|(b(ba|aa)|a(ba|(b|a)b))a)b))|b(a(a((a(bb|ab)|b(b(b|a)|aa))a|(b(ba|ab)|a(aa|ab))b)|b(b((bb|aa)b|(ba|(b|a)b)a)|a(a(b(b|a)|aa)|bbb)))|b(a(b((aa|ab)a|(ba|aa)b)|a((b|a)(b|a)b|baa))|b(((ba|bb)a|bbb)b|(baa|aba)a))))))+(?P<elv>((a(((b(a(a(ba|bb)|b(ba|aa))|b((b(b|a)|aa)a|bbb))|a(a(bba|a(ba|bb))|b(b(ba|ab)|abb)))a|(((b(b(b|a)|aa)|a(aa|ab))b|(aab|(b|a)(b|a)a)a)b|((b|a)(b|a)ba|((b|a)(b|a)b|(b(b|a)|aa)a)b)a)b)a|(a(((aaa|bab)a|(bba|a(bb|aa))b)b|(b(b(ba|aa)|a(b(b|a)|aa))|a(aba|(ba|aa)b))a)|b(b(b(b(ba|aa)|a(ba|ab))|a(abb|b(ba|aa)))|a(b(b(ba|aa)|a(ba|ab))|a(baa|a(ba|aa)))))b)|b(a(b(((a(ba|ab)|b(bb|aa))a|(a(b(b|a)|aa)|b(aa|ab))b)a|(b(b(ba|(b|a)b)|aab)|a(a(b(b|a)|aa)|bbb))b)|a((a(b(b|a)(b|a)|aab)|b(aba|b(ba|bb)))a|((a(ba|bb)|b(ba|ab))b|(b(ba|aa)|a(ba|(b|a)b))a)b))|b(a(a((a(bb|ab)|b(b(b|a)|aa))a|(b(ba|ab)|a(aa|ab))b)|b(b((bb|aa)b|(ba|(b|a)b)a)|a(a(b(b|a)|aa)|bbb)))|b(a(b((aa|ab)a|(ba|aa)b)|a((b|a)(b|a)b|baa))|b(((ba|bb)a|bbb)b|(baa|aba)a))))))((a((a(b((b(bb|ab)|a(b(b|a)|aa))b|((ba|a(b|a))a|(bb|aa)b)a)|a(((b(b|a)|aa)b|(ba|aa)a)a|aaab))|b(a(b(bb|ab)(b|a)|a((aa|ab)a|aab))|b((bab|a(ba|(b|a)b))a|(aaa|bab)b)))a|(((b(a(b|a)(b|a)|b(ba|(b|a)b))|a((b(b|a)|aa)b|(ba|ab)a))b|((b(ba|aa)|a(ba|(b|a)b))a|((b|a)(b|a)b|(b(b|a)|aa)a)b)a)b|((a((aa|ab)a|abb)|b(aba|b(ba|aa)))a|(b(aab|baa)|a(a(bb|ab)|b(b(b|a)|aa)))b)a)b)|b((b((b((bb|ab)b|(ba|aa)a)|a(b(ba|ab)|a(aa|ab)))a|(a(aba|bab)|b((b|a)(b|a)b|(b(b|a)|aa)a))b)|a(b(a(bba|a(bb|aa))|b((ba|ab)a|(ba|bb)b))|a(a((aa|ab)a|abb)|b((ba|a(b|a))b|(ba|aa)a))))a|(b((a((b(b|a)|aa)b|(ba|ab)a)|b(bab|baa))a|((abb|b(ba|(b|a)b))a|(b(ba|ab)|a(aa|ab))b)b)|a(b(((ba|(b|a)b)a|(ba|ab)b)a|((aa|ab)a|bab)b)|a(((ba|aa)a|(bb|aa)b)b|(aaa|b(bb|ab))a)))b)))+)'"
            ]
          },
          "metadata": {
            "tags": []
          },
          "execution_count": 64
        }
      ]
    },
    {
      "cell_type": "code",
      "metadata": {
        "id": "S7V8LuMG1GK6",
        "outputId": "6dd70ca1-814e-45a0-ac4e-b1d752175fd3",
        "colab": {
          "base_uri": "https://localhost:8080/",
          "height": 69
        }
      },
      "source": [
        "get_rule('31')"
      ],
      "execution_count": 65,
      "outputs": [
        {
          "output_type": "execute_result",
          "data": {
            "application/vnd.google.colaboratory.intrinsic+json": {
              "type": "string"
            },
            "text/plain": [
              "'(a((a(b((b(bb|ab)|a(b(b|a)|aa))b|((ba|a(b|a))a|(bb|aa)b)a)|a(((b(b|a)|aa)b|(ba|aa)a)a|aaab))|b(a(b(bb|ab)(b|a)|a((aa|ab)a|aab))|b((bab|a(ba|(b|a)b))a|(aaa|bab)b)))a|(((b(a(b|a)(b|a)|b(ba|(b|a)b))|a((b(b|a)|aa)b|(ba|ab)a))b|((b(ba|aa)|a(ba|(b|a)b))a|((b|a)(b|a)b|(b(b|a)|aa)a)b)a)b|((a((aa|ab)a|abb)|b(aba|b(ba|aa)))a|(b(aab|baa)|a(a(bb|ab)|b(b(b|a)|aa)))b)a)b)|b((b((b((bb|ab)b|(ba|aa)a)|a(b(ba|ab)|a(aa|ab)))a|(a(aba|bab)|b((b|a)(b|a)b|(b(b|a)|aa)a))b)|a(b(a(bba|a(bb|aa))|b((ba|ab)a|(ba|bb)b))|a(a((aa|ab)a|abb)|b((ba|a(b|a))b|(ba|aa)a))))a|(b((a((b(b|a)|aa)b|(ba|ab)a)|b(bab|baa))a|((abb|b(ba|(b|a)b))a|(b(ba|ab)|a(aa|ab))b)b)|a(b(((ba|(b|a)b)a|(ba|ab)b)a|((aa|ab)a|bab)b)|a(((ba|aa)a|(bb|aa)b)b|(aaa|b(bb|ab))a)))b))'"
            ]
          },
          "metadata": {
            "tags": []
          },
          "execution_count": 65
        }
      ]
    },
    {
      "cell_type": "code",
      "metadata": {
        "id": "rBlxK06-1Pso"
      },
      "source": [
        ""
      ],
      "execution_count": null,
      "outputs": []
    }
  ]
}