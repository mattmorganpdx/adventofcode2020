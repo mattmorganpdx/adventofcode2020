{
  "nbformat": 4,
  "nbformat_minor": 0,
  "metadata": {
    "kernelspec": {
      "display_name": "Python 3",
      "language": "python",
      "name": "python3"
    },
    "language_info": {
      "codemirror_mode": {
        "name": "ipython",
        "version": 3
      },
      "file_extension": ".py",
      "mimetype": "text/x-python",
      "name": "python",
      "nbconvert_exporter": "python",
      "pygments_lexer": "ipython3",
      "version": "3.8.5"
    },
    "colab": {
      "name": "solution.ipynb",
      "provenance": [],
      "include_colab_link": true
    }
  },
  "cells": [
    {
      "cell_type": "markdown",
      "metadata": {
        "id": "view-in-github",
        "colab_type": "text"
      },
      "source": [
        "<a href=\"https://colab.research.google.com/github/mattmorganpdx/adventofcode2020/blob/main/day_10/solution.ipynb\" target=\"_parent\"><img src=\"https://colab.research.google.com/assets/colab-badge.svg\" alt=\"Open In Colab\"/></a>"
      ]
    },
    {
      "cell_type": "code",
      "metadata": {
        "id": "RqjGLK1NMF7G"
      },
      "source": [
        "from urllib import request\n",
        "\n",
        "day = \"10\"\n",
        "\n",
        "def load_input():\n",
        "  input_url = f\"https://raw.githubusercontent.com/mattmorganpdx/adventofcode2020/main/day_{day}/input.txt\"\n",
        "  response = request.urlopen(input_url)\n",
        "  return [line.decode('utf-8') for line in response.read().splitlines()]\n"
      ],
      "execution_count": 97,
      "outputs": []
    },
    {
      "cell_type": "code",
      "metadata": {
        "id": "au8IVN5LMsHf"
      },
      "source": [
        "input = sorted([int(x) for x in load_input()])"
      ],
      "execution_count": 98,
      "outputs": []
    },
    {
      "cell_type": "code",
      "metadata": {
        "id": "EJ3W4ZuzJy6z",
        "colab": {
          "base_uri": "https://localhost:8080/"
        },
        "outputId": "658d8116-9df5-4e66-ee8e-5ea0127e2837"
      },
      "source": [
        "# Part 1\r\n",
        "total = [0,0,0,1]\r\n",
        "total[input[0]] +=1\r\n",
        "for i, x in enumerate(input):\r\n",
        "  if i + 1 < len(input):\r\n",
        "    total[abs(x - input[i+1])] += 1 \r\n",
        "total[1] * total[3]"
      ],
      "execution_count": 100,
      "outputs": [
        {
          "output_type": "execute_result",
          "data": {
            "text/plain": [
              "2664"
            ]
          },
          "metadata": {
            "tags": []
          },
          "execution_count": 100
        }
      ]
    },
    {
      "cell_type": "markdown",
      "metadata": {
        "id": "sP3mc6lST5sX"
      },
      "source": [
        "https://hackernoon.com/google-interview-questions-deconstructed-the-knights-dialer-f780d516f029"
      ]
    },
    {
      "cell_type": "code",
      "metadata": {
        "id": "WRFXaxkZ8H-c",
        "outputId": "ff2ac8d8-1db3-4e11-faa7-c6ddd5ae4271",
        "colab": {
          "base_uri": "https://localhost:8080/"
        }
      },
      "source": [
        "# Part 2\r\n",
        "input.append(input[-1] + 3)\r\n",
        "\r\n",
        "total = {0: 1}\r\n",
        "for r in input:\r\n",
        "  total[r] = total.get(r - 3, 0) + total.get(r - 2, 0) + total.get(r - 1, 0)\r\n",
        "print(total[input[-1]])"
      ],
      "execution_count": 101,
      "outputs": [
        {
          "output_type": "stream",
          "text": [
            "148098383347712\n"
          ],
          "name": "stdout"
        }
      ]
    },
    {
      "cell_type": "code",
      "metadata": {
        "id": "Z2ZOZ7aJ9oO6"
      },
      "source": [
        ""
      ],
      "execution_count": null,
      "outputs": []
    }
  ]
}