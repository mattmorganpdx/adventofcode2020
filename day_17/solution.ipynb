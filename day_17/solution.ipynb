{
  "nbformat": 4,
  "nbformat_minor": 0,
  "metadata": {
    "kernelspec": {
      "display_name": "Python 3",
      "language": "python",
      "name": "python3"
    },
    "language_info": {
      "codemirror_mode": {
        "name": "ipython",
        "version": 3
      },
      "file_extension": ".py",
      "mimetype": "text/x-python",
      "name": "python",
      "nbconvert_exporter": "python",
      "pygments_lexer": "ipython3",
      "version": "3.8.5"
    },
    "colab": {
      "name": "solution.ipynb",
      "provenance": [],
      "include_colab_link": true
    }
  },
  "cells": [
    {
      "cell_type": "markdown",
      "metadata": {
        "id": "view-in-github",
        "colab_type": "text"
      },
      "source": [
        "<a href=\"https://colab.research.google.com/github/mattmorganpdx/adventofcode2020/blob/main/day_17/solution.ipynb\" target=\"_parent\"><img src=\"https://colab.research.google.com/assets/colab-badge.svg\" alt=\"Open In Colab\"/></a>"
      ]
    },
    {
      "cell_type": "code",
      "metadata": {
        "id": "RqjGLK1NMF7G"
      },
      "source": [
        "from urllib import request\n",
        "\n",
        "day = \"17\"\n",
        "\n",
        "def load_input():\n",
        "  input_url = f\"https://raw.githubusercontent.com/mattmorganpdx/adventofcode2020/main/day_{day}/input.txt\"\n",
        "  response = request.urlopen(input_url)\n",
        "  return [line.decode('utf-8') for line in response.read().splitlines()]\n"
      ],
      "execution_count": 16,
      "outputs": []
    },
    {
      "cell_type": "code",
      "metadata": {
        "id": "au8IVN5LMsHf"
      },
      "source": [
        "input = load_input()"
      ],
      "execution_count": 17,
      "outputs": []
    },
    {
      "cell_type": "code",
      "metadata": {
        "id": "fRvzf0zv8YLV"
      },
      "source": [
        "test_input='''.#.\r\n",
        "..#\r\n",
        "###'''.splitlines()"
      ],
      "execution_count": 18,
      "outputs": []
    },
    {
      "cell_type": "code",
      "metadata": {
        "colab": {
          "base_uri": "https://localhost:8080/"
        },
        "id": "ZMuMeSPTE7Ls",
        "outputId": "e274b175-a63f-4093-f2d1-c84e6399abb2"
      },
      "source": [
        "# Part 1\r\n",
        "from itertools import permutations\r\n",
        "\r\n",
        "neighbor_offsets = {*permutations((-1,-1,-1,0,0,1,1,1), 3)}\r\n",
        "state = {(i, j, 1) for i, x in enumerate(input) for j, y in enumerate(x) if y == '#'}\r\n",
        "\r\n",
        "get_neighbor = lambda x, y: (x[0] + y[0], x[1] + y[1], x[2] + y[2])\r\n",
        "\r\n",
        "def cycle(state):\r\n",
        "  alive_cell_neighbors = { get_neighbor(alive, n) for n in neighbor_offsets for alive in state}\r\n",
        "  potential_cells = alive_cell_neighbors.difference(state)\r\n",
        "  next_state = {alive for alive in state if 2 <= len(state.intersection({get_neighbor(alive, n) for n in neighbor_offsets})) <= 3}\r\n",
        "  next_state.update({alive for alive in potential_cells if len(state.intersection({get_neighbor(alive, n) for n in neighbor_offsets})) == 3})\r\n",
        "\r\n",
        "  return next_state\r\n",
        "\r\n",
        "for _ in range(6):\r\n",
        "  state = cycle(state)\r\n",
        "\r\n",
        "print(len(state))\r\n",
        "\r\n"
      ],
      "execution_count": 19,
      "outputs": [
        {
          "output_type": "stream",
          "text": [
            "269\n"
          ],
          "name": "stdout"
        }
      ]
    },
    {
      "cell_type": "code",
      "metadata": {
        "id": "8dT_1soSFyHW",
        "outputId": "4eb9dc4a-4b5f-457e-cc19-802e57a6f109",
        "colab": {
          "base_uri": "https://localhost:8080/"
        }
      },
      "source": [
        "# Part 2\r\n",
        "from itertools import permutations\r\n",
        "\r\n",
        "neighbor_offsets = {*permutations((-1,-1,-1,-1,0,0,0,1,1,1,1), 4)}\r\n",
        "state = {(i, j, 1, 1) for i, x in enumerate(input) for j, y in enumerate(x) if y == '#'}\r\n",
        "\r\n",
        "get_neighbor = lambda x, y: (x[0] + y[0], x[1] + y[1], x[2] + y[2], x[3] + y[3])\r\n",
        "\r\n",
        "def cycle(state):\r\n",
        "  alive_cell_neighbors = { get_neighbor(alive, n) for n in neighbor_offsets for alive in state}\r\n",
        "  potential_cells = alive_cell_neighbors.difference(state)\r\n",
        "  next_state = {alive for alive in state if 2 <= len(state.intersection({get_neighbor(alive, n) for n in neighbor_offsets})) <= 3}\r\n",
        "  next_state.update({alive for alive in potential_cells if len(state.intersection({get_neighbor(alive, n) for n in neighbor_offsets})) == 3})\r\n",
        "\r\n",
        "  return next_state\r\n",
        "\r\n",
        "for _ in range(6):\r\n",
        "  state = cycle(state)\r\n",
        "\r\n",
        "print(len(state))"
      ],
      "execution_count": 20,
      "outputs": [
        {
          "output_type": "stream",
          "text": [
            "1380\n"
          ],
          "name": "stdout"
        }
      ]
    },
    {
      "cell_type": "code",
      "metadata": {
        "id": "qvTuKmj7E4lb"
      },
      "source": [
        ""
      ],
      "execution_count": null,
      "outputs": []
    }
  ]
}