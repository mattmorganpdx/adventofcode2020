{
  "nbformat": 4,
  "nbformat_minor": 0,
  "metadata": {
    "kernelspec": {
      "display_name": "Python 3",
      "language": "python",
      "name": "python3"
    },
    "language_info": {
      "codemirror_mode": {
        "name": "ipython",
        "version": 3
      },
      "file_extension": ".py",
      "mimetype": "text/x-python",
      "name": "python",
      "nbconvert_exporter": "python",
      "pygments_lexer": "ipython3",
      "version": "3.8.5"
    },
    "colab": {
      "name": "solution.ipynb",
      "provenance": [],
      "include_colab_link": true
    }
  },
  "cells": [
    {
      "cell_type": "markdown",
      "metadata": {
        "id": "view-in-github",
        "colab_type": "text"
      },
      "source": [
        "<a href=\"https://colab.research.google.com/github/mattmorganpdx/adventofcode2020/blob/main/day_11/solution.ipynb\" target=\"_parent\"><img src=\"https://colab.research.google.com/assets/colab-badge.svg\" alt=\"Open In Colab\"/></a>"
      ]
    },
    {
      "cell_type": "code",
      "metadata": {
        "id": "RqjGLK1NMF7G"
      },
      "source": [
        "from urllib import request\n",
        "\n",
        "day = \"11\"\n",
        "\n",
        "def load_input():\n",
        "  input_url = f\"https://raw.githubusercontent.com/mattmorganpdx/adventofcode2020/main/day_{day}/input.txt\"\n",
        "  response = request.urlopen(input_url)\n",
        "  return [line.decode('utf-8') for line in response.read().splitlines()]\n"
      ],
      "execution_count": 179,
      "outputs": []
    },
    {
      "cell_type": "code",
      "metadata": {
        "id": "au8IVN5LMsHf"
      },
      "source": [
        "input = [list(x) for x in load_input()]"
      ],
      "execution_count": 180,
      "outputs": []
    },
    {
      "cell_type": "markdown",
      "metadata": {
        "id": "vpHtzdscM4og"
      },
      "source": [
        "If a seat is empty (L) and there are no occupied seats adjacent to it, the seat becomes occupied.\r\n",
        "\r\n",
        "If a seat is occupied (#) and four or more seats adjacent to it are also occupied, the seat becomes empty.\r\n",
        "\r\n",
        "Otherwise, the seat's state does not change."
      ]
    },
    {
      "cell_type": "code",
      "metadata": {
        "id": "yQ4_kmTZNabN",
        "colab": {
          "base_uri": "https://localhost:8080/"
        },
        "outputId": "3e1dde98-8045-403a-d10d-4339a1219bd7"
      },
      "source": [
        "# Part 1\r\n",
        "def process(input):\r\n",
        "  def check_adj_empty(y, x):\r\n",
        "    if x - 1 >= 0: \r\n",
        "      if input[y][x -1] == '#':\r\n",
        "          return False\r\n",
        "    if x + 1 < len(input[y]):\r\n",
        "      if input[y][x + 1] == '#':\r\n",
        "        return False\r\n",
        "    if y - 1  >= 0:\r\n",
        "      if x - 1 >= 0:\r\n",
        "        if input[y - 1][x -1] == '#':\r\n",
        "          return False\r\n",
        "      if x + 1 < len(input[y]):\r\n",
        "        if input[y - 1][x + 1] == '#':\r\n",
        "          return False\r\n",
        "      if input[y -1][x] == '#':\r\n",
        "        return False\r\n",
        "    if y + 1  < len(input):\r\n",
        "      if x - 1 >= 0:\r\n",
        "        if input[y + 1][x -1] == '#':\r\n",
        "          return False\r\n",
        "      if x + 1 < len(input[y]):\r\n",
        "        if input[y + 1][x + 1] == '#':\r\n",
        "          return False\r\n",
        "      if input[y + 1][x] == '#':\r\n",
        "        return False\r\n",
        "      \r\n",
        "    return True\r\n",
        "\r\n",
        "  def check_adj_occupied(y, x):\r\n",
        "    count = 0\r\n",
        "    if x - 1 >= 0: \r\n",
        "      if input[y][x -1] == '#':\r\n",
        "          count += 1\r\n",
        "    if x + 1 < len(input[y]):\r\n",
        "      if input[y][x + 1] == '#':\r\n",
        "        count += 1\r\n",
        "    if y - 1  >= 0:\r\n",
        "      if x - 1 >= 0:\r\n",
        "        if input[y - 1][x -1] == '#':\r\n",
        "          count += 1\r\n",
        "      if x + 1 < len(input[y]):\r\n",
        "        if input[y - 1][x + 1] == '#':\r\n",
        "          count += 1\r\n",
        "      if input[y -1][x] == '#':\r\n",
        "        count += 1\r\n",
        "    if y + 1  < len(input):\r\n",
        "      if x - 1 >= 0:\r\n",
        "        if input[y + 1][x -1] == '#':\r\n",
        "          count += 1\r\n",
        "      if x + 1 < len(input[y]):\r\n",
        "        if input[y + 1][x + 1] == '#':\r\n",
        "          count += 1\r\n",
        "      if input[y + 1][x] == '#':\r\n",
        "        count += 1\r\n",
        "      \r\n",
        "    return count >= 4\r\n",
        "\r\n",
        "  changes = 0\r\n",
        "  r = []\r\n",
        "  for y, vals in enumerate(input):\r\n",
        "    r.append([])\r\n",
        "    for x, _ in enumerate(vals):\r\n",
        "      if input[y][x] == 'L' and check_adj_empty(y,x):\r\n",
        "        r[y].append('#')\r\n",
        "        changes += 1\r\n",
        "      elif input[y][x] == '#' and check_adj_occupied(y,x):\r\n",
        "        r[y].append('L')\r\n",
        "        changes += 1\r\n",
        "      else:\r\n",
        "        r[y].append(input[y][x])\r\n",
        "  return changes, r\r\n",
        "\r\n",
        "from copy import deepcopy\r\n",
        "n = deepcopy(input)\r\n",
        "count = 0\r\n",
        "changes = True\r\n",
        "while changes != 0:\r\n",
        "  count += 1\r\n",
        "  changes, n = process(n)\r\n",
        "\r\n",
        "o = 0\r\n",
        "for i in n:\r\n",
        "  for j in i:\r\n",
        "    o += j =='#'\r\n",
        "print(o)  \r\n"
      ],
      "execution_count": 181,
      "outputs": [
        {
          "output_type": "stream",
          "text": [
            "2152\n"
          ],
          "name": "stdout"
        }
      ]
    },
    {
      "cell_type": "code",
      "metadata": {
        "id": "fNUKHvj8XCFx"
      },
      "source": [
        "test_input = '''L.LL.LL.LL\r\n",
        "LLLLLLL.LL\r\n",
        "L.L.L..L..\r\n",
        "LLLL.LL.LL\r\n",
        "L.LL.LL.LL\r\n",
        "L.LLLLL.LL\r\n",
        "..L.L.....\r\n",
        "LLLLLLLLLL\r\n",
        "L.LLLLLL.L\r\n",
        "L.LLLLL.LL'''.splitlines()"
      ],
      "execution_count": 182,
      "outputs": []
    },
    {
      "cell_type": "code",
      "metadata": {
        "id": "Jm2Z0rxP8TCG",
        "outputId": "44684fd7-0aa8-43cc-d4dd-8d667716c963",
        "colab": {
          "base_uri": "https://localhost:8080/"
        }
      },
      "source": [
        "# Part 2\r\n",
        "from itertools import chain\r\n",
        "\r\n",
        "def process(input):\r\n",
        "  def check_adj_empty(y, x):\r\n",
        "\r\n",
        "    def get_pp_diag():\r\n",
        "      for r in range(1, min(len(input) - y, len(input[0]) - x)):\r\n",
        "        if input[y + r][x + r] != '.':\r\n",
        "          return input[y + r][x + r] == 'L'\r\n",
        "      return True\r\n",
        "\r\n",
        "    def get_pn_diag():\r\n",
        "      for r in range(1, min(len(input) - y, x + 1)):\r\n",
        "        if input[y + r][x - r] != '.':\r\n",
        "          return input[y + r][x - r] == 'L'\r\n",
        "      return True\r\n",
        "\r\n",
        "    def get_np_diag():        \r\n",
        "      for r in range(1, min(y + 1, len(input[0]) - x)):\r\n",
        "        if input[y - r][x + r] != '.':\r\n",
        "          return input[y - r][x + r] == 'L'\r\n",
        "      return True\r\n",
        "\r\n",
        "    def get_nn_diag():\r\n",
        "      for r in range(1, min(y + 1, x + 1)):\r\n",
        "        if input[y - r][x - r] != '.':\r\n",
        "          return input[y - r][x - r] == 'L'\r\n",
        "      return True\r\n",
        "    \r\n",
        "    def get_vert_left():\r\n",
        "      for r in range(y - 1, -1, -1):\r\n",
        "        if input[r][x] != '.':\r\n",
        "          return input[r][x] == 'L'\r\n",
        "      return True\r\n",
        "\r\n",
        "    def get_vert_right():\r\n",
        "      for r in range(y+1, len(input)):\r\n",
        "        if input[r][x] != '.':\r\n",
        "          return input[r][x] == 'L'\r\n",
        "      return True  \r\n",
        "    \r\n",
        "    def get_horz_left():\r\n",
        "      for s in range(x - 1, -1, -1):\r\n",
        "        if input[y][s] != '.':\r\n",
        "          return input[y][s] == 'L'\r\n",
        "      return True\r\n",
        "\r\n",
        "    def get_horz_right():\r\n",
        "      for s in range(x+1, len(input[0])):\r\n",
        "        if input[y][s] != '.':\r\n",
        "          return input[y][s] == 'L'\r\n",
        "      return True\r\n",
        "\r\n",
        "    return get_pp_diag() and get_pn_diag() and get_np_diag() and get_nn_diag() \\\r\n",
        "      and get_vert_left() and get_vert_right() \\\r\n",
        "      and get_horz_left() and get_horz_right()\r\n",
        "\r\n",
        "  def check_adj_occupied(y, x):\r\n",
        "\r\n",
        "    def get_pp_diag():\r\n",
        "      for r in range(1, min(len(input) - y, len(input[0]) - x)):\r\n",
        "        if input[y + r][x + r] != '.':\r\n",
        "          return input[y + r][x + r] == '#'\r\n",
        "      return False\r\n",
        "\r\n",
        "    def get_pn_diag():\r\n",
        "      for r in range(1, min(len(input) - y, x + 1)):\r\n",
        "        if input[y + r][x - r] != '.':\r\n",
        "          return input[y + r][x - r] == '#'\r\n",
        "      return False\r\n",
        "\r\n",
        "    def get_np_diag():        \r\n",
        "      for r in range(1, min(y + 1, len(input[0]) - x)):\r\n",
        "        if input[y - r][x + r] != '.':\r\n",
        "          return input[y - r][x + r] == '#'\r\n",
        "      return False\r\n",
        "\r\n",
        "    def get_nn_diag():\r\n",
        "      for r in range(1, min(y + 1, x + 1)):\r\n",
        "        if input[y - r][x - r] != '.':\r\n",
        "          return input[y - r][x - r] == '#'\r\n",
        "      return False\r\n",
        "    \r\n",
        "    def get_vert_left():\r\n",
        "      for r in range(y - 1, -1, -1):\r\n",
        "        if input[r][x] != '.':\r\n",
        "          return input[r][x] == '#'\r\n",
        "      return False\r\n",
        "\r\n",
        "    def get_vert_right():\r\n",
        "      for r in range(y+1, len(input)):\r\n",
        "        if input[r][x] != '.':\r\n",
        "          return input[r][x] == '#'\r\n",
        "      return False\r\n",
        "    \r\n",
        "    def get_horz_left():\r\n",
        "      for s in range(x - 1, -1 ,-1):\r\n",
        "        if input[y][s] != '.':\r\n",
        "          return input[y][s] == '#'\r\n",
        "      return False\r\n",
        "\r\n",
        "    def get_horz_right():\r\n",
        "      for s in range(x+1, len(input[0])):\r\n",
        "        if input[y][s] != '.':\r\n",
        "          return input[y][s] == '#'\r\n",
        "      return False\r\n",
        "    return (get_pp_diag() + get_pn_diag() + get_np_diag() + get_nn_diag() + get_vert_left() + get_vert_right() + get_horz_left() + get_horz_right()) >= 5\r\n",
        "\r\n",
        "  changes = 0\r\n",
        "  r = []\r\n",
        "  for y, vals in enumerate(input):\r\n",
        "    r.append([])\r\n",
        "    for x, _ in enumerate(vals):\r\n",
        "      if input[y][x] == 'L' and check_adj_empty(y,x):\r\n",
        "        r[y].append('#')\r\n",
        "        changes += 1\r\n",
        "      elif input[y][x] == '#' and check_adj_occupied(y,x):\r\n",
        "        r[y].append('L')\r\n",
        "        changes += 1\r\n",
        "      else:\r\n",
        "        r[y].append(input[y][x])\r\n",
        "  return changes, r\r\n",
        "\r\n",
        "from copy import deepcopy\r\n",
        "n = deepcopy(input)\r\n",
        "count = 0\r\n",
        "changes = True\r\n",
        "while changes != 0 and count < 500:\r\n",
        "  count += 1\r\n",
        "  # print(f'======RUN {count}')\r\n",
        "  # for e in n:\r\n",
        "  #   print(''.join(e))\r\n",
        "  # print('========')\r\n",
        "  changes, n = process(n)\r\n",
        "\r\n",
        "\r\n",
        "o = 0\r\n",
        "for i in n:\r\n",
        "  for j in i:\r\n",
        "    o += j =='#'\r\n",
        "print(o, count)  \r\n"
      ],
      "execution_count": 183,
      "outputs": [
        {
          "output_type": "stream",
          "text": [
            "1937 83\n"
          ],
          "name": "stdout"
        }
      ]
    },
    {
      "cell_type": "code",
      "metadata": {
        "id": "4R4M434gw6n1"
      },
      "source": [
        ""
      ],
      "execution_count": null,
      "outputs": []
    }
  ]
}