{
  "nbformat": 4,
  "nbformat_minor": 0,
  "metadata": {
    "kernelspec": {
      "display_name": "Python 3",
      "language": "python",
      "name": "python3"
    },
    "language_info": {
      "codemirror_mode": {
        "name": "ipython",
        "version": 3
      },
      "file_extension": ".py",
      "mimetype": "text/x-python",
      "name": "python",
      "nbconvert_exporter": "python",
      "pygments_lexer": "ipython3",
      "version": "3.8.5"
    },
    "colab": {
      "name": "solution.ipynb",
      "provenance": [],
      "include_colab_link": true
    }
  },
  "cells": [
    {
      "cell_type": "markdown",
      "metadata": {
        "id": "view-in-github",
        "colab_type": "text"
      },
      "source": [
        "<a href=\"https://colab.research.google.com/github/mattmorganpdx/adventofcode2020/blob/main/day_11/solution.ipynb\" target=\"_parent\"><img src=\"https://colab.research.google.com/assets/colab-badge.svg\" alt=\"Open In Colab\"/></a>"
      ]
    },
    {
      "cell_type": "code",
      "metadata": {
        "id": "RqjGLK1NMF7G"
      },
      "source": [
        "from urllib import request\n",
        "\n",
        "day = \"11\"\n",
        "\n",
        "def load_input():\n",
        "  input_url = f\"https://raw.githubusercontent.com/mattmorganpdx/adventofcode2020/main/day_{day}/input.txt\"\n",
        "  response = request.urlopen(input_url)\n",
        "  return [line.decode('utf-8') for line in response.read().splitlines()]\n"
      ],
      "execution_count": 1,
      "outputs": []
    },
    {
      "cell_type": "code",
      "metadata": {
        "id": "au8IVN5LMsHf"
      },
      "source": [
        "input = [list(x) for x in load_input()]"
      ],
      "execution_count": 10,
      "outputs": []
    },
    {
      "cell_type": "markdown",
      "metadata": {
        "id": "vpHtzdscM4og"
      },
      "source": [
        "If a seat is empty (L) and there are no occupied seats adjacent to it, the seat becomes occupied.\r\n",
        "\r\n",
        "If a seat is occupied (#) and four or more seats adjacent to it are also occupied, the seat becomes empty.\r\n",
        "\r\n",
        "Otherwise, the seat's state does not change."
      ]
    },
    {
      "cell_type": "code",
      "metadata": {
        "id": "yQ4_kmTZNabN",
        "outputId": "01446bad-2d61-4d78-b677-4a4671a72051",
        "colab": {
          "base_uri": "https://localhost:8080/"
        }
      },
      "source": [
        "def process(input):\r\n",
        "  def check_adj_empty(y, x):\r\n",
        "    if x - 1 >= 0: \r\n",
        "      if input[y][x -1] == '#':\r\n",
        "          return False\r\n",
        "    if x + 1 < len(input[y]):\r\n",
        "      if input[y][x + 1] == '#':\r\n",
        "        return False\r\n",
        "    if y - 1  >= 0:\r\n",
        "      if x - 1 >= 0:\r\n",
        "        if input[y - 1][x -1] == '#':\r\n",
        "          return False\r\n",
        "      if x + 1 < len(input[y]):\r\n",
        "        if input[y - 1][x + 1] == '#':\r\n",
        "          return False\r\n",
        "      if input[y -1][x] == '#':\r\n",
        "        return False\r\n",
        "    if y + 1  < len(input):\r\n",
        "      if x - 1 >= 0:\r\n",
        "        if input[y + 1][x -1] == '#':\r\n",
        "          return False\r\n",
        "      if x + 1 < len(input[y]):\r\n",
        "        if input[y + 1][x + 1] == '#':\r\n",
        "          return False\r\n",
        "      if input[y + 1][x] == '#':\r\n",
        "        return False\r\n",
        "      \r\n",
        "    return True\r\n",
        "\r\n",
        "  def check_adj_occupied(y, x):\r\n",
        "    count = 0\r\n",
        "    if x - 1 >= 0: \r\n",
        "      if input[y][x -1] == '#':\r\n",
        "          count += 1\r\n",
        "    if x + 1 < len(input[y]):\r\n",
        "      if input[y][x + 1] == '#':\r\n",
        "        count += 1\r\n",
        "    if y - 1  >= 0:\r\n",
        "      if x - 1 >= 0:\r\n",
        "        if input[y - 1][x -1] == '#':\r\n",
        "          count += 1\r\n",
        "      if x + 1 < len(input[y]):\r\n",
        "        if input[y - 1][x + 1] == '#':\r\n",
        "          count += 1\r\n",
        "      if input[y -1][x] == '#':\r\n",
        "        count += 1\r\n",
        "    if y + 1  < len(input):\r\n",
        "      if x - 1 >= 0:\r\n",
        "        if input[y + 1][x -1] == '#':\r\n",
        "          count += 1\r\n",
        "      if x + 1 < len(input[y]):\r\n",
        "        if input[y + 1][x + 1] == '#':\r\n",
        "          count += 1\r\n",
        "      if input[y + 1][x] == '#':\r\n",
        "        count += 1\r\n",
        "      \r\n",
        "    return count >= 4\r\n",
        "\r\n",
        "  changes = 0\r\n",
        "  r = []\r\n",
        "  for y, vals in enumerate(input):\r\n",
        "    r.append([])\r\n",
        "    for x, _ in enumerate(vals):\r\n",
        "      if input[y][x] == 'L' and check_adj_empty(y,x):\r\n",
        "        r[y].append('#')\r\n",
        "        changes += 1\r\n",
        "      elif input[y][x] == '#' and check_adj_occupied(y,x):\r\n",
        "        r[y].append('L')\r\n",
        "        changes += 1\r\n",
        "      else:\r\n",
        "        r[y].append(input[y][x])\r\n",
        "  return changes, r\r\n",
        "\r\n",
        "from copy import deepcopy\r\n",
        "n = deepcopy(input)\r\n",
        "\r\n",
        "changes = 1\r\n",
        "while changes != 0:\r\n",
        "  count += 1\r\n",
        "  changes, n = process(n)\r\n",
        "\r\n",
        "o = 0\r\n",
        "for i in n:\r\n",
        "  for j in i:\r\n",
        "    o += j =='#'\r\n",
        "print(o)  \r\n"
      ],
      "execution_count": 90,
      "outputs": [
        {
          "output_type": "stream",
          "text": [
            "2152\n"
          ],
          "name": "stdout"
        }
      ]
    }
  ]
}