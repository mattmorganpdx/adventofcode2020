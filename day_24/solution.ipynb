{
  "nbformat": 4,
  "nbformat_minor": 0,
  "metadata": {
    "kernelspec": {
      "display_name": "Python 3",
      "language": "python",
      "name": "python3"
    },
    "language_info": {
      "codemirror_mode": {
        "name": "ipython",
        "version": 3
      },
      "file_extension": ".py",
      "mimetype": "text/x-python",
      "name": "python",
      "nbconvert_exporter": "python",
      "pygments_lexer": "ipython3",
      "version": "3.8.5"
    },
    "colab": {
      "name": "solution.ipynb",
      "provenance": [],
      "include_colab_link": true
    }
  },
  "cells": [
    {
      "cell_type": "markdown",
      "metadata": {
        "id": "view-in-github",
        "colab_type": "text"
      },
      "source": [
        "<a href=\"https://colab.research.google.com/github/mattmorganpdx/adventofcode2020/blob/main/day_24/solution.ipynb\" target=\"_parent\"><img src=\"https://colab.research.google.com/assets/colab-badge.svg\" alt=\"Open In Colab\"/></a>"
      ]
    },
    {
      "cell_type": "code",
      "metadata": {
        "id": "RqjGLK1NMF7G"
      },
      "source": [
        "from urllib import request\n",
        "\n",
        "day = \"24\"\n",
        "\n",
        "def load_input():\n",
        "  input_url = f\"https://raw.githubusercontent.com/mattmorganpdx/adventofcode2020/main/day_{day}/input.txt\"\n",
        "  response = request.urlopen(input_url)\n",
        "  return [line.decode('utf-8') for line in response.read().splitlines()]\n"
      ],
      "execution_count": 65,
      "outputs": []
    },
    {
      "cell_type": "code",
      "metadata": {
        "id": "e3V0ezmLWABH"
      },
      "source": [
        "input = load_input()"
      ],
      "execution_count": 66,
      "outputs": []
    },
    {
      "cell_type": "code",
      "metadata": {
        "id": "au8IVN5LMsHf"
      },
      "source": [
        "test_input = '''sesenwnenenewseeswwswswwnenewsewsw\r\n",
        "neeenesenwnwwswnenewnwwsewnenwseswesw\r\n",
        "seswneswswsenwwnwse\r\n",
        "nwnwneseeswswnenewneswwnewseswneseene\r\n",
        "swweswneswnenwsewnwneneseenw\r\n",
        "eesenwseswswnenwswnwnwsewwnwsene\r\n",
        "sewnenenenesenwsewnenwwwse\r\n",
        "wenwwweseeeweswwwnwwe\r\n",
        "wsweesenenewnwwnwsenewsenwwsesesenwne\r\n",
        "neeswseenwwswnwswswnw\r\n",
        "nenwswwsewswnenenewsenwsenwnesesenew\r\n",
        "enewnwewneswsewnwswenweswnenwsenwsw\r\n",
        "sweneswneswneneenwnewenewwneswswnese\r\n",
        "swwesenesewenwneswnwwneseswwne\r\n",
        "enesenwswwswneneswsenwnewswseenwsese\r\n",
        "wnwnesenesenenwwnenwsewesewsesesew\r\n",
        "nenewswnwewswnenesenwnesewesw\r\n",
        "eneswnwswnwsenenwnwnwwseeswneewsenese\r\n",
        "neswnwewnwnwseenwseesewsenwsweewe\r\n",
        "wseweeenwnesenwwwswnew'''.splitlines()"
      ],
      "execution_count": 67,
      "outputs": []
    },
    {
      "cell_type": "code",
      "metadata": {
        "id": "yQ4_kmTZNabN",
        "outputId": "896fe74b-b1a9-4a2a-f87f-c72f99161f8d",
        "colab": {
          "base_uri": "https://localhost:8080/"
        }
      },
      "source": [
        "# Part 1\r\n",
        "import re\r\n",
        "\r\n",
        "p = re.compile(r'((?<=[^ew])?[ew]|se|ne|sw|nw)')\r\n",
        "\r\n",
        "move = {\r\n",
        "     'e': lambda x: (x[0] + 1, x[1] - 1, x[2]),\r\n",
        "     'w': lambda x: (x[0] - 1, x[1] + 1, x[2]),\r\n",
        "    'ne': lambda x: (x[0] + 1, x[1], x[2] - 1),\r\n",
        "    'sw': lambda x: (x[0] - 1, x[1], x[2] + 1),\r\n",
        "    'se': lambda x: (x[0], x[1] - 1, x[2] + 1),\r\n",
        "    'nw': lambda x: (x[0], x[1] + 1, x[2] - 1),\r\n",
        "}\r\n",
        "\r\n",
        "def get_tiles(input):\r\n",
        "  tiles = {}\r\n",
        "  for l in input:\r\n",
        "    point = (0,0,0)\r\n",
        "    for d in p.findall(l):\r\n",
        "      point = move[d](point)\r\n",
        "    color = tiles.get(point, False)\r\n",
        "    tiles[point] = not color\r\n",
        "  return {p for p, v in tiles.items() if v}\r\n",
        "\r\n",
        "print(len(get_tiles(test_input)))\r\n",
        "print(len(get_tiles(input)))"
      ],
      "execution_count": 68,
      "outputs": [
        {
          "output_type": "stream",
          "text": [
            "10\n",
            "382\n"
          ],
          "name": "stdout"
        }
      ]
    },
    {
      "cell_type": "code",
      "metadata": {
        "id": "zTAjLxc3LCR4",
        "outputId": "1e2d1ba7-4981-4012-e6d2-112160f008d5",
        "colab": {
          "base_uri": "https://localhost:8080/"
        }
      },
      "source": [
        "from itertools import permutations\r\n",
        "\r\n",
        "neighbor_offsets = {*permutations((-1,0,1))}\r\n",
        "state = get_tiles(input)\r\n",
        "\r\n",
        "get_neighbor = lambda x, y: (x[0] + y[0], x[1] + y[1], x[2] + y[2])\r\n",
        "\r\n",
        "def cycle(state):\r\n",
        "  alive_cell_neighbors = { get_neighbor(alive, n) for n in neighbor_offsets for alive in state}\r\n",
        "  potential_cells = alive_cell_neighbors.difference(state)\r\n",
        "  next_state = {alive for alive in state if 1 <= len(state.intersection({get_neighbor(alive, n) for n in neighbor_offsets})) <= 2}\r\n",
        "  next_state.update({alive for alive in potential_cells if len(state.intersection({get_neighbor(alive, n) for n in neighbor_offsets})) == 2})\r\n",
        "\r\n",
        "  return next_state\r\n",
        "\r\n",
        "for _ in range(100):\r\n",
        "  state = cycle(state)\r\n",
        "\r\n",
        "print(len(state))"
      ],
      "execution_count": 69,
      "outputs": [
        {
          "output_type": "stream",
          "text": [
            "3964\n"
          ],
          "name": "stdout"
        }
      ]
    },
    {
      "cell_type": "code",
      "metadata": {
        "id": "0wHwuXDbbz0I"
      },
      "source": [
        ""
      ],
      "execution_count": null,
      "outputs": []
    }
  ]
}