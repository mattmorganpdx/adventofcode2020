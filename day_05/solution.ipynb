{
  "nbformat": 4,
  "nbformat_minor": 0,
  "metadata": {
    "kernelspec": {
      "display_name": "Python 3",
      "language": "python",
      "name": "python3"
    },
    "language_info": {
      "codemirror_mode": {
        "name": "ipython",
        "version": 3
      },
      "file_extension": ".py",
      "mimetype": "text/x-python",
      "name": "python",
      "nbconvert_exporter": "python",
      "pygments_lexer": "ipython3",
      "version": "3.8.5"
    },
    "colab": {
      "name": "solution.ipynb",
      "provenance": [],
      "include_colab_link": true
    }
  },
  "cells": [
    {
      "cell_type": "markdown",
      "metadata": {
        "id": "view-in-github",
        "colab_type": "text"
      },
      "source": [
        "<a href=\"https://colab.research.google.com/github/mattmorganpdx/adventofcode2020/blob/main/day_05/solution.ipynb\" target=\"_parent\"><img src=\"https://colab.research.google.com/assets/colab-badge.svg\" alt=\"Open In Colab\"/></a>"
      ]
    },
    {
      "cell_type": "code",
      "metadata": {
        "id": "RqjGLK1NMF7G"
      },
      "source": [
        "from urllib import request\n",
        "\n",
        "day = \"05\"\n",
        "\n",
        "def load_input():\n",
        "  input_url = f\"https://raw.githubusercontent.com/mattmorganpdx/adventofcode2020/main/day_{day}/input.txt\"\n",
        "  response = request.urlopen(input_url)\n",
        "  return [line.decode('utf-8') for line in response.read().splitlines()]\n"
      ],
      "execution_count": 104,
      "outputs": []
    },
    {
      "cell_type": "code",
      "metadata": {
        "id": "au8IVN5LMsHf"
      },
      "source": [
        "input = load_input()"
      ],
      "execution_count": 105,
      "outputs": []
    },
    {
      "cell_type": "code",
      "metadata": {
        "id": "c-nQ1eW4sLKJ"
      },
      "source": [
        "def find_seat(t):\n",
        "  # Find front or back range\n",
        "  def sub_div(s, e, c):\n",
        "    # Return range based on c\n",
        "    r = (e - s + 1) // 2\n",
        "    if c == 'F' or c == 'L':\n",
        "      return s, abs(r - e) \n",
        "    else:\n",
        "      return abs(s + r), e\n",
        "  # Get Row\n",
        "  s = 0\n",
        "  e = 127\n",
        "  for i in t[:7]:\n",
        "    s, e = sub_div(s, e, i)\n",
        "  row = s\n",
        "  # Get Col\n",
        "  s = 0\n",
        "  e = 8\n",
        "  for i in t[7:]:\n",
        "    s, e = sub_div(s, e, i)\n",
        "  col = s\n",
        "  return row * 8 + col"
      ],
      "execution_count": 106,
      "outputs": []
    },
    {
      "cell_type": "code",
      "metadata": {
        "id": "H8kGKolksM_2",
        "outputId": "10c4d433-d9a2-4123-ef16-ab7386f0d5c6",
        "colab": {
          "base_uri": "https://localhost:8080/"
        }
      },
      "source": [
        "# Part 1\n",
        "print(max(find_seat(t) for t in input))"
      ],
      "execution_count": 107,
      "outputs": [
        {
          "output_type": "stream",
          "text": [
            "947\n"
          ],
          "name": "stdout"
        }
      ]
    },
    {
      "cell_type": "code",
      "metadata": {
        "id": "1S9m-GhUudOs",
        "outputId": "163c2b5f-ddb9-4bec-dd08-03b8f6ddeea9",
        "colab": {
          "base_uri": "https://localhost:8080/"
        }
      },
      "source": [
        "# Part 2\n",
        "import numpy as np\n",
        "print(np.setdiff1d(range(min(find_seat(t) for t in input), max(find_seat(t) for t in input) + 1), [find_seat(x) for x in input]))"
      ],
      "execution_count": 108,
      "outputs": [
        {
          "output_type": "stream",
          "text": [
            "[636]\n"
          ],
          "name": "stdout"
        }
      ]
    }
  ]
}