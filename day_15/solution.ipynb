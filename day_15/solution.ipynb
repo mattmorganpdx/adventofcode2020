{
  "nbformat": 4,
  "nbformat_minor": 0,
  "metadata": {
    "kernelspec": {
      "display_name": "Python 3",
      "language": "python",
      "name": "python3"
    },
    "language_info": {
      "codemirror_mode": {
        "name": "ipython",
        "version": 3
      },
      "file_extension": ".py",
      "mimetype": "text/x-python",
      "name": "python",
      "nbconvert_exporter": "python",
      "pygments_lexer": "ipython3",
      "version": "3.8.5"
    },
    "colab": {
      "name": "solution.ipynb",
      "provenance": [],
      "include_colab_link": true
    }
  },
  "cells": [
    {
      "cell_type": "markdown",
      "metadata": {
        "id": "view-in-github",
        "colab_type": "text"
      },
      "source": [
        "<a href=\"https://colab.research.google.com/github/mattmorganpdx/adventofcode2020/blob/main/day_15/solution.ipynb\" target=\"_parent\"><img src=\"https://colab.research.google.com/assets/colab-badge.svg\" alt=\"Open In Colab\"/></a>"
      ]
    },
    {
      "cell_type": "code",
      "metadata": {
        "id": "RqjGLK1NMF7G"
      },
      "source": [
        "from urllib import request\n",
        "\n",
        "day = \"15\"\n",
        "\n",
        "def load_input():\n",
        "  input_url = f\"https://raw.githubusercontent.com/mattmorganpdx/adventofcode2020/main/day_{day}/input.txt\"\n",
        "  response = request.urlopen(input_url)\n",
        "  return [line.decode('utf-8') for line in response.read().splitlines()]\n"
      ],
      "execution_count": 1,
      "outputs": []
    },
    {
      "cell_type": "code",
      "metadata": {
        "id": "au8IVN5LMsHf"
      },
      "source": [
        "input = [int(x) for x in load_input()[0].split(',')]"
      ],
      "execution_count": 2,
      "outputs": []
    },
    {
      "cell_type": "code",
      "metadata": {
        "id": "TVq_HVQ_2fcC",
        "outputId": "d47a95dc-ff56-4380-dd06-b82b64e0801c",
        "colab": {
          "base_uri": "https://localhost:8080/"
        }
      },
      "source": [
        "# Part 1 & 2\r\n",
        "test_input = [2,3,1]\r\n",
        "\r\n",
        "memory = {x: (y + 1, y + 1) for y, x in enumerate(input)} \r\n",
        "turn = len(memory)\r\n",
        "\r\n",
        "last_said = 1\r\n",
        "next_said = 0\r\n",
        "\r\n",
        "while turn < 30000000:\r\n",
        "  turn += 1\r\n",
        "  first_time_said = memory.get(last_said)[0] == memory.get(last_said)[1]\r\n",
        "  next_said = 0 if first_time_said else memory.get(last_said)[1] - memory.get(last_said)[0] \r\n",
        "  l_next_said = memory.get(next_said, (turn,turn))\r\n",
        "  memory[next_said] = (l_next_said[1], turn)\r\n",
        "  last_said = next_said\r\n",
        "  \r\n",
        "\r\n",
        "print(next_said)"
      ],
      "execution_count": 79,
      "outputs": [
        {
          "output_type": "stream",
          "text": [
            "19331\n"
          ],
          "name": "stdout"
        }
      ]
    },
    {
      "cell_type": "code",
      "metadata": {
        "id": "80Qdht0a2o-H"
      },
      "source": [
        ""
      ],
      "execution_count": null,
      "outputs": []
    }
  ]
}