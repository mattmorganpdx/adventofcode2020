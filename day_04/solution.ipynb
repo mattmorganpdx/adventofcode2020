{
  "nbformat": 4,
  "nbformat_minor": 0,
  "metadata": {
    "kernelspec": {
      "display_name": "Python 3",
      "language": "python",
      "name": "python3"
    },
    "language_info": {
      "codemirror_mode": {
        "name": "ipython",
        "version": 3
      },
      "file_extension": ".py",
      "mimetype": "text/x-python",
      "name": "python",
      "nbconvert_exporter": "python",
      "pygments_lexer": "ipython3",
      "version": "3.8.5"
    },
    "colab": {
      "name": "solution.ipynb",
      "provenance": [],
      "include_colab_link": true
    }
  },
  "cells": [
    {
      "cell_type": "markdown",
      "metadata": {
        "id": "view-in-github",
        "colab_type": "text"
      },
      "source": [
        "<a href=\"https://colab.research.google.com/github/mattmorganpdx/adventofcode2020/blob/main/day_04/solution.ipynb\" target=\"_parent\"><img src=\"https://colab.research.google.com/assets/colab-badge.svg\" alt=\"Open In Colab\"/></a>"
      ]
    },
    {
      "cell_type": "code",
      "metadata": {
        "id": "RqjGLK1NMF7G"
      },
      "source": [
        "from urllib import request\n",
        "\n",
        "day = \"04\"\n",
        "\n",
        "def load_input():\n",
        "  input_url = f\"https://raw.githubusercontent.com/mattmorganpdx/adventofcode2020/main/day_{day}/input.txt\"\n",
        "  response = request.urlopen(input_url)\n",
        "  return response.read().decode('utf-8')\n"
      ],
      "execution_count": 1,
      "outputs": []
    },
    {
      "cell_type": "code",
      "metadata": {
        "id": "au8IVN5LMsHf"
      },
      "source": [
        "input = load_input()"
      ],
      "execution_count": 2,
      "outputs": []
    },
    {
      "cell_type": "code",
      "metadata": {
        "id": "yQ4_kmTZNabN",
        "colab": {
          "base_uri": "https://localhost:8080/"
        },
        "outputId": "91281ac9-c9b6-49ba-f2f0-b607821e742d"
      },
      "source": [
        "# byr (Birth Year)\n",
        "# iyr (Issue Year)\n",
        "# eyr (Expiration Year)\n",
        "# hgt (Height)\n",
        "# hcl (Hair Color)\n",
        "# ecl (Eye Color)\n",
        "# pid (Passport ID)\n",
        "# cid\n",
        "\n",
        "# Part 1\n",
        "\n",
        "req_keys = sorted(['byr', 'iyr', 'eyr', 'hgt', 'hcl', 'ecl', 'pid'])\n",
        "\n",
        "count = 0\n",
        "\n",
        "for i in input.split('\\r\\n\\r\\n'):\n",
        "  if all([True if k in i  else False for k in req_keys]):\n",
        "    count += 1\n",
        "    \n",
        "print(count)"
      ],
      "execution_count": 3,
      "outputs": [
        {
          "output_type": "stream",
          "text": [
            "206\n"
          ],
          "name": "stdout"
        }
      ]
    },
    {
      "cell_type": "code",
      "metadata": {
        "colab": {
          "base_uri": "https://localhost:8080/"
        },
        "id": "QrxmDfRPlO3w",
        "outputId": "f3edf989-1049-4b5d-a19f-7f7fac532072"
      },
      "source": [
        "# Part 2\n",
        "\n",
        "import re\n",
        "\n",
        "rs = r'(?=.*pid:[0-9]{9}\\b)(?=.*ecl:(?:amb|blu|brn|gry|grn|hzl|oth))(?=.*byr:(?:19[2-9][0-9]|200[0-2]))(?=.*iyr:(?:201[0-9]|2020))(?=.*eyr:(?:202[0-9]|2030))(?=.*hgt:(?:1[5-8][0-9]cm|19[0-3]cm|59in|6[0-9]in|7[0-6]in))(?=.*hcl:#[0-9a-f]{6})'\n",
        "count = 0\n",
        "for i in input.split('\\r\\n\\r\\n'):\n",
        "  if re.match(rs, i, flags=re.S):\n",
        "    count += 1\n",
        "print(count)"
      ],
      "execution_count": 72,
      "outputs": [
        {
          "output_type": "stream",
          "text": [
            "123\n"
          ],
          "name": "stdout"
        }
      ]
    }
  ]
}