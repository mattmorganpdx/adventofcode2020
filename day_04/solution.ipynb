{
  "nbformat": 4,
  "nbformat_minor": 0,
  "metadata": {
    "kernelspec": {
      "display_name": "Python 3",
      "language": "python",
      "name": "python3"
    },
    "language_info": {
      "codemirror_mode": {
        "name": "ipython",
        "version": 3
      },
      "file_extension": ".py",
      "mimetype": "text/x-python",
      "name": "python",
      "nbconvert_exporter": "python",
      "pygments_lexer": "ipython3",
      "version": "3.8.5"
    },
    "colab": {
      "name": "solution.ipynb",
      "provenance": [],
      "include_colab_link": true
    }
  },
  "cells": [
    {
      "cell_type": "markdown",
      "metadata": {
        "id": "view-in-github",
        "colab_type": "text"
      },
      "source": [
        "<a href=\"https://colab.research.google.com/github/mattmorganpdx/adventofcode2020/blob/main/day_04/solution.ipynb\" target=\"_parent\"><img src=\"https://colab.research.google.com/assets/colab-badge.svg\" alt=\"Open In Colab\"/></a>"
      ]
    },
    {
      "cell_type": "code",
      "metadata": {
        "id": "RqjGLK1NMF7G"
      },
      "source": [
        "from urllib import request\n",
        "\n",
        "day = \"04\"\n",
        "\n",
        "def load_input():\n",
        "  input_url = f\"https://raw.githubusercontent.com/mattmorganpdx/adventofcode2020/main/day_{day}/input.txt\"\n",
        "  response = request.urlopen(input_url)\n",
        "  return response.read().decode('utf-8')\n"
      ],
      "execution_count": 11,
      "outputs": []
    },
    {
      "cell_type": "code",
      "metadata": {
        "id": "au8IVN5LMsHf"
      },
      "source": [
        "input = load_input()"
      ],
      "execution_count": 12,
      "outputs": []
    },
    {
      "cell_type": "code",
      "metadata": {
        "id": "yQ4_kmTZNabN",
        "colab": {
          "base_uri": "https://localhost:8080/"
        },
        "outputId": "13490d47-bfd9-4d74-d5bf-f74f5702459f"
      },
      "source": [
        "# byr (Birth Year)\n",
        "# iyr (Issue Year)\n",
        "# eyr (Expiration Year)\n",
        "# hgt (Height)\n",
        "# hcl (Hair Color)\n",
        "# ecl (Eye Color)\n",
        "# pid (Passport ID)\n",
        "# cid\n",
        "\n",
        "req_keys = sorted(['byr', 'iyr', 'eyr', 'hgt', 'hcl', 'ecl', 'pid'])\n",
        "\n",
        "count = 0\n",
        "\n",
        "for i in input.split('\\r\\n\\r\\n'):\n",
        "  if all([True if k in i  else False for k in req_keys]):\n",
        "    count += 1\n",
        "    \n",
        "print(count)"
      ],
      "execution_count": 40,
      "outputs": [
        {
          "output_type": "stream",
          "text": [
            "206\n"
          ],
          "name": "stdout"
        }
      ]
    },
    {
      "cell_type": "code",
      "metadata": {
        "id": "G4gE1s6iIzN3"
      },
      "source": [
        "t = '''byr:2027 hcl:#cfa07d\n",
        "iyr:2011 ecl:#f07598\n",
        "cid:293\n",
        "hgt:150cm pid:#fa948d eyr:2029'''"
      ],
      "execution_count": 46,
      "outputs": []
    },
    {
      "cell_type": "code",
      "metadata": {
        "id": "Tp-zx7N1Nn5K"
      },
      "source": [
        "import re"
      ],
      "execution_count": 47,
      "outputs": []
    },
    {
      "cell_type": "code",
      "metadata": {
        "id": "RODbSXNfNs4q"
      },
      "source": [
        "m = re.search(r'^(?=.*pid:[0-9]+)(?=.*ecl:(amb|blu|brn|gry|grn|hzl|oth))(?=.*byr:[0-9]{4})(?=.*iyr:[0-9]{4})(?=.*eyr:[0-9]{4})(?=.*hgt:[0-9]+in)(?=.*hcl:#[0-9a-f]{6}).*$', t, flags=re.DOTALL)"
      ],
      "execution_count": 73,
      "outputs": []
    },
    {
      "cell_type": "code",
      "metadata": {
        "id": "QrxmDfRPlO3w",
        "outputId": "bb5080a7-3f1f-4bfa-a037-d03af49729a4",
        "colab": {
          "base_uri": "https://localhost:8080/"
        }
      },
      "source": [
        "type(m)"
      ],
      "execution_count": 74,
      "outputs": [
        {
          "output_type": "execute_result",
          "data": {
            "text/plain": [
              "NoneType"
            ]
          },
          "metadata": {
            "tags": []
          },
          "execution_count": 74
        }
      ]
    },
    {
      "cell_type": "code",
      "metadata": {
        "id": "BoKXGjvClQ5q",
        "outputId": "877b985b-ceb0-470c-8ace-337154a47276",
        "colab": {
          "base_uri": "https://localhost:8080/",
          "height": 35
        }
      },
      "source": [
        "t"
      ],
      "execution_count": 63,
      "outputs": [
        {
          "output_type": "execute_result",
          "data": {
            "application/vnd.google.colaboratory.intrinsic+json": {
              "type": "string"
            },
            "text/plain": [
              "'byr:2027 hcl:#cfa07d\\niyr:2011 ecl:#f07598\\ncid:293\\nhgt:150cm pid:#fa948d eyr:2029'"
            ]
          },
          "metadata": {
            "tags": []
          },
          "execution_count": 63
        }
      ]
    },
    {
      "cell_type": "code",
      "metadata": {
        "id": "kLgbTsGElVvf",
        "outputId": "6dc716cb-2cdc-40c5-c178-b4c2847dacf9",
        "colab": {
          "base_uri": "https://localhost:8080/"
        }
      },
      "source": [
        "re.match(r'[a-z]*', '000')"
      ],
      "execution_count": 53,
      "outputs": [
        {
          "output_type": "execute_result",
          "data": {
            "text/plain": [
              "<_sre.SRE_Match object; span=(0, 0), match=''>"
            ]
          },
          "metadata": {
            "tags": []
          },
          "execution_count": 53
        }
      ]
    },
    {
      "cell_type": "code",
      "metadata": {
        "id": "6dUq24vZleWR"
      },
      "source": [
        ""
      ],
      "execution_count": null,
      "outputs": []
    }
  ]
}