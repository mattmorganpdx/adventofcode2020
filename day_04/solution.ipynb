{
  "nbformat": 4,
  "nbformat_minor": 0,
  "metadata": {
    "kernelspec": {
      "display_name": "Python 3",
      "language": "python",
      "name": "python3"
    },
    "language_info": {
      "codemirror_mode": {
        "name": "ipython",
        "version": 3
      },
      "file_extension": ".py",
      "mimetype": "text/x-python",
      "name": "python",
      "nbconvert_exporter": "python",
      "pygments_lexer": "ipython3",
      "version": "3.8.5"
    },
    "colab": {
      "name": "solution.ipynb",
      "provenance": [],
      "include_colab_link": true
    }
  },
  "cells": [
    {
      "cell_type": "markdown",
      "metadata": {
        "id": "view-in-github",
        "colab_type": "text"
      },
      "source": [
        "<a href=\"https://colab.research.google.com/github/mattmorganpdx/adventofcode2020/blob/main/day_04/solution.ipynb\" target=\"_parent\"><img src=\"https://colab.research.google.com/assets/colab-badge.svg\" alt=\"Open In Colab\"/></a>"
      ]
    },
    {
      "cell_type": "code",
      "metadata": {
        "id": "RqjGLK1NMF7G"
      },
      "source": [
        "from urllib import request\n",
        "\n",
        "day = \"04\"\n",
        "\n",
        "def load_input():\n",
        "  input_url = f\"https://raw.githubusercontent.com/mattmorganpdx/adventofcode2020/main/day_{day}/input.txt\"\n",
        "  response = request.urlopen(input_url)\n",
        "  return response.read().decode('utf-8')\n"
      ],
      "execution_count": 11,
      "outputs": []
    },
    {
      "cell_type": "code",
      "metadata": {
        "id": "au8IVN5LMsHf"
      },
      "source": [
        "input = load_input()"
      ],
      "execution_count": 12,
      "outputs": []
    },
    {
      "cell_type": "code",
      "metadata": {
        "id": "yQ4_kmTZNabN",
        "outputId": "13490d47-bfd9-4d74-d5bf-f74f5702459f",
        "colab": {
          "base_uri": "https://localhost:8080/"
        }
      },
      "source": [
        "# byr (Birth Year)\n",
        "# iyr (Issue Year)\n",
        "# eyr (Expiration Year)\n",
        "# hgt (Height)\n",
        "# hcl (Hair Color)\n",
        "# ecl (Eye Color)\n",
        "# pid (Passport ID)\n",
        "# cid\n",
        "\n",
        "req_keys = sorted(['byr', 'iyr', 'eyr', 'hgt', 'hcl', 'ecl', 'pid'])\n",
        "\n",
        "count = 0\n",
        "\n",
        "for i in input.split('\\r\\n\\r\\n'):\n",
        "  if all([True if k in i  else False for k in req_keys]):\n",
        "    count += 1\n",
        "    \n",
        "print(count)"
      ],
      "execution_count": 40,
      "outputs": [
        {
          "output_type": "stream",
          "text": [
            "206\n"
          ],
          "name": "stdout"
        }
      ]
    },
    {
      "cell_type": "code",
      "metadata": {
        "id": "G4gE1s6iIzN3"
      },
      "source": [
        "t = '''byr:2027 hcl:#cfa07d\n",
        "iyr:2011 ecl:#f07598\n",
        "cid:293\n",
        "hgt:150cm pid:#fa948d eyr:2029'''"
      ],
      "execution_count": 25,
      "outputs": []
    },
    {
      "cell_type": "code",
      "metadata": {
        "id": "Tp-zx7N1Nn5K",
        "outputId": "ca39e9c9-1596-4878-c69d-df0f6e31d961",
        "colab": {
          "base_uri": "https://localhost:8080/"
        }
      },
      "source": [
        "'ecl' in t"
      ],
      "execution_count": 26,
      "outputs": [
        {
          "output_type": "execute_result",
          "data": {
            "text/plain": [
              "True"
            ]
          },
          "metadata": {
            "tags": []
          },
          "execution_count": 26
        }
      ]
    },
    {
      "cell_type": "code",
      "metadata": {
        "id": "RODbSXNfNs4q"
      },
      "source": [
        ""
      ],
      "execution_count": null,
      "outputs": []
    }
  ]
}