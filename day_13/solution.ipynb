{
  "nbformat": 4,
  "nbformat_minor": 0,
  "metadata": {
    "kernelspec": {
      "display_name": "Python 3",
      "language": "python",
      "name": "python3"
    },
    "language_info": {
      "codemirror_mode": {
        "name": "ipython",
        "version": 3
      },
      "file_extension": ".py",
      "mimetype": "text/x-python",
      "name": "python",
      "nbconvert_exporter": "python",
      "pygments_lexer": "ipython3",
      "version": "3.8.5"
    },
    "colab": {
      "name": "solution.ipynb",
      "provenance": [],
      "include_colab_link": true
    }
  },
  "cells": [
    {
      "cell_type": "markdown",
      "metadata": {
        "id": "view-in-github",
        "colab_type": "text"
      },
      "source": [
        "<a href=\"https://colab.research.google.com/github/mattmorganpdx/adventofcode2020/blob/main/day_13/solution.ipynb\" target=\"_parent\"><img src=\"https://colab.research.google.com/assets/colab-badge.svg\" alt=\"Open In Colab\"/></a>"
      ]
    },
    {
      "cell_type": "code",
      "metadata": {
        "id": "RqjGLK1NMF7G"
      },
      "source": [
        "from urllib import request\n",
        "\n",
        "day = \"13\"\n",
        "\n",
        "def load_input():\n",
        "  input_url = f\"https://raw.githubusercontent.com/mattmorganpdx/adventofcode2020/main/day_{day}/input.txt\"\n",
        "  response = request.urlopen(input_url)\n",
        "  return [line.decode('utf-8') for line in response.read().splitlines()]\n"
      ],
      "execution_count": null,
      "outputs": []
    },
    {
      "cell_type": "code",
      "metadata": {
        "id": "au8IVN5LMsHf"
      },
      "source": [
        "input = load_input()\r\n",
        "input = [int(input[0]), [int(x) for x in input[1].split(',') if x != 'x']]"
      ],
      "execution_count": null,
      "outputs": []
    },
    {
      "cell_type": "code",
      "metadata": {
        "id": "yQ4_kmTZNabN"
      },
      "source": [
        "test_input = [939,[7,13,59,31,19]]"
      ],
      "execution_count": null,
      "outputs": []
    },
    {
      "cell_type": "code",
      "metadata": {
        "id": "pMqwH7rpSujP",
        "colab": {
          "base_uri": "https://localhost:8080/"
        },
        "outputId": "4c7225cb-0e6c-4b8a-fcfe-acf0a0a26e5b"
      },
      "source": [
        "# Part 1\r\n",
        "next_bus = lambda t: {i - (t[0] % i): i for i in t[1]}\r\n",
        "n = next_bus(input)\r\n",
        "min(n) * n[min(n)]"
      ],
      "execution_count": null,
      "outputs": [
        {
          "output_type": "execute_result",
          "data": {
            "text/plain": [
              "261"
            ]
          },
          "metadata": {
            "tags": []
          },
          "execution_count": 32
        }
      ]
    },
    {
      "cell_type": "code",
      "metadata": {
        "id": "CrYWY0wEUazf",
        "colab": {
          "base_uri": "https://localhost:8080/"
        },
        "outputId": "a03a7e00-779b-4f5f-8eb6-335485fde825"
      },
      "source": [
        "test_input = [int(x) if x != 'x' else 0 for x in '7,13,x,x,59,x,31,19'.split(',')]\r\n",
        "test_input"
      ],
      "execution_count": null,
      "outputs": [
        {
          "output_type": "execute_result",
          "data": {
            "text/plain": [
              "[7, 13, 0, 0, 59, 0, 31, 19]"
            ]
          },
          "metadata": {
            "tags": []
          },
          "execution_count": 33
        }
      ]
    },
    {
      "cell_type": "code",
      "metadata": {
        "id": "urOilJFQW0dQ"
      },
      "source": [
        "# 100000000000000\r\n",
        "input = [int(x) if x != 'x' else 0 for x in load_input()[1].split(',')]"
      ],
      "execution_count": null,
      "outputs": []
    },
    {
      "cell_type": "code",
      "metadata": {
        "id": "6vCgokySXoOM"
      },
      "source": [
        "tp = sorted([(x, i) for i, x in enumerate(input) if x != 0], key=lambda x: x[0], reverse=True)\r\n",
        "for r in range(218818380740, 100000000000000):\r\n",
        "  t = tp[0][0] * r\r\n",
        "  s = tp[0][1]\r\n",
        "  m = 0\r\n",
        "  for e in tp[1:]:\r\n",
        "    if (t + e[1] - s) % e[0] == 0:\r\n",
        "      m += 1\r\n",
        "      continue\r\n",
        "    else:\r\n",
        "      break\r\n",
        "  if m == len(tp) - 1:\r\n",
        "    print(t - s, r)\r\n",
        "    break"
      ],
      "execution_count": null,
      "outputs": []
    },
    {
      "cell_type": "code",
      "metadata": {
        "id": "cHx8pdg9eLua",
        "colab": {
          "base_uri": "https://localhost:8080/"
        },
        "outputId": "dbd2aadc-dd85-44f2-deac-ae05abf84f6f"
      },
      "source": [
        "100000000000000 // max(input)\r\n",
        "100000000000000"
      ],
      "execution_count": null,
      "outputs": [
        {
          "output_type": "execute_result",
          "data": {
            "text/plain": [
              "218818380743"
            ]
          },
          "metadata": {
            "tags": []
          },
          "execution_count": 51
        }
      ]
    },
    {
      "cell_type": "code",
      "metadata": {
        "id": "J8C0TqdNebqT",
        "colab": {
          "base_uri": "https://localhost:8080/"
        },
        "outputId": "622a36e3-7c61-4b1d-c39a-59c1b2b50f77"
      },
      "source": [
        "1068785 // 59"
      ],
      "execution_count": null,
      "outputs": [
        {
          "output_type": "execute_result",
          "data": {
            "text/plain": [
              "18115"
            ]
          },
          "metadata": {
            "tags": []
          },
          "execution_count": 48
        }
      ]
    },
    {
      "cell_type": "code",
      "metadata": {
        "id": "8MaUM7tgdkHe"
      },
      "source": [
        ""
      ],
      "execution_count": null,
      "outputs": []
    },
    {
      "cell_type": "markdown",
      "metadata": {
        "id": "CAgrF1I9yc9F"
      },
      "source": [
        "https://rosettacode.org/wiki/Chinese_remainder_theorem#Functional"
      ]
    },
    {
      "cell_type": "code",
      "metadata": {
        "id": "-QDW7sn9yd9R"
      },
      "source": [
        ""
      ],
      "execution_count": null,
      "outputs": []
    }
  ]
}