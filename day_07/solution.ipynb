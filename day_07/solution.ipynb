{
  "nbformat": 4,
  "nbformat_minor": 0,
  "metadata": {
    "kernelspec": {
      "display_name": "Python 3",
      "language": "python",
      "name": "python3"
    },
    "language_info": {
      "codemirror_mode": {
        "name": "ipython",
        "version": 3
      },
      "file_extension": ".py",
      "mimetype": "text/x-python",
      "name": "python",
      "nbconvert_exporter": "python",
      "pygments_lexer": "ipython3",
      "version": "3.8.5"
    },
    "colab": {
      "name": "solution.ipynb",
      "provenance": [],
      "include_colab_link": true
    }
  },
  "cells": [
    {
      "cell_type": "markdown",
      "metadata": {
        "id": "view-in-github",
        "colab_type": "text"
      },
      "source": [
        "<a href=\"https://colab.research.google.com/github/mattmorganpdx/adventofcode2020/blob/main/day_07/solution.ipynb\" target=\"_parent\"><img src=\"https://colab.research.google.com/assets/colab-badge.svg\" alt=\"Open In Colab\"/></a>"
      ]
    },
    {
      "cell_type": "code",
      "metadata": {
        "id": "RqjGLK1NMF7G"
      },
      "source": [
        "from urllib import request\n",
        "\n",
        "day = \"07\"\n",
        "\n",
        "def load_input():\n",
        "  input_url = f\"https://raw.githubusercontent.com/mattmorganpdx/adventofcode2020/main/day_{day}/input.txt\"\n",
        "  response = request.urlopen(input_url)\n",
        "  return [line.decode('utf-8') for line in response.read().splitlines()]\n"
      ],
      "execution_count": 75,
      "outputs": []
    },
    {
      "cell_type": "code",
      "metadata": {
        "id": "au8IVN5LMsHf"
      },
      "source": [
        "input = load_input()"
      ],
      "execution_count": 76,
      "outputs": []
    },
    {
      "cell_type": "code",
      "metadata": {
        "id": "t3MTetDezE-H"
      },
      "source": [
        "test_input = '''light red bags contain 1 bright white bag, 2 muted yellow bags.\n",
        "dark orange bags contain 3 bright white bags, 4 muted yellow bags.\n",
        "bright white bags contain 1 shiny gold bag.\n",
        "muted yellow bags contain 2 shiny gold bags, 9 faded blue bags.\n",
        "shiny gold bags contain 1 dark olive bag, 2 vibrant plum bags.\n",
        "dark olive bags contain 3 faded blue bags, 4 dotted black bags.\n",
        "vibrant plum bags contain 5 faded blue bags, 6 dotted black bags.\n",
        "faded blue bags contain no other bags.\n",
        "dotted black bags contain no other bags.'''.splitlines()\n",
        "    "
      ],
      "execution_count": 77,
      "outputs": []
    },
    {
      "cell_type": "code",
      "metadata": {
        "colab": {
          "base_uri": "https://localhost:8080/"
        },
        "id": "vuQYiJV7zvSG",
        "outputId": "9a0b5f2b-c4a3-4280-fa2b-6b0fea6baca6"
      },
      "source": [
        "# Part 1\n",
        "m = dict()\n",
        "for i in input:\n",
        "  bl = i.split(' contain ')\n",
        "  m[bl[0]] = bl[1] \n",
        "\n",
        "def find_bag(bag, s=set()): \n",
        "  for k,v in m.items():\n",
        "    if bag in v:\n",
        "      s.add(' '.join(k.split()[:2]))\n",
        "      find_bag(' '.join(k.split()[:2]), s)\n",
        "     \n",
        "  return s\n",
        "print(len(find_bag('shiny gold')))\n"
      ],
      "execution_count": 78,
      "outputs": [
        {
          "output_type": "stream",
          "text": [
            "192\n"
          ],
          "name": "stdout"
        }
      ]
    },
    {
      "cell_type": "code",
      "metadata": {
        "id": "HwdlYsWYGgRS"
      },
      "source": [
        "test_input = '''light red bags contain 1 bright white bag, 2 muted yellow bags.\n",
        "dark orange bags contain 3 bright white bags, 4 muted yellow bags.\n",
        "bright white bags contain 1 shiny gold bag.\n",
        "muted yellow bags contain 2 shiny gold bags, 9 faded blue bags.\n",
        "shiny gold bags contain 1 dark olive bag, 2 vibrant plum bags.\n",
        "dark olive bags contain 3 faded blue bags, 4 dotted black bags.\n",
        "vibrant plum bags contain 5 faded blue bags, 6 dotted black bags.\n",
        "faded blue bags contain no other bags.\n",
        "dotted black bags contain no other bags.'''.splitlines()"
      ],
      "execution_count": 79,
      "outputs": []
    },
    {
      "cell_type": "markdown",
      "metadata": {
        "id": "_-uHvPMX06dL"
      },
      "source": [
        "Consider again your shiny gold bag and the rules from the above example:\n",
        "\n",
        "faded blue bags contain 0 other bags.\n",
        "\n",
        "dotted black bags contain 0 other bags.\n",
        "\n",
        "vibrant plum bags contain 11 other bags: 5 faded blue bags and 6 dotted black bags.\n",
        "\n",
        "dark olive bags contain 7 other bags: 3 faded blue bags and 4 dotted black bags.\n",
        "\n",
        "So, a single shiny gold bag must contain 1 dark olive bag (and the 7 bags within it) plus 2 vibrant plum bags (and the 11 bags within each of those): 1 + 1x7 + 2 + 2x11 = 32 bags!"
      ]
    },
    {
      "cell_type": "code",
      "metadata": {
        "colab": {
          "base_uri": "https://localhost:8080/"
        },
        "id": "yKJwf5N20_s2",
        "outputId": "85524118-5f33-4132-d33a-7d5b21c443a8"
      },
      "source": [
        "# Part 2\n",
        "m = dict()\n",
        "for i in input:\n",
        "  bl = i.split(' contain ')\n",
        "  m[bl[0]] = [(int(bag.split()[0]), f'{bag.split()[1]} {bag.split()[2]} bags') for bag in bl[1].split(',') if bag != 'no other bags.']\n",
        "\n",
        "def traverse(bag):\n",
        "  if not m[bag]:\n",
        "    return 1\n",
        "  else:\n",
        "    count = 0\n",
        "    for sub_bag in m[bag]:\n",
        "      count += (sub_bag[0] * traverse(sub_bag[1])) + (sub_bag[0] if traverse(sub_bag[1]) != 1 else 0)\n",
        "    return count\n",
        "\n",
        "traverse('shiny gold bags')"
      ],
      "execution_count": 80,
      "outputs": [
        {
          "output_type": "execute_result",
          "data": {
            "text/plain": [
              "12128"
            ]
          },
          "metadata": {
            "tags": []
          },
          "execution_count": 80
        }
      ]
    },
    {
      "cell_type": "code",
      "metadata": {
        "id": "98bh4-UODvRg"
      },
      "source": [
        ""
      ],
      "execution_count": null,
      "outputs": []
    }
  ]
}