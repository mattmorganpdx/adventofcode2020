{
  "nbformat": 4,
  "nbformat_minor": 0,
  "metadata": {
    "kernelspec": {
      "display_name": "Python 3",
      "language": "python",
      "name": "python3"
    },
    "language_info": {
      "codemirror_mode": {
        "name": "ipython",
        "version": 3
      },
      "file_extension": ".py",
      "mimetype": "text/x-python",
      "name": "python",
      "nbconvert_exporter": "python",
      "pygments_lexer": "ipython3",
      "version": "3.8.5"
    },
    "colab": {
      "name": "solution.ipynb",
      "provenance": [],
      "include_colab_link": true
    }
  },
  "cells": [
    {
      "cell_type": "markdown",
      "metadata": {
        "id": "view-in-github",
        "colab_type": "text"
      },
      "source": [
        "<a href=\"https://colab.research.google.com/github/mattmorganpdx/adventofcode2020/blob/main/day_07/solution.ipynb\" target=\"_parent\"><img src=\"https://colab.research.google.com/assets/colab-badge.svg\" alt=\"Open In Colab\"/></a>"
      ]
    },
    {
      "cell_type": "code",
      "metadata": {
        "id": "RqjGLK1NMF7G"
      },
      "source": [
        "from urllib import request\n",
        "\n",
        "day = \"07\"\n",
        "\n",
        "def load_input():\n",
        "  input_url = f\"https://raw.githubusercontent.com/mattmorganpdx/adventofcode2020/main/day_{day}/input.txt\"\n",
        "  response = request.urlopen(input_url)\n",
        "  return [line.decode('utf-8') for line in response.read().splitlines()]\n"
      ],
      "execution_count": 1,
      "outputs": []
    },
    {
      "cell_type": "code",
      "metadata": {
        "id": "au8IVN5LMsHf"
      },
      "source": [
        "input = load_input()"
      ],
      "execution_count": 9,
      "outputs": []
    },
    {
      "cell_type": "code",
      "metadata": {
        "id": "t3MTetDezE-H"
      },
      "source": [
        "test_input = '''light red bags contain 1 bright white bag, 2 muted yellow bags.\n",
        "dark orange bags contain 3 bright white bags, 4 muted yellow bags.\n",
        "bright white bags contain 1 shiny gold bag.\n",
        "muted yellow bags contain 2 shiny gold bags, 9 faded blue bags.\n",
        "shiny gold bags contain 1 dark olive bag, 2 vibrant plum bags.\n",
        "dark olive bags contain 3 faded blue bags, 4 dotted black bags.\n",
        "vibrant plum bags contain 5 faded blue bags, 6 dotted black bags.\n",
        "faded blue bags contain no other bags.\n",
        "dotted black bags contain no other bags.'''.splitlines()\n",
        "    "
      ],
      "execution_count": 12,
      "outputs": []
    },
    {
      "cell_type": "code",
      "metadata": {
        "colab": {
          "base_uri": "https://localhost:8080/"
        },
        "id": "vuQYiJV7zvSG",
        "outputId": "1d418f67-dffe-46fd-a700-b0c547f1c86c"
      },
      "source": [
        "# Part 1\n",
        "m = dict()\n",
        "for i in input:\n",
        "  bl = i.split(' contain ')\n",
        "  m[bl[0]] = bl[1] \n",
        "\n",
        "def find_bag(bag, s=set()): \n",
        "  for k,v in m.items():\n",
        "    if bag in v:\n",
        "      s.add(' '.join(k.split()[:2]))\n",
        "      find_bag(' '.join(k.split()[:2]), s)\n",
        "     \n",
        "  return s\n",
        "print(len(find_bag('shiny gold')))\n"
      ],
      "execution_count": 60,
      "outputs": [
        {
          "output_type": "stream",
          "text": [
            "192\n"
          ],
          "name": "stdout"
        }
      ]
    },
    {
      "cell_type": "code",
      "metadata": {
        "colab": {
          "base_uri": "https://localhost:8080/"
        },
        "id": "yKJwf5N20_s2",
        "outputId": "da5f9a85-8c01-4e55-8970-37ef3bfcd8fa"
      },
      "source": [
        "# Part 2\n",
        "m = dict()\n",
        "for i in input:\n",
        "  bl = i.split(' contain ')\n",
        "  m[bl[0]] = bl[1] \n",
        "\n",
        "def c_and_b(bag):\n",
        "  if bag == 'no other bags.':\n",
        "    return\n",
        "  bag = bag.split()\n",
        "  return int(bag[0]), f'{bag[1]} {bag[2]} bags'\n",
        "\n",
        "\n",
        "def count_bags(bag, count = 0):\n",
        "  # print(bag)\n",
        "  for sb in m[bag].split(','):\n",
        "    if c_and_b(sb):\n",
        "      c, b = c_and_b(sb)\n",
        "      count += c \n",
        "      count = count_bags(b, count)\n",
        "  return count\n",
        "  \n",
        "\n",
        "count_bags('shiny gold bags')"
      ],
      "execution_count": 76,
      "outputs": [
        {
          "output_type": "execute_result",
          "data": {
            "text/plain": [
              "251"
            ]
          },
          "metadata": {
            "tags": []
          },
          "execution_count": 76
        }
      ]
    },
    {
      "cell_type": "code",
      "metadata": {
        "id": "t88XV86NCAhT",
        "outputId": "f144b804-2a50-4bda-c068-c5fcfe48b04f",
        "colab": {
          "base_uri": "https://localhost:8080/"
        }
      },
      "source": [
        "'fdasfjsjhfa'.split(',')"
      ],
      "execution_count": 70,
      "outputs": [
        {
          "output_type": "execute_result",
          "data": {
            "text/plain": [
              "['fdasfjsjhfa']"
            ]
          },
          "metadata": {
            "tags": []
          },
          "execution_count": 70
        }
      ]
    },
    {
      "cell_type": "code",
      "metadata": {
        "id": "98bh4-UODvRg"
      },
      "source": [
        ""
      ],
      "execution_count": null,
      "outputs": []
    }
  ]
}