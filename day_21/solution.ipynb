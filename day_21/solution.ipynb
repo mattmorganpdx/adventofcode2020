{
  "nbformat": 4,
  "nbformat_minor": 0,
  "metadata": {
    "kernelspec": {
      "display_name": "Python 3",
      "language": "python",
      "name": "python3"
    },
    "language_info": {
      "codemirror_mode": {
        "name": "ipython",
        "version": 3
      },
      "file_extension": ".py",
      "mimetype": "text/x-python",
      "name": "python",
      "nbconvert_exporter": "python",
      "pygments_lexer": "ipython3",
      "version": "3.8.5"
    },
    "colab": {
      "name": "solution.ipynb",
      "provenance": [],
      "include_colab_link": true
    }
  },
  "cells": [
    {
      "cell_type": "markdown",
      "metadata": {
        "id": "view-in-github",
        "colab_type": "text"
      },
      "source": [
        "<a href=\"https://colab.research.google.com/github/mattmorganpdx/adventofcode2020/blob/main/day_21/solution.ipynb\" target=\"_parent\"><img src=\"https://colab.research.google.com/assets/colab-badge.svg\" alt=\"Open In Colab\"/></a>"
      ]
    },
    {
      "cell_type": "code",
      "metadata": {
        "id": "RqjGLK1NMF7G"
      },
      "source": [
        "from urllib import request\n",
        "\n",
        "day = \"21\"\n",
        "\n",
        "def load_input():\n",
        "  input_url = f\"https://raw.githubusercontent.com/mattmorganpdx/adventofcode2020/main/day_{day}/input.txt\"\n",
        "  response = request.urlopen(input_url)\n",
        "  return [line.decode('utf-8') for line in response.read().splitlines()]\n"
      ],
      "execution_count": 1,
      "outputs": []
    },
    {
      "cell_type": "code",
      "metadata": {
        "id": "au8IVN5LMsHf"
      },
      "source": [
        "input = load_input()"
      ],
      "execution_count": 2,
      "outputs": []
    },
    {
      "cell_type": "code",
      "metadata": {
        "id": "yQ4_kmTZNabN"
      },
      "source": [
        "test_input = '''mxmxvkd kfcds sqjhc nhms (contains dairy, fish)\r\n",
        "trh fvjkl sbzzf mxmxvkd (contains dairy)\r\n",
        "sqjhc fvjkl (contains soy)\r\n",
        "sqjhc mxmxvkd sbzzf (contains fish)'''.splitlines()"
      ],
      "execution_count": 3,
      "outputs": []
    },
    {
      "cell_type": "code",
      "metadata": {
        "id": "jplc19qoGOyW",
        "outputId": "ddc80f60-b740-4e10-fc34-a4b8433016a8",
        "colab": {
          "base_uri": "https://localhost:8080/"
        }
      },
      "source": [
        "from collections import defaultdict\r\n",
        "all_map = defaultdict(list)\r\n",
        "\r\n",
        "for i in test_input:\r\n",
        "  i = i.strip(')').split(' (contains ')\r\n",
        "  for all in i[1].split(', '):\r\n",
        "    all_map[all].append({x for x in i[0].split()})\r\n",
        "\r\n",
        "r = list()\r\n",
        "for k, v in all_map.items():\r\n",
        "  # r.append(reduce(set.symmetric_difference, v, set()))\r\n",
        "  r.append([i for i, j in Counter(chain(*v)).items() if j > 1])\r\n",
        "\r\n",
        "# kfcds, nhms, sbzzf, or trh \r\n",
        "print(r)\r\n",
        "from collections import Counter\r\n",
        "from itertools import chain\r\n",
        "c = Counter(chain(*r))\r\n",
        "\r\n",
        "print(c)\r\n",
        "#all_map \r\n",
        "ing = set()\r\n",
        "for e in all_map.values():\r\n",
        "  ing.update(*e)\r\n",
        "ing.difference(set(chain(*r)))\r\n"
      ],
      "execution_count": 118,
      "outputs": [
        {
          "output_type": "stream",
          "text": [
            "[['mxmxvkd'], ['sqjhc', 'mxmxvkd'], []]\n",
            "Counter({'mxmxvkd': 2, 'sqjhc': 1})\n"
          ],
          "name": "stdout"
        },
        {
          "output_type": "execute_result",
          "data": {
            "text/plain": [
              "{'fvjkl', 'kfcds', 'nhms', 'sbzzf', 'trh'}"
            ]
          },
          "metadata": {
            "tags": []
          },
          "execution_count": 118
        }
      ]
    },
    {
      "cell_type": "code",
      "metadata": {
        "id": "TsYHIqvmG7A6",
        "outputId": "84913104-7971-4b4a-e8a9-06a90e034a1d",
        "colab": {
          "base_uri": "https://localhost:8080/"
        }
      },
      "source": [
        "s1 = {'mxmxvkd', 'kfcds', 'sqjhc', 'nhms'}\r\n",
        "s2 = {'trh', 'fvjkl', 'sbzzf', 'mxmxvkd'}\r\n",
        "s3 = { 'mxmxvkd'}\r\n",
        "\r\n",
        "from functools import reduce\r\n",
        "reduce(set.symmetric_difference, [s1,s2,s3], set())"
      ],
      "execution_count": 89,
      "outputs": [
        {
          "output_type": "execute_result",
          "data": {
            "text/plain": [
              "{'fvjkl', 'kfcds', 'mxmxvkd', 'nhms', 'sbzzf', 'sqjhc', 'trh'}"
            ]
          },
          "metadata": {
            "tags": []
          },
          "execution_count": 89
        }
      ]
    },
    {
      "cell_type": "code",
      "metadata": {
        "id": "EnRXgNqJj6tj"
      },
      "source": [
        ""
      ],
      "execution_count": null,
      "outputs": []
    }
  ]
}