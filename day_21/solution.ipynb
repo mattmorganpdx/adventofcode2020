{
  "nbformat": 4,
  "nbformat_minor": 0,
  "metadata": {
    "kernelspec": {
      "display_name": "Python 3",
      "language": "python",
      "name": "python3"
    },
    "language_info": {
      "codemirror_mode": {
        "name": "ipython",
        "version": 3
      },
      "file_extension": ".py",
      "mimetype": "text/x-python",
      "name": "python",
      "nbconvert_exporter": "python",
      "pygments_lexer": "ipython3",
      "version": "3.8.5"
    },
    "colab": {
      "name": "solution.ipynb",
      "provenance": [],
      "include_colab_link": true
    }
  },
  "cells": [
    {
      "cell_type": "markdown",
      "metadata": {
        "id": "view-in-github",
        "colab_type": "text"
      },
      "source": [
        "<a href=\"https://colab.research.google.com/github/mattmorganpdx/adventofcode2020/blob/main/day_21/solution.ipynb\" target=\"_parent\"><img src=\"https://colab.research.google.com/assets/colab-badge.svg\" alt=\"Open In Colab\"/></a>"
      ]
    },
    {
      "cell_type": "code",
      "metadata": {
        "id": "RqjGLK1NMF7G"
      },
      "source": [
        "from urllib import request\n",
        "\n",
        "day = \"21\"\n",
        "\n",
        "def load_input():\n",
        "  input_url = f\"https://raw.githubusercontent.com/mattmorganpdx/adventofcode2020/main/day_{day}/input.txt\"\n",
        "  response = request.urlopen(input_url)\n",
        "  return [line.decode('utf-8') for line in response.read().splitlines()]\n"
      ],
      "execution_count": 6,
      "outputs": []
    },
    {
      "cell_type": "code",
      "metadata": {
        "id": "au8IVN5LMsHf"
      },
      "source": [
        "input = load_input()"
      ],
      "execution_count": 7,
      "outputs": []
    },
    {
      "cell_type": "code",
      "metadata": {
        "id": "yQ4_kmTZNabN"
      },
      "source": [
        "test_input = '''mxmxvkd kfcds sqjhc nhms (contains dairy, fish)\r\n",
        "trh fvjkl sbzzf mxmxvkd (contains dairy)\r\n",
        "sqjhc fvjkl (contains soy)\r\n",
        "sqjhc mxmxvkd sbzzf (contains fish)'''.splitlines()\r\n",
        "\r\n",
        "# kfcds, nhms, sbzzf, or trh"
      ],
      "execution_count": 8,
      "outputs": []
    },
    {
      "cell_type": "code",
      "metadata": {
        "id": "jplc19qoGOyW",
        "colab": {
          "base_uri": "https://localhost:8080/"
        },
        "outputId": "7a300288-8cca-46e9-cdef-71ccdcad18d0"
      },
      "source": [
        "from collections import defaultdict\r\n",
        "from collections import Counter\r\n",
        "all_map = defaultdict(Counter)\r\n",
        "all_count = Counter()\r\n",
        "\r\n",
        "for i in input:\r\n",
        "  i = i.strip(')').split(' (contains ')\r\n",
        "  for all in i[1].split(', '):\r\n",
        "    all_count[all] += 1\r\n",
        "    for x in i[0].split():\r\n",
        "      all_map[x][all] += 1\r\n",
        "\r\n",
        "\r\n",
        "all = __builtin__.all\r\n",
        "\r\n",
        "\r\n",
        "s = set()\r\n",
        "for k,v in all_map.items():\r\n",
        "  if any(False if all_count[e] != f else True for e, f in v.items()): s.add(k)\r\n",
        "\r\n",
        "print(all_map.keys())\r\n",
        "print(all_count)\r\n",
        "c = 0\r\n",
        "for e in s:\r\n",
        "  for l in input:\r\n",
        "    if e in l:\r\n",
        "      c += 1\r\n",
        "\r\n",
        "# 2132 too high   \r\n",
        "#  273 too low   \r\n",
        "c"
      ],
      "execution_count": 12,
      "outputs": [
        {
          "output_type": "stream",
          "text": [
            "dict_keys(['vzkbf', 'lxrsn', 'mnj', 'bjqfl', 'brqg', 'kcddk', 'nkjc', 'bgblpf', 'xxhp', 'cfb', 'pzqgtb', 'cggl', 'cjhv', 'vplz', 'dlhfnjb', 'jtfmtpd', 'ccmvjbn', 'jgrrd', 'dvjxl', 'tdrxvd', 'vlqz', 'pfbz', 'txvctk', 'kqvhbt', 'qcmgxlj', 'kgf', 'znvmcx', 'ldkt', 'lshjmc', 'nrlf', 'rjf', 'mcvc', 'tzkfgq', 'fpgmtjg', 'srvfk', 'nhhbtd', 'mdtrqk', 'hqxp', 'bgxpfm', 'ncx', 'sckjj', 'vqn', 'npxrdnd', 'xvsxb', 'bcvlvk', 'tflkk', 'sjdmzj', 'zmkx', 'jpvvt', 'vvlbp', 'fqpt', 'lmcqt', 'khmm', 'gfgbq', 'plgvrz', 'klnrvd', 'xmcdn', 'hrrt', 'sjpkc', 'xdqx', 'jnmsr', 'jzvjxf', 'czcfdv', 'zmvpzp', 'tsch', 'qqq', 'qdhk', 'pxf', 'ttlvf', 'ndqk', 'mrqgvd', 'ctbvdq', 'sgczbl', 'zkjh', 'kskbk', 'mjzpgzs', 'jxvc', 'qvkdgn', 'fzdltb', 'csxkh', 'vbvbbh', 'bcxxjq', 'nvxk', 'hcrgt', 'mqvf', 'hnpd', 'tmckpp', 'fdhfpn', 'nbhhmfx', 'dntsjl', 'zbfqrn', 'cmtvkq', 'xjsgl', 'hrhzg', 'zfrkt', 'bxgzl', 'zkfsg', 'xzn', 'zmmrgdf', 'fkpjn', 'dhz', 'rxjq', 'hlzkpt', 'xl', 'tcff', 'vmhhjm', 'xhxkf', 'ftqpg', 'ctnb', 'zhvhng', 'djmbx', 'dptsqvq', 'lg', 'ngrcb', 'fsbll', 'svvjknm', 'lkvdg', 'gmsnc', 'xtnsbgc', 'xkzsk', 'cfgc', 'dvzz', 'qtpvndc', 'qlrrrgb', 'mzlzxcc', 'ltrhm', 'mk', 'pfhsdp', 'hqtzllj', 'dqntj', 'vtrchx', 'slkjz', 'lbdlb', 'mdqdgf', 'pnpg', 'dscxjl', 'gscxfbd', 'nfkzd', 'rrtkdz', 'njjvq', 'lfvdf', 'sqg', 'vjpnd', 'gkkcjs', 'flrjj', 'bnfhd', 'mmlq', 'tsrqc', 'xbrtdm', 'cxbkg', 'xpmx', 'xskgz', 'tsdcm', 'pgcxql', 'mdh', 'nfqkt', 'dmtcj', 'dgbndg', 'blnsd', 'xkgpch', 'sfmbms', 'xvsbr', 'cbdl', 'fsjcf', 'bqrsxn', 'cshq', 'zpzzt', 'xlqp', 'mqqzg', 'szfxqq', 'jmvt', 'cvd', 'mmhmx', 'rzc', 'hndcnf', 'pgct', 'gxmk', 'hjkqqr', 'xqbtls', 'vrl', 'hmnln', 'qpdd', 'tfnsz', 'hclf', 'jbmxr', 'csqrvk', 'bggz', 'vdqtgt', 'jfl', 'pbkr', 'nsdk', 'zpqh', 'rbkr', 'bvzs', 'mxfgnv', 'pgt', 'jvxqc', 'nbh', 'prnjsm', 'spkl'])\n",
            "Counter({'soy': 14, 'dairy': 12, 'nuts': 11, 'peanuts': 10, 'sesame': 10, 'shellfish': 9, 'fish': 7, 'eggs': 5})\n"
          ],
          "name": "stdout"
        },
        {
          "output_type": "execute_result",
          "data": {
            "text/plain": [
              "273"
            ]
          },
          "metadata": {
            "tags": []
          },
          "execution_count": 12
        }
      ]
    },
    {
      "cell_type": "code",
      "metadata": {
        "id": "TsYHIqvmG7A6",
        "colab": {
          "base_uri": "https://localhost:8080/"
        },
        "outputId": "65471d9b-4160-47c2-aae9-78a74457c625"
      },
      "source": [
        "s1 = {'mxmxvkd', 'kfcds', 'sqjhc', 'nhms'}\r\n",
        "s2 = {'trh', 'fvjkl', 'sbzzf', 'mxmxvkd'}\r\n",
        "s3 = { 'mxmxvkd'}\r\n",
        "\r\n",
        "from functools import reduce\r\n",
        "reduce(set.symmetric_difference, [s1,s2,s3], set())"
      ],
      "execution_count": 5,
      "outputs": [
        {
          "output_type": "execute_result",
          "data": {
            "text/plain": [
              "{'fvjkl', 'kfcds', 'mxmxvkd', 'nhms', 'sbzzf', 'sqjhc', 'trh'}"
            ]
          },
          "metadata": {
            "tags": []
          },
          "execution_count": 5
        }
      ]
    },
    {
      "cell_type": "code",
      "metadata": {
        "id": "EnRXgNqJj6tj",
        "outputId": "c474bb1d-459c-45f5-ae1e-39f8bc6f43ce",
        "colab": {
          "base_uri": "https://localhost:8080/"
        }
      },
      "source": [
        "from collections import Counter\r\n",
        "\r\n",
        "c = Counter()\r\n",
        "\r\n",
        "c\r\n",
        "c['dog'] += 5\r\n",
        "c"
      ],
      "execution_count": 26,
      "outputs": [
        {
          "output_type": "execute_result",
          "data": {
            "text/plain": [
              "Counter({'dog': 5})"
            ]
          },
          "metadata": {
            "tags": []
          },
          "execution_count": 26
        }
      ]
    },
    {
      "cell_type": "code",
      "metadata": {
        "id": "C1TcdHd2U2IZ"
      },
      "source": [
        ""
      ],
      "execution_count": null,
      "outputs": []
    }
  ]
}