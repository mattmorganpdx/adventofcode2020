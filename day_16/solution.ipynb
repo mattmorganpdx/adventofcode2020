{
  "nbformat": 4,
  "nbformat_minor": 0,
  "metadata": {
    "kernelspec": {
      "display_name": "Python 3",
      "language": "python",
      "name": "python3"
    },
    "language_info": {
      "codemirror_mode": {
        "name": "ipython",
        "version": 3
      },
      "file_extension": ".py",
      "mimetype": "text/x-python",
      "name": "python",
      "nbconvert_exporter": "python",
      "pygments_lexer": "ipython3",
      "version": "3.8.5"
    },
    "colab": {
      "name": "solution.ipynb",
      "provenance": [],
      "include_colab_link": true
    }
  },
  "cells": [
    {
      "cell_type": "markdown",
      "metadata": {
        "id": "view-in-github",
        "colab_type": "text"
      },
      "source": [
        "<a href=\"https://colab.research.google.com/github/mattmorganpdx/adventofcode2020/blob/main/day_16/solution.ipynb\" target=\"_parent\"><img src=\"https://colab.research.google.com/assets/colab-badge.svg\" alt=\"Open In Colab\"/></a>"
      ]
    },
    {
      "cell_type": "code",
      "metadata": {
        "id": "RqjGLK1NMF7G"
      },
      "source": [
        "from urllib import request\n",
        "\n",
        "day = \"16\"\n",
        "\n",
        "def load_input():\n",
        "  input_url = f\"https://raw.githubusercontent.com/mattmorganpdx/adventofcode2020/main/day_{day}/input.txt\"\n",
        "  response = request.urlopen(input_url)\n",
        "  return [line.decode('utf-8') for line in response.read().split(b'\\r\\n\\r\\n')]\n"
      ],
      "execution_count": 146,
      "outputs": []
    },
    {
      "cell_type": "code",
      "metadata": {
        "id": "au8IVN5LMsHf"
      },
      "source": [
        "input = load_input()\r\n",
        "\r\n",
        "rules = input[0].splitlines()\r\n",
        "our_ticket = input[1].splitlines()[1]\r\n",
        "tickets = input[2].splitlines()[1:]"
      ],
      "execution_count": 147,
      "outputs": []
    },
    {
      "cell_type": "code",
      "metadata": {
        "id": "yQ4_kmTZNabN",
        "colab": {
          "base_uri": "https://localhost:8080/"
        },
        "outputId": "853f695a-3d63-43f5-881d-5757b5ad43c9"
      },
      "source": [
        "# Part 1\r\n",
        "import re\r\n",
        "from itertools import chain\r\n",
        "\r\n",
        "rules_set = set()\r\n",
        "\r\n",
        "for rule in rules:\r\n",
        "  for r in re.findall(r'[0-9]+-[0-9]+', rule):\r\n",
        "    start, end = map(int, r.split('-'))\r\n",
        "    for i in range(start, end + 1):\r\n",
        "      rules_set.add(i)\r\n",
        "\r\n",
        "error_rate = 0\r\n",
        "for e in chain(*[x.split(',') for x in tickets]):\r\n",
        "  if int(e) not in rules_set:\r\n",
        "    error_rate += int(e)\r\n",
        "\r\n",
        "error_rate"
      ],
      "execution_count": 148,
      "outputs": [
        {
          "output_type": "execute_result",
          "data": {
            "text/plain": [
              "28882"
            ]
          },
          "metadata": {
            "tags": []
          },
          "execution_count": 148
        }
      ]
    },
    {
      "cell_type": "code",
      "metadata": {
        "colab": {
          "base_uri": "https://localhost:8080/"
        },
        "id": "VTBqw6y8kMy3",
        "outputId": "a289d0af-a576-410d-919b-03dff5ff3db4"
      },
      "source": [
        "# Part 2\r\n",
        "\r\n",
        "import re\r\n",
        "from functools import reduce\r\n",
        "from operator import mul\r\n",
        "\r\n",
        "\r\n",
        "rules_set = set()\r\n",
        "rules_map = dict()\r\n",
        "valid_tickets = list()\r\n",
        "field_map = dict()\r\n",
        "\r\n",
        "\r\n",
        "for rule in rules:\r\n",
        "  for r in re.findall(r'[0-9]+-[0-9]+', rule):\r\n",
        "    start, end = map(int, r.split('-'))\r\n",
        "    for i in range(start, end + 1):\r\n",
        "      rules_set.add(i)\r\n",
        "\r\n",
        "for rule in rules:\r\n",
        "  rule_set = set()\r\n",
        "  for r in re.findall(r'[0-9]+-[0-9]+', rule):\r\n",
        "    start, end = map(int, r.split('-'))\r\n",
        "    for i in range(start, end + 1):\r\n",
        "      rule_set.add(i)\r\n",
        "  rules_map[rule.split(':')[0]] = rule_set\r\n",
        "\r\n",
        "for ticket in tickets:\r\n",
        "  ticket = [int(i) for i in ticket.split(',')]\r\n",
        "  if all(x in rules_set for x in ticket):\r\n",
        "    valid_tickets.append(ticket)\r\n",
        "  \r\n",
        "    \r\n",
        "for i in range(len(valid_tickets[0])):\r\n",
        "  (min(x[i] for x in valid_tickets), max(x[i] for x in valid_tickets))\r\n",
        "\r\n",
        "not_fields = [[]] *20\r\n",
        "for ticket in valid_tickets:\r\n",
        "  for i, field in enumerate(ticket):\r\n",
        "    not_fields[i] = not_fields[i] + [k for k, v in rules_map.items() if field not in v]\r\n",
        "\r\n",
        "\r\n",
        "possible_fields = {}\r\n",
        "for idx, i in enumerate(not_fields):\r\n",
        "  possible_fields[idx] = [e for e in rules_map.keys() if e not in i]\r\n",
        "\r\n",
        "while any([len(v)> 1 for v in possible_fields.values()]):\r\n",
        "  for k, v in possible_fields.items():\r\n",
        "    if len(v) == 1:\r\n",
        "      r = v[0]\r\n",
        "      field_map[k] = r\r\n",
        "      for n in possible_fields.values():\r\n",
        "        if r in n:\r\n",
        "          n.remove(r)\r\n",
        "\r\n",
        "\r\n",
        "reduce(mul, [int(f) for idx, f in enumerate(our_ticket.split(',')) if 'departure' in field_map[idx]], 1)"
      ],
      "execution_count": 149,
      "outputs": [
        {
          "output_type": "execute_result",
          "data": {
            "text/plain": [
              "1429779530273"
            ]
          },
          "metadata": {
            "tags": []
          },
          "execution_count": 149
        }
      ]
    },
    {
      "cell_type": "code",
      "metadata": {
        "id": "4Cd1Udtt9f_n"
      },
      "source": [
        ""
      ],
      "execution_count": null,
      "outputs": []
    }
  ]
}