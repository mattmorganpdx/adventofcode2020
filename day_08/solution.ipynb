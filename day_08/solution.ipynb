{
  "nbformat": 4,
  "nbformat_minor": 0,
  "metadata": {
    "kernelspec": {
      "display_name": "Python 3",
      "language": "python",
      "name": "python3"
    },
    "language_info": {
      "codemirror_mode": {
        "name": "ipython",
        "version": 3
      },
      "file_extension": ".py",
      "mimetype": "text/x-python",
      "name": "python",
      "nbconvert_exporter": "python",
      "pygments_lexer": "ipython3",
      "version": "3.8.5"
    },
    "colab": {
      "name": "solution.ipynb",
      "provenance": [],
      "include_colab_link": true
    }
  },
  "cells": [
    {
      "cell_type": "markdown",
      "metadata": {
        "id": "view-in-github",
        "colab_type": "text"
      },
      "source": [
        "<a href=\"https://colab.research.google.com/github/mattmorganpdx/adventofcode2020/blob/main/day_08/solution.ipynb\" target=\"_parent\"><img src=\"https://colab.research.google.com/assets/colab-badge.svg\" alt=\"Open In Colab\"/></a>"
      ]
    },
    {
      "cell_type": "code",
      "metadata": {
        "id": "RqjGLK1NMF7G"
      },
      "source": [
        "from urllib import request\n",
        "\n",
        "day = \"08\"\n",
        "\n",
        "def load_input():\n",
        "  input_url = f\"https://raw.githubusercontent.com/mattmorganpdx/adventofcode2020/main/day_{day}/input.txt\"\n",
        "  response = request.urlopen(input_url)\n",
        "  return [line.decode('utf-8') for line in response.read().splitlines()]\n"
      ],
      "execution_count": 1,
      "outputs": []
    },
    {
      "cell_type": "code",
      "metadata": {
        "id": "au8IVN5LMsHf"
      },
      "source": [
        "input = load_input()"
      ],
      "execution_count": 2,
      "outputs": []
    },
    {
      "cell_type": "code",
      "metadata": {
        "id": "yQ4_kmTZNabN"
      },
      "source": [
        "test_input = '''nop +0\n",
        "acc +1\n",
        "jmp +4\n",
        "acc +3\n",
        "jmp -3\n",
        "acc -99\n",
        "acc +1\n",
        "jmp -4\n",
        "acc +6'''.splitlines()"
      ],
      "execution_count": 4,
      "outputs": []
    },
    {
      "cell_type": "code",
      "metadata": {
        "id": "K7HeQOQcuYl0",
        "outputId": "34050edd-9abe-46a9-9a45-1b2db07610c6",
        "colab": {
          "base_uri": "https://localhost:8080/"
        }
      },
      "source": [
        "# Part 1\n",
        "pc = 0\n",
        "count = 0\n",
        "\n",
        "def acc(x):\n",
        "  global pc\n",
        "  global count\n",
        "  pc += 1\n",
        "  count += x\n",
        "\n",
        "def jmp(x):\n",
        "  global pc\n",
        "  pc += x\n",
        "\n",
        "def nop(x):\n",
        "  global pc\n",
        "  pc += 1\n",
        "\n",
        "ops = {\n",
        "    'acc': acc,\n",
        "    'jmp': jmp,\n",
        "    'nop': nop\n",
        "}\n",
        "\n",
        "def get_int(x):\n",
        "  if '+' in x:\n",
        "    return int(x[1:])\n",
        "  else:\n",
        "    return int(x)\n",
        "\n",
        "hits = set()\n",
        "while pc not in hits:\n",
        "  hits.add(pc)\n",
        "  ops[input[pc].split()[0]](get_int(input[pc].split()[1]))\n",
        "print(count)"
      ],
      "execution_count": 42,
      "outputs": [
        {
          "output_type": "stream",
          "text": [
            "1337\n"
          ],
          "name": "stdout"
        }
      ]
    },
    {
      "cell_type": "code",
      "metadata": {
        "id": "8XfXh-Rj-Dm2"
      },
      "source": [
        "# Part 2\n",
        "# 587 too low\n",
        "# 713 too low\n",
        "# 4305 too high\n",
        "def try_flip(input):\n",
        "  pc = 0\n",
        "  count = 0\n",
        "\n",
        "  def acc(x):\n",
        "    global pc\n",
        "    global count\n",
        "    pc += 1\n",
        "    count += x\n",
        "\n",
        "  def jmp(x):\n",
        "    global pc\n",
        "    pc += x\n",
        "\n",
        "  def nop(x):\n",
        "    global pc\n",
        "    pc += 1\n",
        "\n",
        "  ops = {\n",
        "      'acc': acc,\n",
        "      'jmp': jmp,\n",
        "      'nop': nop\n",
        "  }\n",
        "\n",
        "  def get_int(x):\n",
        "    if '+' in x:\n",
        "      return int(x[1:])\n",
        "    else:\n",
        "      return int(x)\n",
        "\n",
        "  hits = set()\n",
        "  while pc < len(input):\n",
        "    #print(pc)\n",
        "    inst = input[pc].split()[0]\n",
        "    val = get_int(input[pc].split()[1])\n",
        "    if pc in hits:\n",
        "      return None\n",
        "    hits.add(pc)\n",
        "    ops[inst](val)\n",
        "  return count"
      ],
      "execution_count": 72,
      "outputs": []
    },
    {
      "cell_type": "code",
      "metadata": {
        "id": "OWeYtpdx-Y6K"
      },
      "source": [
        "for e in input:\n",
        "  \n",
        "  try_flip(input)"
      ],
      "execution_count": 73,
      "outputs": []
    },
    {
      "cell_type": "code",
      "metadata": {
        "id": "cl7zHtfUQepX"
      },
      "source": [
        ""
      ],
      "execution_count": null,
      "outputs": []
    }
  ]
}