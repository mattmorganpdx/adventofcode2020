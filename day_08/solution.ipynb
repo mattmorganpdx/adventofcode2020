{
  "nbformat": 4,
  "nbformat_minor": 0,
  "metadata": {
    "kernelspec": {
      "display_name": "Python 3",
      "language": "python",
      "name": "python3"
    },
    "language_info": {
      "codemirror_mode": {
        "name": "ipython",
        "version": 3
      },
      "file_extension": ".py",
      "mimetype": "text/x-python",
      "name": "python",
      "nbconvert_exporter": "python",
      "pygments_lexer": "ipython3",
      "version": "3.8.5"
    },
    "colab": {
      "name": "solution.ipynb",
      "provenance": [],
      "include_colab_link": true
    }
  },
  "cells": [
    {
      "cell_type": "markdown",
      "metadata": {
        "id": "view-in-github",
        "colab_type": "text"
      },
      "source": [
        "<a href=\"https://colab.research.google.com/github/mattmorganpdx/adventofcode2020/blob/main/day_08/solution.ipynb\" target=\"_parent\"><img src=\"https://colab.research.google.com/assets/colab-badge.svg\" alt=\"Open In Colab\"/></a>"
      ]
    },
    {
      "cell_type": "code",
      "metadata": {
        "id": "RqjGLK1NMF7G"
      },
      "source": [
        "from urllib import request\n",
        "\n",
        "day = \"08\"\n",
        "\n",
        "def load_input():\n",
        "  input_url = f\"https://raw.githubusercontent.com/mattmorganpdx/adventofcode2020/main/day_{day}/input.txt\"\n",
        "  response = request.urlopen(input_url)\n",
        "  return [line.decode('utf-8') for line in response.read().splitlines()]\n"
      ],
      "execution_count": 63,
      "outputs": []
    },
    {
      "cell_type": "code",
      "metadata": {
        "id": "au8IVN5LMsHf"
      },
      "source": [
        "input = load_input()"
      ],
      "execution_count": 64,
      "outputs": []
    },
    {
      "cell_type": "code",
      "metadata": {
        "colab": {
          "base_uri": "https://localhost:8080/"
        },
        "id": "K7HeQOQcuYl0",
        "outputId": "ac733dfc-619c-4411-d13a-a2b16e0452a1"
      },
      "source": [
        "# Part 1\n",
        "pc = 0\n",
        "count = 0\n",
        "\n",
        "def acc(x):\n",
        "  global pc\n",
        "  global count\n",
        "  pc += 1\n",
        "  count += x\n",
        "\n",
        "def jmp(x):\n",
        "  global pc\n",
        "  pc += x\n",
        "\n",
        "def nop(x):\n",
        "  global pc\n",
        "  pc += 1\n",
        "\n",
        "ops = {\n",
        "    'acc': acc,\n",
        "    'jmp': jmp,\n",
        "    'nop': nop\n",
        "}\n",
        "\n",
        "def get_int(x):\n",
        "  if '+' in x:\n",
        "    return int(x[1:])\n",
        "  else:\n",
        "    return int(x)\n",
        "\n",
        "hits = set()\n",
        "while pc not in hits:\n",
        "  hits.add(pc)\n",
        "  ops[input[pc].split()[0]](get_int(input[pc].split()[1]))\n",
        "print(count)"
      ],
      "execution_count": 65,
      "outputs": [
        {
          "output_type": "stream",
          "text": [
            "1337\n"
          ],
          "name": "stdout"
        }
      ]
    },
    {
      "cell_type": "code",
      "metadata": {
        "colab": {
          "base_uri": "https://localhost:8080/"
        },
        "id": "8XfXh-Rj-Dm2",
        "outputId": "3ddef89a-98db-45dd-b00b-45cb04eec11c"
      },
      "source": [
        "# Part 2\n",
        "def try_flip(input):\n",
        "  pc = 0\n",
        "  count = 0\n",
        "\n",
        "  def acc(x):\n",
        "    nonlocal pc\n",
        "    nonlocal count\n",
        "    pc += 1\n",
        "    count += x\n",
        "\n",
        "  def jmp(x):\n",
        "    nonlocal pc\n",
        "    pc += x\n",
        "\n",
        "  def nop(x):\n",
        "    nonlocal pc\n",
        "    pc += 1\n",
        "\n",
        "  ops = {\n",
        "      'acc': acc,\n",
        "      'jmp': jmp,\n",
        "      'nop': nop\n",
        "  }\n",
        "\n",
        "  def get_int(x):\n",
        "    if '+' in x:\n",
        "      return int(x[1:])\n",
        "    else:\n",
        "      return int(x)\n",
        "\n",
        "  hits = set()\n",
        "  while pc < len(input) and pc not in hits:\n",
        "    inst = input[pc].split()[0]\n",
        "    val = get_int(input[pc].split()[1])   \n",
        "    hits.add(pc)\n",
        "    ops[inst](val)\n",
        "    \n",
        "  return count, pc\n",
        "\n",
        "# Brute for each flip\n",
        "for i, e in enumerate(input):\n",
        "  n = input.copy()\n",
        "  if 'acc' not in e:\n",
        "    if 'jmp' in e:\n",
        "      n[i] = e.replace('jmp', 'nop')\n",
        "    else:\n",
        "      n[i] = e.replace('nop', 'jmp')\n",
        "\n",
        "  count, pc = try_flip(n)\n",
        "  if pc == len(input):\n",
        "    print(count)"
      ],
      "execution_count": 66,
      "outputs": [
        {
          "output_type": "stream",
          "text": [
            "1358\n"
          ],
          "name": "stdout"
        }
      ]
    },
    {
      "cell_type": "code",
      "metadata": {
        "id": "SX3yEOMgBo75"
      },
      "source": [
        ""
      ],
      "execution_count": null,
      "outputs": []
    }
  ]
}