{
  "nbformat": 4,
  "nbformat_minor": 0,
  "metadata": {
    "kernelspec": {
      "display_name": "Python 3",
      "language": "python",
      "name": "python3"
    },
    "language_info": {
      "codemirror_mode": {
        "name": "ipython",
        "version": 3
      },
      "file_extension": ".py",
      "mimetype": "text/x-python",
      "name": "python",
      "nbconvert_exporter": "python",
      "pygments_lexer": "ipython3",
      "version": "3.8.5"
    },
    "colab": {
      "name": "solution.ipynb",
      "provenance": [],
      "include_colab_link": true
    }
  },
  "cells": [
    {
      "cell_type": "markdown",
      "metadata": {
        "id": "view-in-github",
        "colab_type": "text"
      },
      "source": [
        "<a href=\"https://colab.research.google.com/github/mattmorganpdx/adventofcode2020/blob/main/day_25/solution.ipynb\" target=\"_parent\"><img src=\"https://colab.research.google.com/assets/colab-badge.svg\" alt=\"Open In Colab\"/></a>"
      ]
    },
    {
      "cell_type": "code",
      "metadata": {
        "id": "yQ4_kmTZNabN",
        "outputId": "08e4a9ca-1bf3-42f1-c56c-7df45798da4c",
        "colab": {
          "base_uri": "https://localhost:8080/"
        }
      },
      "source": [
        "#card_pub = 5764801\r\n",
        "#door_pub = 17807724\r\n",
        "card_pub = 14082811\r\n",
        "door_pub = 5249543\r\n",
        "\r\n",
        "card_loop = 0\r\n",
        "door_loop = 0\r\n",
        "\r\n",
        "def crack(p, r=10000000):\r\n",
        "  transform = lambda x: (x * 7) % 20201227\r\n",
        "  t = 1\r\n",
        "  for i in range(r):\r\n",
        "    t = transform(t)\r\n",
        "    if t == p:\r\n",
        "      return i + 1\r\n",
        "\r\n",
        "def crack_loop(p, r):\r\n",
        "  transform = lambda x: (x * p) % 20201227\r\n",
        "  t = 1\r\n",
        "  for i in range(r):\r\n",
        "    t = transform(t)\r\n",
        "  return t\r\n",
        "\r\n",
        "\r\n",
        "crack_loop(card_pub,crack(door_pub))"
      ],
      "execution_count": 30,
      "outputs": [
        {
          "output_type": "execute_result",
          "data": {
            "text/plain": [
              "3217885"
            ]
          },
          "metadata": {
            "tags": []
          },
          "execution_count": 30
        }
      ]
    },
    {
      "cell_type": "code",
      "metadata": {
        "id": "3EN0TOuef6RD"
      },
      "source": [
        ""
      ],
      "execution_count": null,
      "outputs": []
    }
  ]
}