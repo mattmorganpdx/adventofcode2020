{
  "nbformat": 4,
  "nbformat_minor": 0,
  "metadata": {
    "kernelspec": {
      "display_name": "Python 3",
      "language": "python",
      "name": "python3"
    },
    "language_info": {
      "codemirror_mode": {
        "name": "ipython",
        "version": 3
      },
      "file_extension": ".py",
      "mimetype": "text/x-python",
      "name": "python",
      "nbconvert_exporter": "python",
      "pygments_lexer": "ipython3",
      "version": "3.8.5"
    },
    "colab": {
      "name": "solution.ipynb",
      "provenance": [],
      "include_colab_link": true
    }
  },
  "cells": [
    {
      "cell_type": "markdown",
      "metadata": {
        "id": "view-in-github",
        "colab_type": "text"
      },
      "source": [
        "<a href=\"https://colab.research.google.com/github/mattmorganpdx/adventofcode2020/blob/main/day_03/solution.ipynb\" target=\"_parent\"><img src=\"https://colab.research.google.com/assets/colab-badge.svg\" alt=\"Open In Colab\"/></a>"
      ]
    },
    {
      "cell_type": "code",
      "metadata": {
        "id": "RqjGLK1NMF7G"
      },
      "source": [
        "from urllib import request\n",
        "\n",
        "day = \"03\"\n",
        "\n",
        "def load_input():\n",
        "  input_url = f\"https://raw.githubusercontent.com/mattmorganpdx/adventofcode2020/main/day_{day}/input.txt\"\n",
        "  response = request.urlopen(input_url)\n",
        "  return [line.decode('utf-8') for line in response.read().splitlines()]\n"
      ],
      "execution_count": 4,
      "outputs": []
    },
    {
      "cell_type": "code",
      "metadata": {
        "id": "au8IVN5LMsHf"
      },
      "source": [
        "input = load_input()"
      ],
      "execution_count": 19,
      "outputs": []
    },
    {
      "cell_type": "code",
      "metadata": {
        "id": "mccDs93SS2Jl",
        "outputId": "7cb99df9-0199-4b0a-8b20-ade201f09eb7",
        "colab": {
          "base_uri": "https://localhost:8080/"
        }
      },
      "source": [
        "len(input[0])"
      ],
      "execution_count": 37,
      "outputs": [
        {
          "output_type": "execute_result",
          "data": {
            "text/plain": [
              "31"
            ]
          },
          "metadata": {
            "tags": []
          },
          "execution_count": 37
        }
      ]
    },
    {
      "cell_type": "code",
      "metadata": {
        "id": "Tht5zMxLMAjE",
        "outputId": "44c86f81-54e2-4c0f-f939-db7c55abaa2c",
        "colab": {
          "base_uri": "https://localhost:8080/"
        }
      },
      "source": [
        "divmod(3,31)"
      ],
      "execution_count": 78,
      "outputs": [
        {
          "output_type": "execute_result",
          "data": {
            "text/plain": [
              "(0, 3)"
            ]
          },
          "metadata": {
            "tags": []
          },
          "execution_count": 78
        }
      ]
    },
    {
      "cell_type": "code",
      "metadata": {
        "id": "yQ4_kmTZNabN",
        "outputId": "62741325-f14c-4705-b746-d1f296a991f5",
        "colab": {
          "base_uri": "https://localhost:8080/"
        }
      },
      "source": [
        "# Part 1\n",
        "count = 0\n",
        "for idx, i in enumerate(input):\n",
        "  if idx == 0:\n",
        "    continue\n",
        "  _, t = divmod(3 * (idx), 31 )\n",
        "  if input[idx][t] == '#':\n",
        "    count += 1\n",
        "print(count)"
      ],
      "execution_count": 82,
      "outputs": [
        {
          "output_type": "stream",
          "text": [
            "176\n"
          ],
          "name": "stdout"
        }
      ]
    },
    {
      "cell_type": "code",
      "metadata": {
        "id": "U1VRSL4fBz1u"
      },
      "source": [
        "def find_trees(x, y):\n",
        "  count = 0\n",
        "  for idx, i in enumerate(input[::y]):\n",
        "    if idx == 0:\n",
        "      continue\n",
        "    _, t = divmod(x * (idx), 31 )\n",
        "    if input[idx][t] == '#':\n",
        "      count += 1\n",
        "  return count"
      ],
      "execution_count": 100,
      "outputs": []
    },
    {
      "cell_type": "code",
      "metadata": {
        "id": "YO1JheP8CTAW",
        "outputId": "6b0e3e97-6925-415e-974e-62580ae6992f",
        "colab": {
          "base_uri": "https://localhost:8080/"
        }
      },
      "source": [
        "import numpy\n",
        "# Right 1, down 1.\n",
        "# Right 3, down 1. (This is the slope you already checked.)\n",
        "# Right 5, down 1.\n",
        "# Right 7, down 1.\n",
        "# Right 1, down 2.\n",
        "# 4997836800 and 5372674560 too low\n",
        "slopes = [(1,1), (3, 1), (5, 1), (7,1), (1,2)]\n",
        "totals = [find_trees(x, y) for x, y in slopes]\n",
        "print(totals)\n",
        "numpy.prod(totals)"
      ],
      "execution_count": 103,
      "outputs": [
        {
          "output_type": "stream",
          "text": [
            "[85, 176, 96, 87, 43]\n"
          ],
          "name": "stdout"
        },
        {
          "output_type": "execute_result",
          "data": {
            "text/plain": [
              "5372674560"
            ]
          },
          "metadata": {
            "tags": []
          },
          "execution_count": 103
        }
      ]
    },
    {
      "cell_type": "code",
      "metadata": {
        "id": "QJj-FjZyCUPm",
        "outputId": "d55ab606-2768-4f53-bed0-5e95161df83a",
        "colab": {
          "base_uri": "https://localhost:8080/"
        }
      },
      "source": [
        "input[:10]"
      ],
      "execution_count": 112,
      "outputs": [
        {
          "output_type": "execute_result",
          "data": {
            "text/plain": [
              "['.##.............##......#.....#',\n",
              " '.#.#................#..........',\n",
              " '...#..#.##..#.#......#.#.#.#..#',\n",
              " '..#......#........#..#..#.#.#..',\n",
              " '.......#....#..#..#.......#....',\n",
              " '..#..#..##.#...#........#.###..',\n",
              " '..#...#..#.....#.##....#.......',\n",
              " '....#..###.#......#.##..#...##.',\n",
              " '..#..........#.##.#...#........',\n",
              " '#...#............##....#..##...']"
            ]
          },
          "metadata": {
            "tags": []
          },
          "execution_count": 112
        }
      ]
    },
    {
      "cell_type": "code",
      "metadata": {
        "id": "sE_gzSA3iigX",
        "outputId": "fea6b3dd-a57d-4f9e-9dae-7c469b226bfa",
        "colab": {
          "base_uri": "https://localhost:8080/"
        }
      },
      "source": [
        "list(enumerate(input[::2]))[:10]"
      ],
      "execution_count": 111,
      "outputs": [
        {
          "output_type": "execute_result",
          "data": {
            "text/plain": [
              "[(0, '.##.............##......#.....#'),\n",
              " (1, '...#..#.##..#.#......#.#.#.#..#'),\n",
              " (2, '.......#....#..#..#.......#....'),\n",
              " (3, '..#...#..#.....#.##....#.......'),\n",
              " (4, '..#..........#.##.#...#........'),\n",
              " (5, '.......##....#.....##..#.#..#.#'),\n",
              " (6, '.#...#.##........#####........#'),\n",
              " (7, '....#......##....#.#....#.#..##'),\n",
              " (8, '##..###..#..#.......###.......#'),\n",
              " (9, '.....#..........#.....##..#.#..')]"
            ]
          },
          "metadata": {
            "tags": []
          },
          "execution_count": 111
        }
      ]
    },
    {
      "cell_type": "code",
      "metadata": {
        "id": "3f0vgZZPlLVW",
        "outputId": "2a833d08-ba3e-49c2-a0d2-3eed0b02759c",
        "colab": {
          "base_uri": "https://localhost:8080/"
        }
      },
      "source": [
        "85 * 176 * 96 * 87 * 43"
      ],
      "execution_count": 105,
      "outputs": [
        {
          "output_type": "execute_result",
          "data": {
            "text/plain": [
              "5372674560"
            ]
          },
          "metadata": {
            "tags": []
          },
          "execution_count": 105
        }
      ]
    },
    {
      "cell_type": "code",
      "metadata": {
        "id": "4bjHDYLnnKH7"
      },
      "source": [
        ""
      ],
      "execution_count": null,
      "outputs": []
    }
  ]
}