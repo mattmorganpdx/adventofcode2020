{
  "nbformat": 4,
  "nbformat_minor": 0,
  "metadata": {
    "kernelspec": {
      "display_name": "Python 3",
      "language": "python",
      "name": "python3"
    },
    "language_info": {
      "codemirror_mode": {
        "name": "ipython",
        "version": 3
      },
      "file_extension": ".py",
      "mimetype": "text/x-python",
      "name": "python",
      "nbconvert_exporter": "python",
      "pygments_lexer": "ipython3",
      "version": "3.8.5"
    },
    "colab": {
      "name": "solution.ipynb",
      "provenance": [],
      "include_colab_link": true
    }
  },
  "cells": [
    {
      "cell_type": "markdown",
      "metadata": {
        "id": "view-in-github",
        "colab_type": "text"
      },
      "source": [
        "<a href=\"https://colab.research.google.com/github/mattmorganpdx/adventofcode2020/blob/main/day_03/solution.ipynb\" target=\"_parent\"><img src=\"https://colab.research.google.com/assets/colab-badge.svg\" alt=\"Open In Colab\"/></a>"
      ]
    },
    {
      "cell_type": "code",
      "metadata": {
        "id": "RqjGLK1NMF7G"
      },
      "source": [
        "from urllib import request\n",
        "\n",
        "day = \"03\"\n",
        "\n",
        "def load_input():\n",
        "  input_url = f\"https://raw.githubusercontent.com/mattmorganpdx/adventofcode2020/main/day_{day}/input.txt\"\n",
        "  response = request.urlopen(input_url)\n",
        "  return [line.decode('utf-8') for line in response.read().splitlines()]\n"
      ],
      "execution_count": 39,
      "outputs": []
    },
    {
      "cell_type": "code",
      "metadata": {
        "id": "au8IVN5LMsHf"
      },
      "source": [
        "input = load_input()"
      ],
      "execution_count": 40,
      "outputs": []
    },
    {
      "cell_type": "code",
      "metadata": {
        "id": "2Sj4Oe4iehLO"
      },
      "source": [
        "test_input = '''..##.......\n",
        "#...#...#..\n",
        ".#....#..#.\n",
        "..#.#...#.#\n",
        ".#...##..#.\n",
        "..#.##.....\n",
        ".#.#.#....#\n",
        ".#........#\n",
        "#.##...#...\n",
        "#...##....#\n",
        ".#..#...#.#'''.splitlines()"
      ],
      "execution_count": 41,
      "outputs": []
    },
    {
      "cell_type": "code",
      "metadata": {
        "id": "yQ4_kmTZNabN",
        "colab": {
          "base_uri": "https://localhost:8080/"
        },
        "outputId": "46ee6168-2149-49e5-e9f1-c0eee55a926f"
      },
      "source": [
        "# Part 1\n",
        "count = 0\n",
        "for idx, i in enumerate(input):\n",
        "  if idx == 0:\n",
        "    continue\n",
        "  _, t = divmod(3 * (idx), 31 )\n",
        "  if input[idx][t] == '#':\n",
        "    count += 1\n",
        "print(count)"
      ],
      "execution_count": 42,
      "outputs": [
        {
          "output_type": "stream",
          "text": [
            "176\n"
          ],
          "name": "stdout"
        }
      ]
    },
    {
      "cell_type": "code",
      "metadata": {
        "id": "U1VRSL4fBz1u"
      },
      "source": [
        "# Part 2\n",
        "def find_trees(x, y, input):\n",
        "  count = 0\n",
        "  for idx, i in enumerate(input[::y]):\n",
        "    if idx == 0:\n",
        "      continue\n",
        "    _, t = divmod(x * (idx), len(i) )\n",
        "    if i[t] == '#':\n",
        "      count += 1\n",
        "  return count"
      ],
      "execution_count": 43,
      "outputs": []
    },
    {
      "cell_type": "code",
      "metadata": {
        "id": "YO1JheP8CTAW",
        "colab": {
          "base_uri": "https://localhost:8080/"
        },
        "outputId": "59905f25-1b17-4275-8594-43ef2fcd5d62"
      },
      "source": [
        "# Part 2\n",
        "import numpy\n",
        "# Right 1, down 1.\n",
        "# Right 3, down 1. (This is the slope you already checked.)\n",
        "# Right 5, down 1.\n",
        "# Right 7, down 1.\n",
        "# Right 1, down 2.\n",
        "# 4997836800 and 5372674560 too low\n",
        "slopes = [(1,1), (3, 1), (5, 1), (7,1), (1,2)]\n",
        "totals = [find_trees(x, y, input) for x, y in slopes]\n",
        "print(totals)\n",
        "numpy.prod(totals)"
      ],
      "execution_count": 44,
      "outputs": [
        {
          "output_type": "stream",
          "text": [
            "[85, 176, 96, 87, 47]\n"
          ],
          "name": "stdout"
        },
        {
          "output_type": "execute_result",
          "data": {
            "text/plain": [
              "5872458240"
            ]
          },
          "metadata": {
            "tags": []
          },
          "execution_count": 44
        }
      ]
    }
  ]
}