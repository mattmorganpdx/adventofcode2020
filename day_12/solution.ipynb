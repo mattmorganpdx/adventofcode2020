{
  "nbformat": 4,
  "nbformat_minor": 0,
  "metadata": {
    "kernelspec": {
      "display_name": "Python 3",
      "language": "python",
      "name": "python3"
    },
    "language_info": {
      "codemirror_mode": {
        "name": "ipython",
        "version": 3
      },
      "file_extension": ".py",
      "mimetype": "text/x-python",
      "name": "python",
      "nbconvert_exporter": "python",
      "pygments_lexer": "ipython3",
      "version": "3.8.5"
    },
    "colab": {
      "name": "solution.ipynb",
      "provenance": [],
      "include_colab_link": true
    }
  },
  "cells": [
    {
      "cell_type": "markdown",
      "metadata": {
        "id": "view-in-github",
        "colab_type": "text"
      },
      "source": [
        "<a href=\"https://colab.research.google.com/github/mattmorganpdx/adventofcode2020/blob/main/day_12/solution.ipynb\" target=\"_parent\"><img src=\"https://colab.research.google.com/assets/colab-badge.svg\" alt=\"Open In Colab\"/></a>"
      ]
    },
    {
      "cell_type": "code",
      "metadata": {
        "id": "RqjGLK1NMF7G"
      },
      "source": [
        "from urllib import request\n",
        "\n",
        "day = \"12\"\n",
        "\n",
        "def load_input():\n",
        "  input_url = f\"https://raw.githubusercontent.com/mattmorganpdx/adventofcode2020/main/day_{day}/input.txt\"\n",
        "  response = request.urlopen(input_url)\n",
        "  return [line.decode('utf-8') for line in response.read().splitlines()]\n"
      ],
      "execution_count": 25,
      "outputs": []
    },
    {
      "cell_type": "code",
      "metadata": {
        "id": "au8IVN5LMsHf"
      },
      "source": [
        "input = load_input()"
      ],
      "execution_count": 26,
      "outputs": []
    },
    {
      "cell_type": "code",
      "metadata": {
        "id": "yQ4_kmTZNabN"
      },
      "source": [
        "input = [(x[0], int(x[1:])) for x in input]"
      ],
      "execution_count": 27,
      "outputs": []
    },
    {
      "cell_type": "code",
      "metadata": {
        "id": "rKUTW5HWyfYs",
        "colab": {
          "base_uri": "https://localhost:8080/"
        },
        "outputId": "7ea8bf33-0851-4f03-d92a-4227ff2bde8b"
      },
      "source": [
        "# Part 1\r\n",
        "location = (0,0)\r\n",
        "direction = 'E'\r\n",
        "\r\n",
        "turns = {\r\n",
        "    'N': {\r\n",
        "        'R': 'E',\r\n",
        "        'L': 'W'\r\n",
        "    },\r\n",
        "    'S': {\r\n",
        "        'R': 'W',\r\n",
        "        'L': 'E',\r\n",
        "    },\r\n",
        "    'E': {\r\n",
        "        'R': 'S',\r\n",
        "        'L': 'N'\r\n",
        "    },\r\n",
        "    'W': {\r\n",
        "        'R': 'N',\r\n",
        "        'L': 'S'\r\n",
        "    }\r\n",
        "}\r\n",
        "\r\n",
        "def turn(direction, rotation, degrees):\r\n",
        "  if degrees == 0:\r\n",
        "    return direction\r\n",
        "  else:\r\n",
        "    return turn(turns[direction][rotation], rotation, degrees - 90)\r\n",
        "\r\n",
        "commands = {\r\n",
        "    'N': lambda x, l, d: ((l[0], l[1] + x), d),\r\n",
        "    'S': lambda x, l, d: ((l[0], l[1] - x), d),\r\n",
        "    'E': lambda x, l, d: ((l[0] + x, l[1]), d),\r\n",
        "    'W': lambda x, l, d: ((l[0] - x, l[1]), d),\r\n",
        "    'L': lambda x, l, d: (l, turn(d, 'L', x)),\r\n",
        "    'R': lambda x, l, d: (l, turn(d, 'R', x)),\r\n",
        "    'F': lambda x, l, d: (commands[d](x, l, d)),\r\n",
        "}\r\n",
        "\r\n",
        "for i in input:\r\n",
        "  location, direction = commands[i[0]](i[1], location, direction)\r\n",
        "abs(location[0]) + abs(location[1])"
      ],
      "execution_count": 28,
      "outputs": [
        {
          "output_type": "execute_result",
          "data": {
            "text/plain": [
              "1565"
            ]
          },
          "metadata": {
            "tags": []
          },
          "execution_count": 28
        }
      ]
    },
    {
      "cell_type": "code",
      "metadata": {
        "id": "yOhQIYdhz91_",
        "colab": {
          "base_uri": "https://localhost:8080/"
        },
        "outputId": "e091891e-e439-48bc-873b-471d2b5ecd28"
      },
      "source": [
        "# Part 2\r\n",
        "location = (10, 1)\r\n",
        "ship = (0, 0)\r\n",
        "\r\n",
        "\r\n",
        "def turn(location, rotation, degrees):\r\n",
        "  return location if degrees == 0 else turn((location[1],-location[0]) if rotation == 'R' else (-location[1],location[0]), rotation, degrees - 90)\r\n",
        "\r\n",
        "commands = {\r\n",
        "    'N': lambda x, l, d: ((l[0], l[1] + x), d),\r\n",
        "    'S': lambda x, l, d: ((l[0], l[1] - x), d),\r\n",
        "    'E': lambda x, l, d: ((l[0] + x, l[1]), d),\r\n",
        "    'W': lambda x, l, d: ((l[0] - x, l[1]), d),\r\n",
        "    'L': lambda x, l, d: (turn(l, 'L', x), d),\r\n",
        "    'R': lambda x, l, d: (turn(l, 'R', x), d),\r\n",
        "    'F': lambda x, l, d: (l, (d[0] + (l[0] * x), d[1] + (l[1] * x))),\r\n",
        "}\r\n",
        "\r\n",
        "for i in input:\r\n",
        "  location, ship = commands[i[0]](i[1], location, ship)\r\n",
        "\r\n",
        "abs(ship[0]) + abs(ship[1])"
      ],
      "execution_count": 29,
      "outputs": [
        {
          "output_type": "execute_result",
          "data": {
            "text/plain": [
              "78883"
            ]
          },
          "metadata": {
            "tags": []
          },
          "execution_count": 29
        }
      ]
    },
    {
      "cell_type": "code",
      "metadata": {
        "id": "NPAtIqQC5R27"
      },
      "source": [
        ""
      ],
      "execution_count": null,
      "outputs": []
    }
  ]
}