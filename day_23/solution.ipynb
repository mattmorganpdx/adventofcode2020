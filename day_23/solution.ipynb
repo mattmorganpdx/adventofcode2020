{
  "nbformat": 4,
  "nbformat_minor": 0,
  "metadata": {
    "kernelspec": {
      "display_name": "Python 3",
      "language": "python",
      "name": "python3"
    },
    "language_info": {
      "codemirror_mode": {
        "name": "ipython",
        "version": 3
      },
      "file_extension": ".py",
      "mimetype": "text/x-python",
      "name": "python",
      "nbconvert_exporter": "python",
      "pygments_lexer": "ipython3",
      "version": "3.8.5"
    },
    "colab": {
      "name": "solution.ipynb",
      "provenance": [],
      "include_colab_link": true
    }
  },
  "cells": [
    {
      "cell_type": "markdown",
      "metadata": {
        "id": "view-in-github",
        "colab_type": "text"
      },
      "source": [
        "<a href=\"https://colab.research.google.com/github/mattmorganpdx/adventofcode2020/blob/main/day_23/solution.ipynb\" target=\"_parent\"><img src=\"https://colab.research.google.com/assets/colab-badge.svg\" alt=\"Open In Colab\"/></a>"
      ]
    },
    {
      "cell_type": "code",
      "metadata": {
        "id": "RqjGLK1NMF7G",
        "outputId": "76eeae4a-3d2e-4947-f6c5-c2846e2eda88",
        "colab": {
          "base_uri": "https://localhost:8080/"
        }
      },
      "source": [
        "# Part 1\n",
        "from collections import deque\n",
        "test_input = deque([int(x) for x in '389125467'])\n",
        "test_input_map = {int(x): idx for idx, x in enumerate('389125467')}\n",
        "input = deque([int(x) for x in '247819356'])\n",
        "\n",
        "\n",
        "def play(test_input):\n",
        "  current = test_input[0]\n",
        "  test_input.rotate(-1)\n",
        "  next_three = []\n",
        "  for _ in range(3):\n",
        "    next_three.append(test_input.popleft())\n",
        "\n",
        "  test_input_map = {x: idx for idx, x in enumerate(test_input)}\n",
        "\n",
        "  dest = test_input_map.get(current - 1) or test_input_map.get(current - 2) or test_input_map.get(current - 3) or test_input_map.get(current - 4) or test_input.index(max(test_input_map))        \n",
        "  \n",
        "  if current > 4:\n",
        "    dest = test_input_map.get(current - 1) or test_input_map.get(current - 2) or test_input_map.get(current - 3) or test_input_map.get(current - 4) or test_input.index(max(test_input_map))        \n",
        "  elif current == 4:\n",
        "    dest = test_input_map.get(current - 1) or test_input_map.get(current - 2) or test_input_map.get(current - 3) or test_input.index(max(test_input_map))        \n",
        "  elif current == 3:\n",
        "    dest = test_input_map.get(current - 1) or test_input_map.get(current - 2) or test_input.index(max(test_input_map))        \n",
        "  elif current == 2:\n",
        "    dest = test_input_map.get(current - 1) or test_input.index(max(test_input_map))        \n",
        "  else:\n",
        "    dest = test_input.index(max(test_input_map))        \n",
        "\n",
        "  r = len(test_input) - dest - 1\n",
        "  test_input.rotate(r)  \n",
        "  test_input.extend(next_three)\n",
        "  test_input.rotate(-r)\n",
        "\n",
        "  return test_input\n",
        "\n",
        "for _ in range(100):\n",
        "  test_input = play(test_input)\n",
        "\n",
        "for _ in range(test_input.index(1)):\n",
        "  test_input.rotate(-1)\n",
        "print(''.join(map(str,(list(test_input)))))\n",
        "\n",
        "for _ in range(100):\n",
        "  input = play(input)\n",
        "\n",
        "for _ in range(input.index(1)):\n",
        "  input.rotate(-1)\n",
        "print(''.join(map(str,(list(input)))))\n",
        "\n",
        "# 167384529\n",
        "# 176385429"
      ],
      "execution_count": 17,
      "outputs": [
        {
          "output_type": "stream",
          "text": [
            "176329485\n",
            "195638742\n"
          ],
          "name": "stdout"
        }
      ]
    },
    {
      "cell_type": "code",
      "metadata": {
        "id": "au8IVN5LMsHf",
        "outputId": "bbc9e29b-1d86-443b-a672-d21c8f44de1a",
        "colab": {
          "base_uri": "https://localhost:8080/"
        }
      },
      "source": [
        "# Part 2\r\n",
        "from collections import deque\r\n",
        "from itertools import chain\r\n",
        "from functools import lru_cache\r\n",
        "test_input = tuple(chain([int(x) for x in '389125467'], list(range(10, 1000001))))\r\n",
        "input = deque([int(x) for x in '247819356'])\r\n",
        "\r\n",
        "@lru_cache(maxsize=None)\r\n",
        "def play(test_input):\r\n",
        "  test_input = deque(test_input)\r\n",
        "  current = test_input[0]\r\n",
        "  test_input.rotate(-1)\r\n",
        "  next_three = []\r\n",
        "  for _ in range(3):\r\n",
        "    next_three.append(test_input.popleft())\r\n",
        "\r\n",
        "  dest = test_input.index(max(test_input))\r\n",
        "  for n in range(current, 0, -1):\r\n",
        "    try:\r\n",
        "      dest = test_input.index(n - 1)\r\n",
        "      break\r\n",
        "    except:\r\n",
        "      continue\r\n",
        "\r\n",
        "  r = len(test_input) - dest - 1\r\n",
        "  test_input.rotate(r)  \r\n",
        "  test_input.extend(next_three)\r\n",
        "  test_input.rotate(-r)\r\n",
        "\r\n",
        "  return tuple(test_input)\r\n",
        "\r\n",
        "for c in range(10000000):\r\n",
        "  if c % 5000 == 0:\r\n",
        "    print(f'round {c}')\r\n",
        "  test_input = play(test_input)\r\n",
        "\r\n",
        "\r\n",
        "print(test_input[1])\r\n",
        "\r\n"
      ],
      "execution_count": null,
      "outputs": [
        {
          "output_type": "stream",
          "text": [
            "round 0\n"
          ],
          "name": "stdout"
        }
      ]
    },
    {
      "cell_type": "code",
      "metadata": {
        "id": "yQ4_kmTZNabN",
        "outputId": "97dbf090-87c8-4f10-dcb2-8e51cac59d99",
        "colab": {
          "base_uri": "https://localhost:8080/"
        }
      },
      "source": [
        "test_input"
      ],
      "execution_count": 124,
      "outputs": [
        {
          "output_type": "execute_result",
          "data": {
            "text/plain": [
              "deque([1, 4, 8, 9, 7, 3, 6, 2, 5])"
            ]
          },
          "metadata": {
            "tags": []
          },
          "execution_count": 124
        }
      ]
    },
    {
      "cell_type": "code",
      "metadata": {
        "id": "eSBfXohSoLfF"
      },
      "source": [
        "test_input.rotate(6)\r\n",
        "test_input.append(25)\r\n",
        "test_input.rotate(-6)"
      ],
      "execution_count": 125,
      "outputs": []
    },
    {
      "cell_type": "code",
      "metadata": {
        "id": "olKLzoy1pQLJ",
        "outputId": "bdee45c8-f398-4eca-b3a3-d835c6637734",
        "colab": {
          "base_uri": "https://localhost:8080/"
        }
      },
      "source": [
        "test_input"
      ],
      "execution_count": 126,
      "outputs": [
        {
          "output_type": "execute_result",
          "data": {
            "text/plain": [
              "deque([1, 4, 8, 25, 9, 7, 3, 6, 2, 5])"
            ]
          },
          "metadata": {
            "tags": []
          },
          "execution_count": 126
        }
      ]
    },
    {
      "cell_type": "code",
      "metadata": {
        "id": "-y9x9ag7xI-Y",
        "outputId": "9fecc55f-c7c9-4bcc-ebb2-b9b46fded150",
        "colab": {
          "base_uri": "https://localhost:8080/"
        }
      },
      "source": [
        "# Part 1\r\n",
        "from collections import deque\r\n",
        "test_input = [int(x) for x in '389125467']\r\n",
        "test_input_map = {int(x): idx for idx, x in enumerate('389125467')}\r\n",
        "input = [int(x) for x in '247819356']\r\n",
        "\r\n",
        "input_map = {x: idx for idx, x in enumerate(test_input)}\r\n",
        "\r\n",
        "def play(input, input_map):\r\n",
        "  \r\n",
        "  current = input[0]\r\n",
        "  next_three = input[1:4]\r\n",
        "  tail = input[4:]\r\n",
        "\r\n",
        "  for i in next_three:\r\n",
        "    del input_map[i]\r\n",
        "\r\n",
        "  dest = int()\r\n",
        "  \r\n",
        "  for n in range(current, 0, -1):\r\n",
        "    try:\r\n",
        "      dest = test_input.index(n - 1)\r\n",
        "      break\r\n",
        "    except:\r\n",
        "      continue       \r\n",
        "\r\n",
        "  for idx, i in enumerate(next_three):\r\n",
        "    input_map[i] = dest + 1 + idx\r\n",
        "\r\n",
        "  for i in tail[dest:]:\r\n",
        "    input_map[i] += 3\r\n",
        "\r\n",
        "  input_map[current] = len(input) - 1\r\n",
        "  return tail[:dest] + next_three + tail[dest:] + [current]\r\n",
        "\r\n",
        "for i in range(100):\r\n",
        "  test_input = play(test_input, test_input_map)\r\n",
        "\r\n",
        "\r\n",
        "print(''.join(map(str,(list(test_input)))))\r\n",
        "\r\n",
        "# for _ in range(100):\r\n",
        "#   input = play(input)\r\n",
        "\r\n",
        "\r\n",
        "# print(''.join(map(str,(list(input)))))\r\n",
        "\r\n",
        "# 167384529\r\n",
        "# 176385429"
      ],
      "execution_count": 14,
      "outputs": [
        {
          "output_type": "stream",
          "text": [
            "217385469\n"
          ],
          "name": "stdout"
        }
      ]
    },
    {
      "cell_type": "code",
      "metadata": {
        "id": "4DECfiNdFiFU"
      },
      "source": [
        ""
      ],
      "execution_count": null,
      "outputs": []
    }
  ]
}